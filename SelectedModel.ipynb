{
 "cells": [
  {
   "cell_type": "code",
   "execution_count": 38,
   "metadata": {
    "colab": {
     "base_uri": "https://localhost:8080/"
    },
    "executionInfo": {
     "elapsed": 21570,
     "status": "ok",
     "timestamp": 1631174376268,
     "user": {
      "displayName": "Shilpa Garg",
      "photoUrl": "",
      "userId": "12607333565625535618"
     },
     "user_tz": -330
    },
    "id": "lrvmBL0x0bVl",
    "outputId": "1eb592a5-015d-4938-89d8-01bf4a742ef9"
   },
   "outputs": [],
   "source": [
    "#from google.colab import drive\n",
    "#drive.mount('/content/gdrive')"
   ]
  },
  {
   "cell_type": "code",
   "execution_count": 39,
   "metadata": {
    "executionInfo": {
     "elapsed": 1021,
     "status": "ok",
     "timestamp": 1631174379146,
     "user": {
      "displayName": "Shilpa Garg",
      "photoUrl": "",
      "userId": "12607333565625535618"
     },
     "user_tz": -330
    },
    "id": "gQJbS8Xk0L8F"
   },
   "outputs": [],
   "source": [
    "import pandas as pd\n",
    "import seaborn as sns"
   ]
  },
  {
   "cell_type": "markdown",
   "metadata": {
    "id": "hUMbv8AVpOf8"
   },
   "source": [
    "# Reading the dataset"
   ]
  },
  {
   "cell_type": "code",
   "execution_count": 40,
   "metadata": {
    "executionInfo": {
     "elapsed": 1623,
     "status": "ok",
     "timestamp": 1631174392102,
     "user": {
      "displayName": "Shilpa Garg",
      "photoUrl": "",
      "userId": "12607333565625535618"
     },
     "user_tz": -330
    },
    "id": "DvSJvoNw0SqH"
   },
   "outputs": [],
   "source": [
    "#df=pd.read_csv('/content/gdrive/MyDrive/MyCapstone (1)/data/sample30.csv')\n",
    "df=pd.read_csv('data/sample30.csv')"
   ]
  },
  {
   "cell_type": "code",
   "execution_count": 41,
   "metadata": {
    "colab": {
     "base_uri": "https://localhost:8080/",
     "height": 598
    },
    "executionInfo": {
     "elapsed": 381,
     "status": "ok",
     "timestamp": 1631174394803,
     "user": {
      "displayName": "Shilpa Garg",
      "photoUrl": "",
      "userId": "12607333565625535618"
     },
     "user_tz": -330
    },
    "id": "m_ZZH6Oa0UM4",
    "outputId": "c21189d2-b03a-45b5-b99f-e92f3c241d90"
   },
   "outputs": [
    {
     "name": "stdout",
     "output_type": "stream",
     "text": [
      "(30000, 15)\n"
     ]
    },
    {
     "data": {
      "text/html": [
       "<div>\n",
       "<style scoped>\n",
       "    .dataframe tbody tr th:only-of-type {\n",
       "        vertical-align: middle;\n",
       "    }\n",
       "\n",
       "    .dataframe tbody tr th {\n",
       "        vertical-align: top;\n",
       "    }\n",
       "\n",
       "    .dataframe thead th {\n",
       "        text-align: right;\n",
       "    }\n",
       "</style>\n",
       "<table border=\"1\" class=\"dataframe\">\n",
       "  <thead>\n",
       "    <tr style=\"text-align: right;\">\n",
       "      <th></th>\n",
       "      <th>id</th>\n",
       "      <th>brand</th>\n",
       "      <th>categories</th>\n",
       "      <th>manufacturer</th>\n",
       "      <th>name</th>\n",
       "      <th>reviews_date</th>\n",
       "      <th>reviews_didPurchase</th>\n",
       "      <th>reviews_doRecommend</th>\n",
       "      <th>reviews_rating</th>\n",
       "      <th>reviews_text</th>\n",
       "      <th>reviews_title</th>\n",
       "      <th>reviews_userCity</th>\n",
       "      <th>reviews_userProvince</th>\n",
       "      <th>reviews_username</th>\n",
       "      <th>user_sentiment</th>\n",
       "    </tr>\n",
       "  </thead>\n",
       "  <tbody>\n",
       "    <tr>\n",
       "      <th>0</th>\n",
       "      <td>AV13O1A8GV-KLJ3akUyj</td>\n",
       "      <td>Universal Music</td>\n",
       "      <td>Movies, Music &amp; Books,Music,R&amp;b,Movies &amp; TV,Mo...</td>\n",
       "      <td>Universal Music Group / Cash Money</td>\n",
       "      <td>Pink Friday: Roman Reloaded Re-Up (w/dvd)</td>\n",
       "      <td>2012-11-30T06:21:45.000Z</td>\n",
       "      <td>NaN</td>\n",
       "      <td>NaN</td>\n",
       "      <td>5</td>\n",
       "      <td>i love this album. it's very good. more to the...</td>\n",
       "      <td>Just Awesome</td>\n",
       "      <td>Los Angeles</td>\n",
       "      <td>NaN</td>\n",
       "      <td>joshua</td>\n",
       "      <td>Positive</td>\n",
       "    </tr>\n",
       "    <tr>\n",
       "      <th>1</th>\n",
       "      <td>AV14LG0R-jtxr-f38QfS</td>\n",
       "      <td>Lundberg</td>\n",
       "      <td>Food,Packaged Foods,Snacks,Crackers,Snacks, Co...</td>\n",
       "      <td>Lundberg</td>\n",
       "      <td>Lundberg Organic Cinnamon Toast Rice Cakes</td>\n",
       "      <td>2017-07-09T00:00:00.000Z</td>\n",
       "      <td>True</td>\n",
       "      <td>NaN</td>\n",
       "      <td>5</td>\n",
       "      <td>Good flavor. This review was collected as part...</td>\n",
       "      <td>Good</td>\n",
       "      <td>NaN</td>\n",
       "      <td>NaN</td>\n",
       "      <td>dorothy w</td>\n",
       "      <td>Positive</td>\n",
       "    </tr>\n",
       "    <tr>\n",
       "      <th>2</th>\n",
       "      <td>AV14LG0R-jtxr-f38QfS</td>\n",
       "      <td>Lundberg</td>\n",
       "      <td>Food,Packaged Foods,Snacks,Crackers,Snacks, Co...</td>\n",
       "      <td>Lundberg</td>\n",
       "      <td>Lundberg Organic Cinnamon Toast Rice Cakes</td>\n",
       "      <td>2017-07-09T00:00:00.000Z</td>\n",
       "      <td>True</td>\n",
       "      <td>NaN</td>\n",
       "      <td>5</td>\n",
       "      <td>Good flavor.</td>\n",
       "      <td>Good</td>\n",
       "      <td>NaN</td>\n",
       "      <td>NaN</td>\n",
       "      <td>dorothy w</td>\n",
       "      <td>Positive</td>\n",
       "    </tr>\n",
       "    <tr>\n",
       "      <th>3</th>\n",
       "      <td>AV16khLE-jtxr-f38VFn</td>\n",
       "      <td>K-Y</td>\n",
       "      <td>Personal Care,Medicine Cabinet,Lubricant/Sperm...</td>\n",
       "      <td>K-Y</td>\n",
       "      <td>K-Y Love Sensuality Pleasure Gel</td>\n",
       "      <td>2016-01-06T00:00:00.000Z</td>\n",
       "      <td>False</td>\n",
       "      <td>False</td>\n",
       "      <td>1</td>\n",
       "      <td>I read through the reviews on here before look...</td>\n",
       "      <td>Disappointed</td>\n",
       "      <td>NaN</td>\n",
       "      <td>NaN</td>\n",
       "      <td>rebecca</td>\n",
       "      <td>Negative</td>\n",
       "    </tr>\n",
       "    <tr>\n",
       "      <th>4</th>\n",
       "      <td>AV16khLE-jtxr-f38VFn</td>\n",
       "      <td>K-Y</td>\n",
       "      <td>Personal Care,Medicine Cabinet,Lubricant/Sperm...</td>\n",
       "      <td>K-Y</td>\n",
       "      <td>K-Y Love Sensuality Pleasure Gel</td>\n",
       "      <td>2016-12-21T00:00:00.000Z</td>\n",
       "      <td>False</td>\n",
       "      <td>False</td>\n",
       "      <td>1</td>\n",
       "      <td>My husband bought this gel for us. The gel cau...</td>\n",
       "      <td>Irritation</td>\n",
       "      <td>NaN</td>\n",
       "      <td>NaN</td>\n",
       "      <td>walker557</td>\n",
       "      <td>Negative</td>\n",
       "    </tr>\n",
       "  </tbody>\n",
       "</table>\n",
       "</div>"
      ],
      "text/plain": [
       "                     id            brand  \\\n",
       "0  AV13O1A8GV-KLJ3akUyj  Universal Music   \n",
       "1  AV14LG0R-jtxr-f38QfS         Lundberg   \n",
       "2  AV14LG0R-jtxr-f38QfS         Lundberg   \n",
       "3  AV16khLE-jtxr-f38VFn              K-Y   \n",
       "4  AV16khLE-jtxr-f38VFn              K-Y   \n",
       "\n",
       "                                          categories  \\\n",
       "0  Movies, Music & Books,Music,R&b,Movies & TV,Mo...   \n",
       "1  Food,Packaged Foods,Snacks,Crackers,Snacks, Co...   \n",
       "2  Food,Packaged Foods,Snacks,Crackers,Snacks, Co...   \n",
       "3  Personal Care,Medicine Cabinet,Lubricant/Sperm...   \n",
       "4  Personal Care,Medicine Cabinet,Lubricant/Sperm...   \n",
       "\n",
       "                         manufacturer  \\\n",
       "0  Universal Music Group / Cash Money   \n",
       "1                            Lundberg   \n",
       "2                            Lundberg   \n",
       "3                                 K-Y   \n",
       "4                                 K-Y   \n",
       "\n",
       "                                         name              reviews_date  \\\n",
       "0   Pink Friday: Roman Reloaded Re-Up (w/dvd)  2012-11-30T06:21:45.000Z   \n",
       "1  Lundberg Organic Cinnamon Toast Rice Cakes  2017-07-09T00:00:00.000Z   \n",
       "2  Lundberg Organic Cinnamon Toast Rice Cakes  2017-07-09T00:00:00.000Z   \n",
       "3            K-Y Love Sensuality Pleasure Gel  2016-01-06T00:00:00.000Z   \n",
       "4            K-Y Love Sensuality Pleasure Gel  2016-12-21T00:00:00.000Z   \n",
       "\n",
       "  reviews_didPurchase reviews_doRecommend  reviews_rating  \\\n",
       "0                 NaN                 NaN               5   \n",
       "1                True                 NaN               5   \n",
       "2                True                 NaN               5   \n",
       "3               False               False               1   \n",
       "4               False               False               1   \n",
       "\n",
       "                                        reviews_text reviews_title  \\\n",
       "0  i love this album. it's very good. more to the...  Just Awesome   \n",
       "1  Good flavor. This review was collected as part...          Good   \n",
       "2                                       Good flavor.          Good   \n",
       "3  I read through the reviews on here before look...  Disappointed   \n",
       "4  My husband bought this gel for us. The gel cau...    Irritation   \n",
       "\n",
       "  reviews_userCity reviews_userProvince reviews_username user_sentiment  \n",
       "0      Los Angeles                  NaN           joshua       Positive  \n",
       "1              NaN                  NaN        dorothy w       Positive  \n",
       "2              NaN                  NaN        dorothy w       Positive  \n",
       "3              NaN                  NaN          rebecca       Negative  \n",
       "4              NaN                  NaN        walker557       Negative  "
      ]
     },
     "execution_count": 41,
     "metadata": {},
     "output_type": "execute_result"
    }
   ],
   "source": [
    "print(df.shape)\n",
    "df.head()"
   ]
  },
  {
   "cell_type": "code",
   "execution_count": 42,
   "metadata": {
    "executionInfo": {
     "elapsed": 388,
     "status": "ok",
     "timestamp": 1631174439808,
     "user": {
      "displayName": "Shilpa Garg",
      "photoUrl": "",
      "userId": "12607333565625535618"
     },
     "user_tz": -330
    },
    "id": "-462_8U1ko5y"
   },
   "outputs": [],
   "source": [
    "df.reviews_title = df.reviews_title.fillna('')\n",
    "df = df[df['user_sentiment'].notna()]"
   ]
  },
  {
   "cell_type": "code",
   "execution_count": 43,
   "metadata": {
    "executionInfo": {
     "elapsed": 639,
     "status": "ok",
     "timestamp": 1631174406773,
     "user": {
      "displayName": "Shilpa Garg",
      "photoUrl": "",
      "userId": "12607333565625535618"
     },
     "user_tz": -330
    },
    "id": "tYQ5rZZ3anbA"
   },
   "outputs": [],
   "source": [
    "from sklearn.model_selection import cross_val_score\n",
    "from scipy.sparse import hstack\n",
    "from sklearn.feature_extraction.text import TfidfVectorizer"
   ]
  },
  {
   "cell_type": "code",
   "execution_count": 44,
   "metadata": {
    "executionInfo": {
     "elapsed": 525,
     "status": "ok",
     "timestamp": 1631174478649,
     "user": {
      "displayName": "Shilpa Garg",
      "photoUrl": "",
      "userId": "12607333565625535618"
     },
     "user_tz": -330
    },
    "id": "TDd6UjOEa_yY"
   },
   "outputs": [],
   "source": [
    "all_text=df['reviews_title']+\" \"+df['reviews_text']\n",
    "y=df['user_sentiment']"
   ]
  },
  {
   "cell_type": "code",
   "execution_count": 45,
   "metadata": {
    "executionInfo": {
     "elapsed": 1854,
     "status": "ok",
     "timestamp": 1631174481141,
     "user": {
      "displayName": "Shilpa Garg",
      "photoUrl": "",
      "userId": "12607333565625535618"
     },
     "user_tz": -330
    },
    "id": "kHCp0pRCbE2K"
   },
   "outputs": [],
   "source": [
    "word_vectorizer = TfidfVectorizer(\n",
    "    sublinear_tf=True,\n",
    "    strip_accents='unicode',\n",
    "    analyzer='word',\n",
    "    token_pattern=r'\\w{1,}',\n",
    "    stop_words='english',\n",
    "    ngram_range=(1, 1),\n",
    "    max_features=10000)\n",
    "word_vectorizer.fit(all_text)\n",
    "train_word_features = word_vectorizer.transform(all_text)"
   ]
  },
  {
   "cell_type": "code",
   "execution_count": 46,
   "metadata": {
    "colab": {
     "base_uri": "https://localhost:8080/"
    },
    "executionInfo": {
     "elapsed": 60215,
     "status": "ok",
     "timestamp": 1631174541351,
     "user": {
      "displayName": "Shilpa Garg",
      "photoUrl": "",
      "userId": "12607333565625535618"
     },
     "user_tz": -330
    },
    "id": "A6YJ02vmbH6g",
    "outputId": "9796566a-f6cd-435f-9dff-bf554f5eac6c"
   },
   "outputs": [],
   "source": [
    "#char_vectorizer = TfidfVectorizer(\n",
    "#    sublinear_tf=True,\n",
    "#    strip_accents='unicode',\n",
    "#    analyzer='char',\n",
    "#    stop_words='english',\n",
    "#    ngram_range=(2, 6),\n",
    "#    max_features=50000)\n",
    "#char_vectorizer.fit(all_text)\n",
    "#train_char_features = char_vectorizer.transform(all_text)\n",
    "\n",
    "#train_features = hstack([train_char_features, train_word_features])\n",
    "train_features = train_word_features"
   ]
  },
  {
   "cell_type": "markdown",
   "metadata": {
    "id": "qmDcUIytk6it"
   },
   "source": [
    "Dividing test and train data set"
   ]
  },
  {
   "cell_type": "code",
   "execution_count": 47,
   "metadata": {
    "executionInfo": {
     "elapsed": 14,
     "status": "ok",
     "timestamp": 1631174542724,
     "user": {
      "displayName": "Shilpa Garg",
      "photoUrl": "",
      "userId": "12607333565625535618"
     },
     "user_tz": -330
    },
    "id": "E28S3Kt6000N"
   },
   "outputs": [],
   "source": [
    "from sklearn.model_selection import train_test_split"
   ]
  },
  {
   "cell_type": "code",
   "execution_count": 48,
   "metadata": {
    "executionInfo": {
     "elapsed": 1810,
     "status": "ok",
     "timestamp": 1631174544524,
     "user": {
      "displayName": "Shilpa Garg",
      "photoUrl": "",
      "userId": "12607333565625535618"
     },
     "user_tz": -330
    },
    "id": "aciljM6S05qJ"
   },
   "outputs": [],
   "source": [
    "X_train, X_test, y_train, y_test = train_test_split(train_features, y,test_size=0.3,random_state=101)"
   ]
  },
  {
   "cell_type": "markdown",
   "metadata": {
    "id": "qlg308X6pUnO"
   },
   "source": [
    "# Creating the Logistic Regression Model"
   ]
  },
  {
   "cell_type": "code",
   "execution_count": 49,
   "metadata": {
    "executionInfo": {
     "elapsed": 453,
     "status": "ok",
     "timestamp": 1631174547438,
     "user": {
      "displayName": "Shilpa Garg",
      "photoUrl": "",
      "userId": "12607333565625535618"
     },
     "user_tz": -330
    },
    "id": "ne_TErbS1KxD"
   },
   "outputs": [],
   "source": [
    "from sklearn.linear_model import LogisticRegression\n",
    "from sklearn.metrics import *"
   ]
  },
  {
   "cell_type": "code",
   "execution_count": 50,
   "metadata": {
    "colab": {
     "base_uri": "https://localhost:8080/"
    },
    "executionInfo": {
     "elapsed": 10066,
     "status": "ok",
     "timestamp": 1631174592882,
     "user": {
      "displayName": "Shilpa Garg",
      "photoUrl": "",
      "userId": "12607333565625535618"
     },
     "user_tz": -330
    },
    "id": "wVrk9kSz1PVA",
    "outputId": "4bd4dcd6-cab0-4069-92e7-e61e3906d0df"
   },
   "outputs": [
    {
     "name": "stdout",
     "output_type": "stream",
     "text": [
      "Logistic regression model accuracy :  91.04 %\n",
      "\n",
      "              precision    recall  f1-score   support\n",
      "\n",
      "    Negative       0.82      0.23      0.36       986\n",
      "    Positive       0.91      0.99      0.95      8014\n",
      "\n",
      "    accuracy                           0.91      9000\n",
      "   macro avg       0.87      0.61      0.66      9000\n",
      "weighted avg       0.90      0.91      0.89      9000\n",
      "\n"
     ]
    }
   ],
   "source": [
    "clf = LogisticRegression().fit(X_train, y_train)\n",
    "clf_pred = clf.predict(X_test)\n",
    "accuracy = clf.score(X_test, y_test)\n",
    "model_performance = classification_report(y_test, clf_pred)\n",
    "print(\"Logistic regression model accuracy : \",round((accuracy*100),2),\"%\")\n",
    "print('')\n",
    "print(model_performance)"
   ]
  },
  {
   "cell_type": "markdown",
   "metadata": {
    "id": "0Os_s5LIpheW"
   },
   "source": [
    "# Saving the Logistic Regression Model as pkl file "
   ]
  },
  {
   "cell_type": "code",
   "execution_count": 51,
   "metadata": {
    "colab": {
     "base_uri": "https://localhost:8080/"
    },
    "executionInfo": {
     "elapsed": 359,
     "status": "ok",
     "timestamp": 1631174674334,
     "user": {
      "displayName": "Shilpa Garg",
      "photoUrl": "",
      "userId": "12607333565625535618"
     },
     "user_tz": -330
    },
    "id": "M191E2Qm1Svt",
    "outputId": "322de35d-e878-4bf9-bf9a-3468ad748e71"
   },
   "outputs": [
    {
     "data": {
      "text/plain": [
       "['models/sentiment_analysis.pkl']"
      ]
     },
     "execution_count": 51,
     "metadata": {},
     "output_type": "execute_result"
    }
   ],
   "source": [
    "# Save the Model\n",
    "import joblib\n",
    "import sklearn.externals\n",
    "\n",
    "# Save the model as a pickle in a file \n",
    "#joblib.dump(clf, '/content/gdrive/MyDrive/MyCapstone (1)/models/sentiment_analysis.pkl') \n",
    "joblib.dump(clf, 'models/sentiment_analysis.pkl') "
   ]
  },
  {
   "cell_type": "code",
   "execution_count": 52,
   "metadata": {
    "executionInfo": {
     "elapsed": 55,
     "status": "ok",
     "timestamp": 1631096994922,
     "user": {
      "displayName": "Shilpa Garg",
      "photoUrl": "",
      "userId": "12607333565625535618"
     },
     "user_tz": -330
    },
    "id": "T1g8z5W81rLi"
   },
   "outputs": [],
   "source": [
    "#print(train_features)\n",
    "#print(train_features.shape)"
   ]
  },
  {
   "cell_type": "markdown",
   "metadata": {
    "id": "YMoI79BDlx_Q"
   },
   "source": [
    "Logistic Regression model is saved as sentiment_analysis.pkl file"
   ]
  },
  {
   "cell_type": "code",
   "execution_count": null,
   "metadata": {
    "executionInfo": {
     "elapsed": 54,
     "status": "ok",
     "timestamp": 1631096994924,
     "user": {
      "displayName": "Shilpa Garg",
      "photoUrl": "",
      "userId": "12607333565625535618"
     },
     "user_tz": -330
    },
    "id": "ItGzqwck1mlV"
   },
   "outputs": [],
   "source": []
  }
 ],
 "metadata": {
  "colab": {
   "authorship_tag": "ABX9TyPZJXByNuKe2FPO2WemDLXK",
   "collapsed_sections": [],
   "name": "SelectedModel.ipynb",
   "provenance": [],
   "toc_visible": true
  },
  "kernelspec": {
   "display_name": "Python 3",
   "language": "python",
   "name": "python3"
  },
  "language_info": {
   "codemirror_mode": {
    "name": "ipython",
    "version": 3
   },
   "file_extension": ".py",
   "mimetype": "text/x-python",
   "name": "python",
   "nbconvert_exporter": "python",
   "pygments_lexer": "ipython3",
   "version": "3.8.8"
  }
 },
 "nbformat": 4,
 "nbformat_minor": 1
}
