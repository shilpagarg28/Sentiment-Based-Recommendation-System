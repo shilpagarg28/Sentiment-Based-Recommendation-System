{
 "cells": [
  {
   "cell_type": "markdown",
   "metadata": {
    "id": "fBjeg1-enV_f"
   },
   "source": [
    "# Product Recommendation System.\n",
    "In this notebook I am building two types of recommendation systems.\n",
    "\n",
    "User-based recommendation system\n",
    "Item-based recommendation system\n",
    "One recommendation system is selected based upon the performance of both models."
   ]
  },
  {
   "cell_type": "code",
   "execution_count": 3,
   "metadata": {
    "colab": {
     "base_uri": "https://localhost:8080/"
    },
    "executionInfo": {
     "elapsed": 633,
     "status": "ok",
     "timestamp": 1631269898119,
     "user": {
      "displayName": "Shilpa Garg",
      "photoUrl": "https://lh3.googleusercontent.com/a/default-user=s64",
      "userId": "12607333565625535618"
     },
     "user_tz": -330
    },
    "id": "z2TUiBjCKxCJ",
    "outputId": "2af4449c-de61-40d1-d0a3-983040a7b264"
   },
   "outputs": [
    {
     "name": "stdout",
     "output_type": "stream",
     "text": [
      "Recommnedation System\n"
     ]
    }
   ],
   "source": [
    "print(\"Recommnedation System\")"
   ]
  },
  {
   "cell_type": "code",
   "execution_count": 4,
   "metadata": {
    "colab": {
     "base_uri": "https://localhost:8080/"
    },
    "executionInfo": {
     "elapsed": 26409,
     "status": "ok",
     "timestamp": 1631269925505,
     "user": {
      "displayName": "Shilpa Garg",
      "photoUrl": "https://lh3.googleusercontent.com/a/default-user=s64",
      "userId": "12607333565625535618"
     },
     "user_tz": -330
    },
    "id": "1F1wrj_yLHZU",
    "outputId": "4cd91849-3477-4276-a359-5c1a3834a48a"
   },
   "outputs": [],
   "source": [
    "#from google.colab import drive\n",
    "#drive.mount('/content/gdrive')"
   ]
  },
  {
   "cell_type": "code",
   "execution_count": 5,
   "metadata": {
    "executionInfo": {
     "elapsed": 6,
     "status": "ok",
     "timestamp": 1631269925506,
     "user": {
      "displayName": "Shilpa Garg",
      "photoUrl": "https://lh3.googleusercontent.com/a/default-user=s64",
      "userId": "12607333565625535618"
     },
     "user_tz": -330
    },
    "id": "eEAirfgaLC-i"
   },
   "outputs": [],
   "source": [
    "import pandas as pd\n",
    "import numpy as np\n",
    "import seaborn as sns"
   ]
  },
  {
   "cell_type": "markdown",
   "metadata": {
    "id": "wkpeQrICnlUL"
   },
   "source": [
    "# Reading the dataset"
   ]
  },
  {
   "cell_type": "code",
   "execution_count": 6,
   "metadata": {
    "colab": {
     "base_uri": "https://localhost:8080/"
    },
    "executionInfo": {
     "elapsed": 1188,
     "status": "ok",
     "timestamp": 1631269927568,
     "user": {
      "displayName": "Shilpa Garg",
      "photoUrl": "https://lh3.googleusercontent.com/a/default-user=s64",
      "userId": "12607333565625535618"
     },
     "user_tz": -330
    },
    "id": "hFqbNav5K3k1",
    "outputId": "8ce33030-7596-4c56-e26e-4d7d30503f4e"
   },
   "outputs": [
    {
     "data": {
      "text/plain": [
       "(30000, 15)"
      ]
     },
     "execution_count": 6,
     "metadata": {},
     "output_type": "execute_result"
    }
   ],
   "source": [
    "#df_org=pd.read_csv('/content/gdrive/MyDrive/MyCapstone (1)/data/sample30.csv')\n",
    "df_org=pd.read_csv('data/sample30.csv')\n",
    "df_org.shape"
   ]
  },
  {
   "cell_type": "markdown",
   "metadata": {
    "id": "PJX4Sjc7n6ES"
   },
   "source": [
    "We require only 3 columns to build our recommendation system\n",
    "1. id\n",
    "2. reviews_username\n",
    "3. reviews_rating"
   ]
  },
  {
   "cell_type": "code",
   "execution_count": 7,
   "metadata": {
    "executionInfo": {
     "elapsed": 67,
     "status": "ok",
     "timestamp": 1631269927572,
     "user": {
      "displayName": "Shilpa Garg",
      "photoUrl": "https://lh3.googleusercontent.com/a/default-user=s64",
      "userId": "12607333565625535618"
     },
     "user_tz": -330
    },
    "id": "qkoAN7SiLAaV"
   },
   "outputs": [],
   "source": [
    "df = df_org[['id','reviews_username','reviews_rating']]"
   ]
  },
  {
   "cell_type": "markdown",
   "metadata": {
    "id": "J0ykrsi5ohcS"
   },
   "source": [
    "# Data Analysis"
   ]
  },
  {
   "cell_type": "code",
   "execution_count": 8,
   "metadata": {
    "colab": {
     "base_uri": "https://localhost:8080/"
    },
    "executionInfo": {
     "elapsed": 68,
     "status": "ok",
     "timestamp": 1631269927574,
     "user": {
      "displayName": "Shilpa Garg",
      "photoUrl": "https://lh3.googleusercontent.com/a/default-user=s64",
      "userId": "12607333565625535618"
     },
     "user_tz": -330
    },
    "id": "f6CAyNdbMnmu",
    "outputId": "a63dea88-1602-4a6b-bdd5-ded56703aa49"
   },
   "outputs": [
    {
     "data": {
      "text/plain": [
       "(30000, 3)"
      ]
     },
     "execution_count": 8,
     "metadata": {},
     "output_type": "execute_result"
    }
   ],
   "source": [
    "df.shape"
   ]
  },
  {
   "cell_type": "code",
   "execution_count": 9,
   "metadata": {
    "colab": {
     "base_uri": "https://localhost:8080/"
    },
    "executionInfo": {
     "elapsed": 64,
     "status": "ok",
     "timestamp": 1631269927575,
     "user": {
      "displayName": "Shilpa Garg",
      "photoUrl": "https://lh3.googleusercontent.com/a/default-user=s64",
      "userId": "12607333565625535618"
     },
     "user_tz": -330
    },
    "id": "c23zRBIZNIm4",
    "outputId": "9884e265-fa77-4b64-b75a-2a9e450d7ed0"
   },
   "outputs": [
    {
     "name": "stdout",
     "output_type": "stream",
     "text": [
      "<class 'pandas.core.frame.DataFrame'>\n",
      "RangeIndex: 30000 entries, 0 to 29999\n",
      "Data columns (total 3 columns):\n",
      " #   Column            Non-Null Count  Dtype \n",
      "---  ------            --------------  ----- \n",
      " 0   id                30000 non-null  object\n",
      " 1   reviews_username  29937 non-null  object\n",
      " 2   reviews_rating    30000 non-null  int64 \n",
      "dtypes: int64(1), object(2)\n",
      "memory usage: 703.2+ KB\n"
     ]
    }
   ],
   "source": [
    "df.info()"
   ]
  },
  {
   "cell_type": "code",
   "execution_count": 10,
   "metadata": {
    "colab": {
     "base_uri": "https://localhost:8080/",
     "height": 204
    },
    "executionInfo": {
     "elapsed": 60,
     "status": "ok",
     "timestamp": 1631269927577,
     "user": {
      "displayName": "Shilpa Garg",
      "photoUrl": "https://lh3.googleusercontent.com/a/default-user=s64",
      "userId": "12607333565625535618"
     },
     "user_tz": -330
    },
    "id": "oty7k7mCNKPP",
    "outputId": "fa284383-41e7-49ba-dbf8-21baf98f7948"
   },
   "outputs": [
    {
     "data": {
      "text/html": [
       "<div>\n",
       "<style scoped>\n",
       "    .dataframe tbody tr th:only-of-type {\n",
       "        vertical-align: middle;\n",
       "    }\n",
       "\n",
       "    .dataframe tbody tr th {\n",
       "        vertical-align: top;\n",
       "    }\n",
       "\n",
       "    .dataframe thead th {\n",
       "        text-align: right;\n",
       "    }\n",
       "</style>\n",
       "<table border=\"1\" class=\"dataframe\">\n",
       "  <thead>\n",
       "    <tr style=\"text-align: right;\">\n",
       "      <th></th>\n",
       "      <th>id</th>\n",
       "      <th>reviews_username</th>\n",
       "      <th>reviews_rating</th>\n",
       "    </tr>\n",
       "  </thead>\n",
       "  <tbody>\n",
       "    <tr>\n",
       "      <th>0</th>\n",
       "      <td>AV13O1A8GV-KLJ3akUyj</td>\n",
       "      <td>joshua</td>\n",
       "      <td>5</td>\n",
       "    </tr>\n",
       "    <tr>\n",
       "      <th>1</th>\n",
       "      <td>AV14LG0R-jtxr-f38QfS</td>\n",
       "      <td>dorothy w</td>\n",
       "      <td>5</td>\n",
       "    </tr>\n",
       "    <tr>\n",
       "      <th>2</th>\n",
       "      <td>AV14LG0R-jtxr-f38QfS</td>\n",
       "      <td>dorothy w</td>\n",
       "      <td>5</td>\n",
       "    </tr>\n",
       "    <tr>\n",
       "      <th>3</th>\n",
       "      <td>AV16khLE-jtxr-f38VFn</td>\n",
       "      <td>rebecca</td>\n",
       "      <td>1</td>\n",
       "    </tr>\n",
       "    <tr>\n",
       "      <th>4</th>\n",
       "      <td>AV16khLE-jtxr-f38VFn</td>\n",
       "      <td>walker557</td>\n",
       "      <td>1</td>\n",
       "    </tr>\n",
       "  </tbody>\n",
       "</table>\n",
       "</div>"
      ],
      "text/plain": [
       "                     id reviews_username  reviews_rating\n",
       "0  AV13O1A8GV-KLJ3akUyj           joshua               5\n",
       "1  AV14LG0R-jtxr-f38QfS        dorothy w               5\n",
       "2  AV14LG0R-jtxr-f38QfS        dorothy w               5\n",
       "3  AV16khLE-jtxr-f38VFn          rebecca               1\n",
       "4  AV16khLE-jtxr-f38VFn        walker557               1"
      ]
     },
     "execution_count": 10,
     "metadata": {},
     "output_type": "execute_result"
    }
   ],
   "source": [
    "df.head()"
   ]
  },
  {
   "cell_type": "code",
   "execution_count": 11,
   "metadata": {
    "colab": {
     "base_uri": "https://localhost:8080/"
    },
    "executionInfo": {
     "elapsed": 60,
     "status": "ok",
     "timestamp": 1631269927578,
     "user": {
      "displayName": "Shilpa Garg",
      "photoUrl": "https://lh3.googleusercontent.com/a/default-user=s64",
      "userId": "12607333565625535618"
     },
     "user_tz": -330
    },
    "id": "h9bBccYJNK-V",
    "outputId": "763854a1-1e54-4893-d667-ff34cc5e6b15"
   },
   "outputs": [
    {
     "data": {
      "text/plain": [
       "271"
      ]
     },
     "execution_count": 11,
     "metadata": {},
     "output_type": "execute_result"
    }
   ],
   "source": [
    "df.id.nunique()"
   ]
  },
  {
   "cell_type": "code",
   "execution_count": 12,
   "metadata": {
    "colab": {
     "base_uri": "https://localhost:8080/"
    },
    "executionInfo": {
     "elapsed": 56,
     "status": "ok",
     "timestamp": 1631269927579,
     "user": {
      "displayName": "Shilpa Garg",
      "photoUrl": "https://lh3.googleusercontent.com/a/default-user=s64",
      "userId": "12607333565625535618"
     },
     "user_tz": -330
    },
    "id": "wv3Kdxm-NS4E",
    "outputId": "9a900b9a-570e-424a-9abf-c6d2549d9dec"
   },
   "outputs": [
    {
     "data": {
      "text/plain": [
       "24914"
      ]
     },
     "execution_count": 12,
     "metadata": {},
     "output_type": "execute_result"
    }
   ],
   "source": [
    "df.reviews_username.nunique()"
   ]
  },
  {
   "cell_type": "markdown",
   "metadata": {
    "id": "9uK28RybouyR"
   },
   "source": [
    "## Data Cleaning"
   ]
  },
  {
   "cell_type": "code",
   "execution_count": 13,
   "metadata": {
    "executionInfo": {
     "elapsed": 51,
     "status": "ok",
     "timestamp": 1631269927580,
     "user": {
      "displayName": "Shilpa Garg",
      "photoUrl": "https://lh3.googleusercontent.com/a/default-user=s64",
      "userId": "12607333565625535618"
     },
     "user_tz": -330
    },
    "id": "2PVg0Z69rYhl"
   },
   "outputs": [],
   "source": [
    "# Dropping rows where username is missing\n",
    "df_user = df.dropna()"
   ]
  },
  {
   "cell_type": "code",
   "execution_count": 14,
   "metadata": {
    "colab": {
     "base_uri": "https://localhost:8080/"
    },
    "executionInfo": {
     "elapsed": 52,
     "status": "ok",
     "timestamp": 1631269927581,
     "user": {
      "displayName": "Shilpa Garg",
      "photoUrl": "https://lh3.googleusercontent.com/a/default-user=s64",
      "userId": "12607333565625535618"
     },
     "user_tz": -330
    },
    "id": "dNaUDyswrzey",
    "outputId": "90da815a-a809-4b2e-869b-31acff3a4569"
   },
   "outputs": [
    {
     "data": {
      "text/plain": [
       "(29937, 3)"
      ]
     },
     "execution_count": 14,
     "metadata": {},
     "output_type": "execute_result"
    }
   ],
   "source": [
    "df_user.shape"
   ]
  },
  {
   "cell_type": "markdown",
   "metadata": {
    "id": "_p4En46Go-HB"
   },
   "source": [
    "## Handling duplicate data"
   ]
  },
  {
   "cell_type": "code",
   "execution_count": 15,
   "metadata": {
    "colab": {
     "base_uri": "https://localhost:8080/",
     "height": 419
    },
    "executionInfo": {
     "elapsed": 48,
     "status": "ok",
     "timestamp": 1631269927582,
     "user": {
      "displayName": "Shilpa Garg",
      "photoUrl": "https://lh3.googleusercontent.com/a/default-user=s64",
      "userId": "12607333565625535618"
     },
     "user_tz": -330
    },
    "id": "mOLrQjNwzKr9",
    "outputId": "95533822-ea00-4cde-ba2d-586d4c0c4719"
   },
   "outputs": [
    {
     "data": {
      "text/html": [
       "<div>\n",
       "<style scoped>\n",
       "    .dataframe tbody tr th:only-of-type {\n",
       "        vertical-align: middle;\n",
       "    }\n",
       "\n",
       "    .dataframe tbody tr th {\n",
       "        vertical-align: top;\n",
       "    }\n",
       "\n",
       "    .dataframe thead th {\n",
       "        text-align: right;\n",
       "    }\n",
       "</style>\n",
       "<table border=\"1\" class=\"dataframe\">\n",
       "  <thead>\n",
       "    <tr style=\"text-align: right;\">\n",
       "      <th></th>\n",
       "      <th>id</th>\n",
       "      <th>reviews_username</th>\n",
       "      <th>reviews_rating</th>\n",
       "    </tr>\n",
       "  </thead>\n",
       "  <tbody>\n",
       "    <tr>\n",
       "      <th>2</th>\n",
       "      <td>AV14LG0R-jtxr-f38QfS</td>\n",
       "      <td>dorothy w</td>\n",
       "      <td>5</td>\n",
       "    </tr>\n",
       "    <tr>\n",
       "      <th>12</th>\n",
       "      <td>AV16khLE-jtxr-f38VFn</td>\n",
       "      <td>jds1992</td>\n",
       "      <td>1</td>\n",
       "    </tr>\n",
       "    <tr>\n",
       "      <th>44</th>\n",
       "      <td>AV1h6Gu0glJLPUi8IjA_</td>\n",
       "      <td>solo</td>\n",
       "      <td>4</td>\n",
       "    </tr>\n",
       "    <tr>\n",
       "      <th>79</th>\n",
       "      <td>AV1l8zRZvKc47QAVhnAv</td>\n",
       "      <td>mylifeinheels</td>\n",
       "      <td>3</td>\n",
       "    </tr>\n",
       "    <tr>\n",
       "      <th>90</th>\n",
       "      <td>AV1l8zRZvKc47QAVhnAv</td>\n",
       "      <td>mylifeinheels</td>\n",
       "      <td>3</td>\n",
       "    </tr>\n",
       "    <tr>\n",
       "      <th>...</th>\n",
       "      <td>...</td>\n",
       "      <td>...</td>\n",
       "      <td>...</td>\n",
       "    </tr>\n",
       "    <tr>\n",
       "      <th>29807</th>\n",
       "      <td>AVpfW8y_LJeJML437ySW</td>\n",
       "      <td>joycakes</td>\n",
       "      <td>5</td>\n",
       "    </tr>\n",
       "    <tr>\n",
       "      <th>29827</th>\n",
       "      <td>AVpfW8y_LJeJML437ySW</td>\n",
       "      <td>emily95</td>\n",
       "      <td>5</td>\n",
       "    </tr>\n",
       "    <tr>\n",
       "      <th>29841</th>\n",
       "      <td>AVpfW8y_LJeJML437ySW</td>\n",
       "      <td>brookieboo1994</td>\n",
       "      <td>5</td>\n",
       "    </tr>\n",
       "    <tr>\n",
       "      <th>29921</th>\n",
       "      <td>AVpfW8y_LJeJML437ySW</td>\n",
       "      <td>talmariejohn</td>\n",
       "      <td>5</td>\n",
       "    </tr>\n",
       "    <tr>\n",
       "      <th>29944</th>\n",
       "      <td>AVpfW8y_LJeJML437ySW</td>\n",
       "      <td>filo123</td>\n",
       "      <td>5</td>\n",
       "    </tr>\n",
       "  </tbody>\n",
       "</table>\n",
       "<p>2349 rows × 3 columns</p>\n",
       "</div>"
      ],
      "text/plain": [
       "                         id reviews_username  reviews_rating\n",
       "2      AV14LG0R-jtxr-f38QfS        dorothy w               5\n",
       "12     AV16khLE-jtxr-f38VFn          jds1992               1\n",
       "44     AV1h6Gu0glJLPUi8IjA_             solo               4\n",
       "79     AV1l8zRZvKc47QAVhnAv    mylifeinheels               3\n",
       "90     AV1l8zRZvKc47QAVhnAv    mylifeinheels               3\n",
       "...                     ...              ...             ...\n",
       "29807  AVpfW8y_LJeJML437ySW         joycakes               5\n",
       "29827  AVpfW8y_LJeJML437ySW          emily95               5\n",
       "29841  AVpfW8y_LJeJML437ySW   brookieboo1994               5\n",
       "29921  AVpfW8y_LJeJML437ySW     talmariejohn               5\n",
       "29944  AVpfW8y_LJeJML437ySW          filo123               5\n",
       "\n",
       "[2349 rows x 3 columns]"
      ]
     },
     "execution_count": 15,
     "metadata": {},
     "output_type": "execute_result"
    }
   ],
   "source": [
    "duplicate = df_user[df_user.duplicated(['reviews_username', 'id'])]\n",
    "duplicate"
   ]
  },
  {
   "cell_type": "code",
   "execution_count": 16,
   "metadata": {
    "colab": {
     "base_uri": "https://localhost:8080/",
     "height": 419
    },
    "executionInfo": {
     "elapsed": 47,
     "status": "ok",
     "timestamp": 1631269927582,
     "user": {
      "displayName": "Shilpa Garg",
      "photoUrl": "https://lh3.googleusercontent.com/a/default-user=s64",
      "userId": "12607333565625535618"
     },
     "user_tz": -330
    },
    "id": "FH42GtvozPmg",
    "outputId": "b2e03daa-ba78-4a69-9682-2df49c26661c"
   },
   "outputs": [
    {
     "data": {
      "text/html": [
       "<div>\n",
       "<style scoped>\n",
       "    .dataframe tbody tr th:only-of-type {\n",
       "        vertical-align: middle;\n",
       "    }\n",
       "\n",
       "    .dataframe tbody tr th {\n",
       "        vertical-align: top;\n",
       "    }\n",
       "\n",
       "    .dataframe thead th {\n",
       "        text-align: right;\n",
       "    }\n",
       "</style>\n",
       "<table border=\"1\" class=\"dataframe\">\n",
       "  <thead>\n",
       "    <tr style=\"text-align: right;\">\n",
       "      <th></th>\n",
       "      <th>id</th>\n",
       "      <th>reviews_username</th>\n",
       "      <th>reviews_rating</th>\n",
       "    </tr>\n",
       "  </thead>\n",
       "  <tbody>\n",
       "    <tr>\n",
       "      <th>2</th>\n",
       "      <td>AV14LG0R-jtxr-f38QfS</td>\n",
       "      <td>dorothy w</td>\n",
       "      <td>5</td>\n",
       "    </tr>\n",
       "    <tr>\n",
       "      <th>12</th>\n",
       "      <td>AV16khLE-jtxr-f38VFn</td>\n",
       "      <td>jds1992</td>\n",
       "      <td>1</td>\n",
       "    </tr>\n",
       "    <tr>\n",
       "      <th>44</th>\n",
       "      <td>AV1h6Gu0glJLPUi8IjA_</td>\n",
       "      <td>solo</td>\n",
       "      <td>4</td>\n",
       "    </tr>\n",
       "    <tr>\n",
       "      <th>79</th>\n",
       "      <td>AV1l8zRZvKc47QAVhnAv</td>\n",
       "      <td>mylifeinheels</td>\n",
       "      <td>3</td>\n",
       "    </tr>\n",
       "    <tr>\n",
       "      <th>90</th>\n",
       "      <td>AV1l8zRZvKc47QAVhnAv</td>\n",
       "      <td>mylifeinheels</td>\n",
       "      <td>3</td>\n",
       "    </tr>\n",
       "    <tr>\n",
       "      <th>...</th>\n",
       "      <td>...</td>\n",
       "      <td>...</td>\n",
       "      <td>...</td>\n",
       "    </tr>\n",
       "    <tr>\n",
       "      <th>29807</th>\n",
       "      <td>AVpfW8y_LJeJML437ySW</td>\n",
       "      <td>joycakes</td>\n",
       "      <td>5</td>\n",
       "    </tr>\n",
       "    <tr>\n",
       "      <th>29827</th>\n",
       "      <td>AVpfW8y_LJeJML437ySW</td>\n",
       "      <td>emily95</td>\n",
       "      <td>5</td>\n",
       "    </tr>\n",
       "    <tr>\n",
       "      <th>29841</th>\n",
       "      <td>AVpfW8y_LJeJML437ySW</td>\n",
       "      <td>brookieboo1994</td>\n",
       "      <td>5</td>\n",
       "    </tr>\n",
       "    <tr>\n",
       "      <th>29921</th>\n",
       "      <td>AVpfW8y_LJeJML437ySW</td>\n",
       "      <td>talmariejohn</td>\n",
       "      <td>5</td>\n",
       "    </tr>\n",
       "    <tr>\n",
       "      <th>29944</th>\n",
       "      <td>AVpfW8y_LJeJML437ySW</td>\n",
       "      <td>filo123</td>\n",
       "      <td>5</td>\n",
       "    </tr>\n",
       "  </tbody>\n",
       "</table>\n",
       "<p>2198 rows × 3 columns</p>\n",
       "</div>"
      ],
      "text/plain": [
       "                         id reviews_username  reviews_rating\n",
       "2      AV14LG0R-jtxr-f38QfS        dorothy w               5\n",
       "12     AV16khLE-jtxr-f38VFn          jds1992               1\n",
       "44     AV1h6Gu0glJLPUi8IjA_             solo               4\n",
       "79     AV1l8zRZvKc47QAVhnAv    mylifeinheels               3\n",
       "90     AV1l8zRZvKc47QAVhnAv    mylifeinheels               3\n",
       "...                     ...              ...             ...\n",
       "29807  AVpfW8y_LJeJML437ySW         joycakes               5\n",
       "29827  AVpfW8y_LJeJML437ySW          emily95               5\n",
       "29841  AVpfW8y_LJeJML437ySW   brookieboo1994               5\n",
       "29921  AVpfW8y_LJeJML437ySW     talmariejohn               5\n",
       "29944  AVpfW8y_LJeJML437ySW          filo123               5\n",
       "\n",
       "[2198 rows x 3 columns]"
      ]
     },
     "execution_count": 16,
     "metadata": {},
     "output_type": "execute_result"
    }
   ],
   "source": [
    "duplicate = df_user[df_user.duplicated()]\n",
    "duplicate"
   ]
  },
  {
   "cell_type": "code",
   "execution_count": 17,
   "metadata": {
    "colab": {
     "base_uri": "https://localhost:8080/",
     "height": 111
    },
    "executionInfo": {
     "elapsed": 46,
     "status": "ok",
     "timestamp": 1631269927583,
     "user": {
      "displayName": "Shilpa Garg",
      "photoUrl": "https://lh3.googleusercontent.com/a/default-user=s64",
      "userId": "12607333565625535618"
     },
     "user_tz": -330
    },
    "id": "53IqEfZRZqw_",
    "outputId": "c2d6763a-a568-45f2-e6c9-96b2617851d8"
   },
   "outputs": [
    {
     "data": {
      "text/html": [
       "<div>\n",
       "<style scoped>\n",
       "    .dataframe tbody tr th:only-of-type {\n",
       "        vertical-align: middle;\n",
       "    }\n",
       "\n",
       "    .dataframe tbody tr th {\n",
       "        vertical-align: top;\n",
       "    }\n",
       "\n",
       "    .dataframe thead th {\n",
       "        text-align: right;\n",
       "    }\n",
       "</style>\n",
       "<table border=\"1\" class=\"dataframe\">\n",
       "  <thead>\n",
       "    <tr style=\"text-align: right;\">\n",
       "      <th></th>\n",
       "      <th>id</th>\n",
       "      <th>reviews_username</th>\n",
       "      <th>reviews_rating</th>\n",
       "    </tr>\n",
       "  </thead>\n",
       "  <tbody>\n",
       "    <tr>\n",
       "      <th>695</th>\n",
       "      <td>AV1YGDqsGV-KLJ3adc-O</td>\n",
       "      <td>laura</td>\n",
       "      <td>1</td>\n",
       "    </tr>\n",
       "    <tr>\n",
       "      <th>746</th>\n",
       "      <td>AV1YGDqsGV-KLJ3adc-O</td>\n",
       "      <td>laura</td>\n",
       "      <td>2</td>\n",
       "    </tr>\n",
       "  </tbody>\n",
       "</table>\n",
       "</div>"
      ],
      "text/plain": [
       "                       id reviews_username  reviews_rating\n",
       "695  AV1YGDqsGV-KLJ3adc-O            laura               1\n",
       "746  AV1YGDqsGV-KLJ3adc-O            laura               2"
      ]
     },
     "execution_count": 17,
     "metadata": {},
     "output_type": "execute_result"
    }
   ],
   "source": [
    "# Extract duplicate rows\n",
    "#df_user[df_user[id=='AV1YGDqsGV-KLJ3adc-O'] and df_user[df_user[reviews_username=='laura']]\n",
    "        \n",
    "df_user[(df_user['id']=='AV1YGDqsGV-KLJ3adc-O') & (df_user['reviews_username']=='laura')]        "
   ]
  },
  {
   "cell_type": "code",
   "execution_count": 18,
   "metadata": {
    "colab": {
     "base_uri": "https://localhost:8080/"
    },
    "executionInfo": {
     "elapsed": 45,
     "status": "ok",
     "timestamp": 1631269927583,
     "user": {
      "displayName": "Shilpa Garg",
      "photoUrl": "https://lh3.googleusercontent.com/a/default-user=s64",
      "userId": "12607333565625535618"
     },
     "user_tz": -330
    },
    "id": "KyowvOqo0khJ",
    "outputId": "5d7b876f-6890-40bf-db78-2c034621dda8"
   },
   "outputs": [
    {
     "name": "stderr",
     "output_type": "stream",
     "text": [
      "<ipython-input-18-25316b5d7dec>:2: SettingWithCopyWarning: \n",
      "A value is trying to be set on a copy of a slice from a DataFrame\n",
      "\n",
      "See the caveats in the documentation: https://pandas.pydata.org/pandas-docs/stable/user_guide/indexing.html#returning-a-view-versus-a-copy\n",
      "  df_user.drop_duplicates(keep = 'first', inplace = True)\n"
     ]
    }
   ],
   "source": [
    "# dropping ALL duplicate values\n",
    "df_user.drop_duplicates(keep = 'first', inplace = True)"
   ]
  },
  {
   "cell_type": "code",
   "execution_count": 19,
   "metadata": {
    "colab": {
     "base_uri": "https://localhost:8080/"
    },
    "executionInfo": {
     "elapsed": 41,
     "status": "ok",
     "timestamp": 1631269927584,
     "user": {
      "displayName": "Shilpa Garg",
      "photoUrl": "https://lh3.googleusercontent.com/a/default-user=s64",
      "userId": "12607333565625535618"
     },
     "user_tz": -330
    },
    "id": "HisQW1X36wGh",
    "outputId": "229d5864-9d02-436f-b6c9-0eedd7aa75de"
   },
   "outputs": [
    {
     "data": {
      "text/plain": [
       "(27739, 3)"
      ]
     },
     "execution_count": 19,
     "metadata": {},
     "output_type": "execute_result"
    }
   ],
   "source": [
    "df_user.shape"
   ]
  },
  {
   "cell_type": "code",
   "execution_count": 20,
   "metadata": {
    "colab": {
     "base_uri": "https://localhost:8080/",
     "height": 419
    },
    "executionInfo": {
     "elapsed": 35,
     "status": "ok",
     "timestamp": 1631269927584,
     "user": {
      "displayName": "Shilpa Garg",
      "photoUrl": "https://lh3.googleusercontent.com/a/default-user=s64",
      "userId": "12607333565625535618"
     },
     "user_tz": -330
    },
    "id": "cXxGQKjhzdxY",
    "outputId": "8cc09ff6-7cab-44a3-e1b7-cf8f5998ca49"
   },
   "outputs": [
    {
     "data": {
      "text/html": [
       "<div>\n",
       "<style scoped>\n",
       "    .dataframe tbody tr th:only-of-type {\n",
       "        vertical-align: middle;\n",
       "    }\n",
       "\n",
       "    .dataframe tbody tr th {\n",
       "        vertical-align: top;\n",
       "    }\n",
       "\n",
       "    .dataframe thead th {\n",
       "        text-align: right;\n",
       "    }\n",
       "</style>\n",
       "<table border=\"1\" class=\"dataframe\">\n",
       "  <thead>\n",
       "    <tr style=\"text-align: right;\">\n",
       "      <th></th>\n",
       "      <th>id</th>\n",
       "      <th>reviews_username</th>\n",
       "      <th>reviews_rating</th>\n",
       "    </tr>\n",
       "  </thead>\n",
       "  <tbody>\n",
       "    <tr>\n",
       "      <th>746</th>\n",
       "      <td>AV1YGDqsGV-KLJ3adc-O</td>\n",
       "      <td>laura</td>\n",
       "      <td>2</td>\n",
       "    </tr>\n",
       "    <tr>\n",
       "      <th>905</th>\n",
       "      <td>AV1YGDqsGV-KLJ3adc-O</td>\n",
       "      <td>suri</td>\n",
       "      <td>5</td>\n",
       "    </tr>\n",
       "    <tr>\n",
       "      <th>1705</th>\n",
       "      <td>AVpe31o71cnluZ0-YrSD</td>\n",
       "      <td>chris</td>\n",
       "      <td>5</td>\n",
       "    </tr>\n",
       "    <tr>\n",
       "      <th>1884</th>\n",
       "      <td>AVpe41TqilAPnD_xQH3d</td>\n",
       "      <td>steve</td>\n",
       "      <td>3</td>\n",
       "    </tr>\n",
       "    <tr>\n",
       "      <th>1922</th>\n",
       "      <td>AVpe41TqilAPnD_xQH3d</td>\n",
       "      <td>james</td>\n",
       "      <td>4</td>\n",
       "    </tr>\n",
       "    <tr>\n",
       "      <th>...</th>\n",
       "      <td>...</td>\n",
       "      <td>...</td>\n",
       "      <td>...</td>\n",
       "    </tr>\n",
       "    <tr>\n",
       "      <th>28150</th>\n",
       "      <td>AVpfRTh1ilAPnD_xYic2</td>\n",
       "      <td>dusty</td>\n",
       "      <td>5</td>\n",
       "    </tr>\n",
       "    <tr>\n",
       "      <th>28158</th>\n",
       "      <td>AVpfRTh1ilAPnD_xYic2</td>\n",
       "      <td>tony</td>\n",
       "      <td>5</td>\n",
       "    </tr>\n",
       "    <tr>\n",
       "      <th>28269</th>\n",
       "      <td>AVpfRTh1ilAPnD_xYic2</td>\n",
       "      <td>melbournesandy</td>\n",
       "      <td>5</td>\n",
       "    </tr>\n",
       "    <tr>\n",
       "      <th>28354</th>\n",
       "      <td>AVpfRTh1ilAPnD_xYic2</td>\n",
       "      <td>7.87E+11</td>\n",
       "      <td>5</td>\n",
       "    </tr>\n",
       "    <tr>\n",
       "      <th>28657</th>\n",
       "      <td>AVpftikC1cnluZ0-p31V</td>\n",
       "      <td>lzinzow</td>\n",
       "      <td>5</td>\n",
       "    </tr>\n",
       "  </tbody>\n",
       "</table>\n",
       "<p>151 rows × 3 columns</p>\n",
       "</div>"
      ],
      "text/plain": [
       "                         id reviews_username  reviews_rating\n",
       "746    AV1YGDqsGV-KLJ3adc-O            laura               2\n",
       "905    AV1YGDqsGV-KLJ3adc-O             suri               5\n",
       "1705   AVpe31o71cnluZ0-YrSD            chris               5\n",
       "1884   AVpe41TqilAPnD_xQH3d            steve               3\n",
       "1922   AVpe41TqilAPnD_xQH3d            james               4\n",
       "...                     ...              ...             ...\n",
       "28150  AVpfRTh1ilAPnD_xYic2            dusty               5\n",
       "28158  AVpfRTh1ilAPnD_xYic2             tony               5\n",
       "28269  AVpfRTh1ilAPnD_xYic2   melbournesandy               5\n",
       "28354  AVpfRTh1ilAPnD_xYic2         7.87E+11               5\n",
       "28657  AVpftikC1cnluZ0-p31V          lzinzow               5\n",
       "\n",
       "[151 rows x 3 columns]"
      ]
     },
     "execution_count": 20,
     "metadata": {},
     "output_type": "execute_result"
    }
   ],
   "source": [
    "#Getting rows where same user provided different ratings for smae item.\n",
    "duplicate = df_user[df_user.duplicated(['reviews_username', 'id'])]\n",
    "duplicate"
   ]
  },
  {
   "cell_type": "code",
   "execution_count": 21,
   "metadata": {
    "executionInfo": {
     "elapsed": 1041,
     "status": "ok",
     "timestamp": 1631269928591,
     "user": {
      "displayName": "Shilpa Garg",
      "photoUrl": "https://lh3.googleusercontent.com/a/default-user=s64",
      "userId": "12607333565625535618"
     },
     "user_tz": -330
    },
    "id": "aDzcgzOodqtD"
   },
   "outputs": [],
   "source": [
    "#Taking mean of different ratings provided by user for same item\n",
    "df2 = df_user.groupby(['id','reviews_username']).mean().reset_index()"
   ]
  },
  {
   "cell_type": "code",
   "execution_count": 22,
   "metadata": {
    "colab": {
     "base_uri": "https://localhost:8080/",
     "height": 80
    },
    "executionInfo": {
     "elapsed": 121,
     "status": "ok",
     "timestamp": 1631269928593,
     "user": {
      "displayName": "Shilpa Garg",
      "photoUrl": "https://lh3.googleusercontent.com/a/default-user=s64",
      "userId": "12607333565625535618"
     },
     "user_tz": -330
    },
    "id": "VsBFjpf5d7X7",
    "outputId": "7b0552af-608a-4f65-9407-6888baa1662d"
   },
   "outputs": [
    {
     "data": {
      "text/html": [
       "<div>\n",
       "<style scoped>\n",
       "    .dataframe tbody tr th:only-of-type {\n",
       "        vertical-align: middle;\n",
       "    }\n",
       "\n",
       "    .dataframe tbody tr th {\n",
       "        vertical-align: top;\n",
       "    }\n",
       "\n",
       "    .dataframe thead th {\n",
       "        text-align: right;\n",
       "    }\n",
       "</style>\n",
       "<table border=\"1\" class=\"dataframe\">\n",
       "  <thead>\n",
       "    <tr style=\"text-align: right;\">\n",
       "      <th></th>\n",
       "      <th>id</th>\n",
       "      <th>reviews_username</th>\n",
       "      <th>reviews_rating</th>\n",
       "    </tr>\n",
       "  </thead>\n",
       "  <tbody>\n",
       "    <tr>\n",
       "      <th>187</th>\n",
       "      <td>AV1YGDqsGV-KLJ3adc-O</td>\n",
       "      <td>laura</td>\n",
       "      <td>1.5</td>\n",
       "    </tr>\n",
       "  </tbody>\n",
       "</table>\n",
       "</div>"
      ],
      "text/plain": [
       "                       id reviews_username  reviews_rating\n",
       "187  AV1YGDqsGV-KLJ3adc-O            laura             1.5"
      ]
     },
     "execution_count": 22,
     "metadata": {},
     "output_type": "execute_result"
    }
   ],
   "source": [
    "df2[(df2['id']=='AV1YGDqsGV-KLJ3adc-O') & (df2['reviews_username']=='laura')]  "
   ]
  },
  {
   "cell_type": "code",
   "execution_count": 23,
   "metadata": {
    "colab": {
     "base_uri": "https://localhost:8080/",
     "height": 221
    },
    "executionInfo": {
     "elapsed": 116,
     "status": "ok",
     "timestamp": 1631269928595,
     "user": {
      "displayName": "Shilpa Garg",
      "photoUrl": "https://lh3.googleusercontent.com/a/default-user=s64",
      "userId": "12607333565625535618"
     },
     "user_tz": -330
    },
    "id": "sekRVDqyd0nF",
    "outputId": "71af7ede-cc8a-449d-e013-7d114957c9bd"
   },
   "outputs": [
    {
     "name": "stdout",
     "output_type": "stream",
     "text": [
      "(27588, 3)\n"
     ]
    },
    {
     "data": {
      "text/html": [
       "<div>\n",
       "<style scoped>\n",
       "    .dataframe tbody tr th:only-of-type {\n",
       "        vertical-align: middle;\n",
       "    }\n",
       "\n",
       "    .dataframe tbody tr th {\n",
       "        vertical-align: top;\n",
       "    }\n",
       "\n",
       "    .dataframe thead th {\n",
       "        text-align: right;\n",
       "    }\n",
       "</style>\n",
       "<table border=\"1\" class=\"dataframe\">\n",
       "  <thead>\n",
       "    <tr style=\"text-align: right;\">\n",
       "      <th></th>\n",
       "      <th>id</th>\n",
       "      <th>reviews_username</th>\n",
       "      <th>reviews_rating</th>\n",
       "    </tr>\n",
       "  </thead>\n",
       "  <tbody>\n",
       "    <tr>\n",
       "      <th>0</th>\n",
       "      <td>AV13O1A8GV-KLJ3akUyj</td>\n",
       "      <td>joshua</td>\n",
       "      <td>5.0</td>\n",
       "    </tr>\n",
       "    <tr>\n",
       "      <th>1</th>\n",
       "      <td>AV14LG0R-jtxr-f38QfS</td>\n",
       "      <td>dorothy w</td>\n",
       "      <td>5.0</td>\n",
       "    </tr>\n",
       "    <tr>\n",
       "      <th>2</th>\n",
       "      <td>AV16khLE-jtxr-f38VFn</td>\n",
       "      <td>amanda</td>\n",
       "      <td>5.0</td>\n",
       "    </tr>\n",
       "    <tr>\n",
       "      <th>3</th>\n",
       "      <td>AV16khLE-jtxr-f38VFn</td>\n",
       "      <td>ashley a</td>\n",
       "      <td>5.0</td>\n",
       "    </tr>\n",
       "    <tr>\n",
       "      <th>4</th>\n",
       "      <td>AV16khLE-jtxr-f38VFn</td>\n",
       "      <td>beccagrl532</td>\n",
       "      <td>1.0</td>\n",
       "    </tr>\n",
       "  </tbody>\n",
       "</table>\n",
       "</div>"
      ],
      "text/plain": [
       "                     id reviews_username  reviews_rating\n",
       "0  AV13O1A8GV-KLJ3akUyj           joshua             5.0\n",
       "1  AV14LG0R-jtxr-f38QfS        dorothy w             5.0\n",
       "2  AV16khLE-jtxr-f38VFn           amanda             5.0\n",
       "3  AV16khLE-jtxr-f38VFn         ashley a             5.0\n",
       "4  AV16khLE-jtxr-f38VFn      beccagrl532             1.0"
      ]
     },
     "execution_count": 23,
     "metadata": {},
     "output_type": "execute_result"
    }
   ],
   "source": [
    "print(df2.shape)\n",
    "df2.head()"
   ]
  },
  {
   "cell_type": "code",
   "execution_count": 24,
   "metadata": {
    "colab": {
     "base_uri": "https://localhost:8080/"
    },
    "executionInfo": {
     "elapsed": 102,
     "status": "ok",
     "timestamp": 1631269928598,
     "user": {
      "displayName": "Shilpa Garg",
      "photoUrl": "https://lh3.googleusercontent.com/a/default-user=s64",
      "userId": "12607333565625535618"
     },
     "user_tz": -330
    },
    "id": "BcvJIvfHQOfO",
    "outputId": "1958c5a2-9f8a-4756-a53d-1cafccc08a4c"
   },
   "outputs": [
    {
     "name": "stdout",
     "output_type": "stream",
     "text": [
      "(27588, 3)\n",
      "Unique users : 24914\n",
      "Unique items :  271\n"
     ]
    }
   ],
   "source": [
    "# After removing duplicates\n",
    "print(df2.shape)\n",
    "print(\"Unique users :\",df2.reviews_username.nunique())\n",
    "print(\"Unique items : \",df2.id.nunique())\n"
   ]
  },
  {
   "cell_type": "markdown",
   "metadata": {
    "id": "EQfGs5XOk68W"
   },
   "source": [
    "# Dividing the dataset into train and test"
   ]
  },
  {
   "cell_type": "code",
   "execution_count": 25,
   "metadata": {
    "executionInfo": {
     "elapsed": 92,
     "status": "ok",
     "timestamp": 1631269928600,
     "user": {
      "displayName": "Shilpa Garg",
      "photoUrl": "https://lh3.googleusercontent.com/a/default-user=s64",
      "userId": "12607333565625535618"
     },
     "user_tz": -330
    },
    "id": "RGBWrj0pky0k"
   },
   "outputs": [],
   "source": [
    "# Test and Train split of the dataset.\n",
    "from sklearn.model_selection import train_test_split\n",
    "train, test = train_test_split(df2, test_size=0.30, random_state=31)"
   ]
  },
  {
   "cell_type": "code",
   "execution_count": 26,
   "metadata": {
    "colab": {
     "base_uri": "https://localhost:8080/"
    },
    "executionInfo": {
     "elapsed": 91,
     "status": "ok",
     "timestamp": 1631269928601,
     "user": {
      "displayName": "Shilpa Garg",
      "photoUrl": "https://lh3.googleusercontent.com/a/default-user=s64",
      "userId": "12607333565625535618"
     },
     "user_tz": -330
    },
    "id": "mFBK-07rlA5_",
    "outputId": "0c94ffa8-c928-4eb1-f5cd-9c3a5295aee0"
   },
   "outputs": [
    {
     "name": "stdout",
     "output_type": "stream",
     "text": [
      "(19311, 3)\n",
      "(8277, 3)\n"
     ]
    }
   ],
   "source": [
    "print(train.shape)\n",
    "print(test.shape)"
   ]
  },
  {
   "cell_type": "code",
   "execution_count": 27,
   "metadata": {
    "colab": {
     "base_uri": "https://localhost:8080/",
     "height": 473
    },
    "executionInfo": {
     "elapsed": 80,
     "status": "ok",
     "timestamp": 1631269928603,
     "user": {
      "displayName": "Shilpa Garg",
      "photoUrl": "https://lh3.googleusercontent.com/a/default-user=s64",
      "userId": "12607333565625535618"
     },
     "user_tz": -330
    },
    "id": "JVaySZYFlEMC",
    "outputId": "e4f80330-536a-4851-e206-f28131fb2173"
   },
   "outputs": [
    {
     "data": {
      "text/html": [
       "<div>\n",
       "<style scoped>\n",
       "    .dataframe tbody tr th:only-of-type {\n",
       "        vertical-align: middle;\n",
       "    }\n",
       "\n",
       "    .dataframe tbody tr th {\n",
       "        vertical-align: top;\n",
       "    }\n",
       "\n",
       "    .dataframe thead th {\n",
       "        text-align: right;\n",
       "    }\n",
       "</style>\n",
       "<table border=\"1\" class=\"dataframe\">\n",
       "  <thead>\n",
       "    <tr style=\"text-align: right;\">\n",
       "      <th>id</th>\n",
       "      <th>AV13O1A8GV-KLJ3akUyj</th>\n",
       "      <th>AV14LG0R-jtxr-f38QfS</th>\n",
       "      <th>AV16khLE-jtxr-f38VFn</th>\n",
       "      <th>AV1YGDqsGV-KLJ3adc-O</th>\n",
       "      <th>AV1YIch7GV-KLJ3addeG</th>\n",
       "      <th>AV1YlENIglJLPUi8IHsX</th>\n",
       "      <th>AV1YmBrdGV-KLJ3adewb</th>\n",
       "      <th>AV1YmDL9vKc47QAVgr7_</th>\n",
       "      <th>AV1Ymf_rglJLPUi8II2v</th>\n",
       "      <th>AV1Yn94nvKc47QAVgtst</th>\n",
       "      <th>...</th>\n",
       "      <th>AVpfrTyiLJeJML43BrSI</th>\n",
       "      <th>AVpfrfHF1cnluZ0-pRai</th>\n",
       "      <th>AVpfrgjFLJeJML43BvCc</th>\n",
       "      <th>AVpfs0tUilAPnD_xgqN2</th>\n",
       "      <th>AVpfsQoeilAPnD_xgfx5</th>\n",
       "      <th>AVpfthSailAPnD_xg3ON</th>\n",
       "      <th>AVpftikC1cnluZ0-p31V</th>\n",
       "      <th>AVpftymALJeJML43CZ6y</th>\n",
       "      <th>AVpfv4TlilAPnD_xhjNS</th>\n",
       "      <th>AVpfvieo1cnluZ0-qdnu</th>\n",
       "    </tr>\n",
       "    <tr>\n",
       "      <th>reviews_username</th>\n",
       "      <th></th>\n",
       "      <th></th>\n",
       "      <th></th>\n",
       "      <th></th>\n",
       "      <th></th>\n",
       "      <th></th>\n",
       "      <th></th>\n",
       "      <th></th>\n",
       "      <th></th>\n",
       "      <th></th>\n",
       "      <th></th>\n",
       "      <th></th>\n",
       "      <th></th>\n",
       "      <th></th>\n",
       "      <th></th>\n",
       "      <th></th>\n",
       "      <th></th>\n",
       "      <th></th>\n",
       "      <th></th>\n",
       "      <th></th>\n",
       "      <th></th>\n",
       "    </tr>\n",
       "  </thead>\n",
       "  <tbody>\n",
       "    <tr>\n",
       "      <th>00dog3</th>\n",
       "      <td>0.0</td>\n",
       "      <td>0.0</td>\n",
       "      <td>0.0</td>\n",
       "      <td>0.0</td>\n",
       "      <td>0.0</td>\n",
       "      <td>0.0</td>\n",
       "      <td>0.0</td>\n",
       "      <td>0.0</td>\n",
       "      <td>0.0</td>\n",
       "      <td>0.0</td>\n",
       "      <td>...</td>\n",
       "      <td>0.0</td>\n",
       "      <td>0.0</td>\n",
       "      <td>0.0</td>\n",
       "      <td>0.0</td>\n",
       "      <td>0.0</td>\n",
       "      <td>0.0</td>\n",
       "      <td>0.0</td>\n",
       "      <td>0.0</td>\n",
       "      <td>0.0</td>\n",
       "      <td>0.0</td>\n",
       "    </tr>\n",
       "    <tr>\n",
       "      <th>00sab00</th>\n",
       "      <td>0.0</td>\n",
       "      <td>0.0</td>\n",
       "      <td>0.0</td>\n",
       "      <td>0.0</td>\n",
       "      <td>0.0</td>\n",
       "      <td>0.0</td>\n",
       "      <td>0.0</td>\n",
       "      <td>0.0</td>\n",
       "      <td>0.0</td>\n",
       "      <td>0.0</td>\n",
       "      <td>...</td>\n",
       "      <td>0.0</td>\n",
       "      <td>0.0</td>\n",
       "      <td>0.0</td>\n",
       "      <td>0.0</td>\n",
       "      <td>0.0</td>\n",
       "      <td>0.0</td>\n",
       "      <td>0.0</td>\n",
       "      <td>0.0</td>\n",
       "      <td>0.0</td>\n",
       "      <td>0.0</td>\n",
       "    </tr>\n",
       "    <tr>\n",
       "      <th>01impala</th>\n",
       "      <td>0.0</td>\n",
       "      <td>0.0</td>\n",
       "      <td>0.0</td>\n",
       "      <td>0.0</td>\n",
       "      <td>0.0</td>\n",
       "      <td>0.0</td>\n",
       "      <td>0.0</td>\n",
       "      <td>0.0</td>\n",
       "      <td>0.0</td>\n",
       "      <td>0.0</td>\n",
       "      <td>...</td>\n",
       "      <td>0.0</td>\n",
       "      <td>0.0</td>\n",
       "      <td>0.0</td>\n",
       "      <td>0.0</td>\n",
       "      <td>0.0</td>\n",
       "      <td>0.0</td>\n",
       "      <td>0.0</td>\n",
       "      <td>0.0</td>\n",
       "      <td>0.0</td>\n",
       "      <td>0.0</td>\n",
       "    </tr>\n",
       "    <tr>\n",
       "      <th>0325home</th>\n",
       "      <td>0.0</td>\n",
       "      <td>0.0</td>\n",
       "      <td>0.0</td>\n",
       "      <td>0.0</td>\n",
       "      <td>0.0</td>\n",
       "      <td>0.0</td>\n",
       "      <td>0.0</td>\n",
       "      <td>0.0</td>\n",
       "      <td>0.0</td>\n",
       "      <td>0.0</td>\n",
       "      <td>...</td>\n",
       "      <td>0.0</td>\n",
       "      <td>0.0</td>\n",
       "      <td>0.0</td>\n",
       "      <td>0.0</td>\n",
       "      <td>0.0</td>\n",
       "      <td>0.0</td>\n",
       "      <td>0.0</td>\n",
       "      <td>0.0</td>\n",
       "      <td>0.0</td>\n",
       "      <td>0.0</td>\n",
       "    </tr>\n",
       "    <tr>\n",
       "      <th>06stidriver</th>\n",
       "      <td>0.0</td>\n",
       "      <td>0.0</td>\n",
       "      <td>0.0</td>\n",
       "      <td>0.0</td>\n",
       "      <td>0.0</td>\n",
       "      <td>0.0</td>\n",
       "      <td>0.0</td>\n",
       "      <td>0.0</td>\n",
       "      <td>0.0</td>\n",
       "      <td>0.0</td>\n",
       "      <td>...</td>\n",
       "      <td>0.0</td>\n",
       "      <td>0.0</td>\n",
       "      <td>0.0</td>\n",
       "      <td>0.0</td>\n",
       "      <td>0.0</td>\n",
       "      <td>0.0</td>\n",
       "      <td>0.0</td>\n",
       "      <td>0.0</td>\n",
       "      <td>0.0</td>\n",
       "      <td>0.0</td>\n",
       "    </tr>\n",
       "    <tr>\n",
       "      <th>08dallas</th>\n",
       "      <td>0.0</td>\n",
       "      <td>0.0</td>\n",
       "      <td>0.0</td>\n",
       "      <td>0.0</td>\n",
       "      <td>0.0</td>\n",
       "      <td>0.0</td>\n",
       "      <td>0.0</td>\n",
       "      <td>0.0</td>\n",
       "      <td>0.0</td>\n",
       "      <td>0.0</td>\n",
       "      <td>...</td>\n",
       "      <td>0.0</td>\n",
       "      <td>0.0</td>\n",
       "      <td>0.0</td>\n",
       "      <td>0.0</td>\n",
       "      <td>0.0</td>\n",
       "      <td>0.0</td>\n",
       "      <td>0.0</td>\n",
       "      <td>0.0</td>\n",
       "      <td>0.0</td>\n",
       "      <td>0.0</td>\n",
       "    </tr>\n",
       "    <tr>\n",
       "      <th>09mommy11</th>\n",
       "      <td>0.0</td>\n",
       "      <td>0.0</td>\n",
       "      <td>0.0</td>\n",
       "      <td>0.0</td>\n",
       "      <td>0.0</td>\n",
       "      <td>0.0</td>\n",
       "      <td>0.0</td>\n",
       "      <td>0.0</td>\n",
       "      <td>0.0</td>\n",
       "      <td>0.0</td>\n",
       "      <td>...</td>\n",
       "      <td>0.0</td>\n",
       "      <td>0.0</td>\n",
       "      <td>0.0</td>\n",
       "      <td>0.0</td>\n",
       "      <td>0.0</td>\n",
       "      <td>0.0</td>\n",
       "      <td>0.0</td>\n",
       "      <td>0.0</td>\n",
       "      <td>0.0</td>\n",
       "      <td>0.0</td>\n",
       "    </tr>\n",
       "    <tr>\n",
       "      <th>10ten</th>\n",
       "      <td>0.0</td>\n",
       "      <td>0.0</td>\n",
       "      <td>0.0</td>\n",
       "      <td>0.0</td>\n",
       "      <td>0.0</td>\n",
       "      <td>0.0</td>\n",
       "      <td>0.0</td>\n",
       "      <td>1.0</td>\n",
       "      <td>0.0</td>\n",
       "      <td>0.0</td>\n",
       "      <td>...</td>\n",
       "      <td>0.0</td>\n",
       "      <td>0.0</td>\n",
       "      <td>0.0</td>\n",
       "      <td>0.0</td>\n",
       "      <td>0.0</td>\n",
       "      <td>0.0</td>\n",
       "      <td>0.0</td>\n",
       "      <td>0.0</td>\n",
       "      <td>0.0</td>\n",
       "      <td>0.0</td>\n",
       "    </tr>\n",
       "    <tr>\n",
       "      <th>1143mom</th>\n",
       "      <td>0.0</td>\n",
       "      <td>0.0</td>\n",
       "      <td>0.0</td>\n",
       "      <td>3.0</td>\n",
       "      <td>0.0</td>\n",
       "      <td>0.0</td>\n",
       "      <td>0.0</td>\n",
       "      <td>0.0</td>\n",
       "      <td>0.0</td>\n",
       "      <td>0.0</td>\n",
       "      <td>...</td>\n",
       "      <td>0.0</td>\n",
       "      <td>0.0</td>\n",
       "      <td>0.0</td>\n",
       "      <td>0.0</td>\n",
       "      <td>0.0</td>\n",
       "      <td>0.0</td>\n",
       "      <td>0.0</td>\n",
       "      <td>0.0</td>\n",
       "      <td>0.0</td>\n",
       "      <td>0.0</td>\n",
       "    </tr>\n",
       "    <tr>\n",
       "      <th>11677j</th>\n",
       "      <td>0.0</td>\n",
       "      <td>0.0</td>\n",
       "      <td>0.0</td>\n",
       "      <td>0.0</td>\n",
       "      <td>0.0</td>\n",
       "      <td>0.0</td>\n",
       "      <td>0.0</td>\n",
       "      <td>0.0</td>\n",
       "      <td>0.0</td>\n",
       "      <td>0.0</td>\n",
       "      <td>...</td>\n",
       "      <td>0.0</td>\n",
       "      <td>0.0</td>\n",
       "      <td>0.0</td>\n",
       "      <td>0.0</td>\n",
       "      <td>0.0</td>\n",
       "      <td>0.0</td>\n",
       "      <td>0.0</td>\n",
       "      <td>0.0</td>\n",
       "      <td>0.0</td>\n",
       "      <td>0.0</td>\n",
       "    </tr>\n",
       "  </tbody>\n",
       "</table>\n",
       "<p>10 rows × 245 columns</p>\n",
       "</div>"
      ],
      "text/plain": [
       "id                AV13O1A8GV-KLJ3akUyj  AV14LG0R-jtxr-f38QfS  \\\n",
       "reviews_username                                               \n",
       "00dog3                             0.0                   0.0   \n",
       "00sab00                            0.0                   0.0   \n",
       "01impala                           0.0                   0.0   \n",
       "0325home                           0.0                   0.0   \n",
       "06stidriver                        0.0                   0.0   \n",
       "08dallas                           0.0                   0.0   \n",
       "09mommy11                          0.0                   0.0   \n",
       "10ten                              0.0                   0.0   \n",
       "1143mom                            0.0                   0.0   \n",
       "11677j                             0.0                   0.0   \n",
       "\n",
       "id                AV16khLE-jtxr-f38VFn  AV1YGDqsGV-KLJ3adc-O  \\\n",
       "reviews_username                                               \n",
       "00dog3                             0.0                   0.0   \n",
       "00sab00                            0.0                   0.0   \n",
       "01impala                           0.0                   0.0   \n",
       "0325home                           0.0                   0.0   \n",
       "06stidriver                        0.0                   0.0   \n",
       "08dallas                           0.0                   0.0   \n",
       "09mommy11                          0.0                   0.0   \n",
       "10ten                              0.0                   0.0   \n",
       "1143mom                            0.0                   3.0   \n",
       "11677j                             0.0                   0.0   \n",
       "\n",
       "id                AV1YIch7GV-KLJ3addeG  AV1YlENIglJLPUi8IHsX  \\\n",
       "reviews_username                                               \n",
       "00dog3                             0.0                   0.0   \n",
       "00sab00                            0.0                   0.0   \n",
       "01impala                           0.0                   0.0   \n",
       "0325home                           0.0                   0.0   \n",
       "06stidriver                        0.0                   0.0   \n",
       "08dallas                           0.0                   0.0   \n",
       "09mommy11                          0.0                   0.0   \n",
       "10ten                              0.0                   0.0   \n",
       "1143mom                            0.0                   0.0   \n",
       "11677j                             0.0                   0.0   \n",
       "\n",
       "id                AV1YmBrdGV-KLJ3adewb  AV1YmDL9vKc47QAVgr7_  \\\n",
       "reviews_username                                               \n",
       "00dog3                             0.0                   0.0   \n",
       "00sab00                            0.0                   0.0   \n",
       "01impala                           0.0                   0.0   \n",
       "0325home                           0.0                   0.0   \n",
       "06stidriver                        0.0                   0.0   \n",
       "08dallas                           0.0                   0.0   \n",
       "09mommy11                          0.0                   0.0   \n",
       "10ten                              0.0                   1.0   \n",
       "1143mom                            0.0                   0.0   \n",
       "11677j                             0.0                   0.0   \n",
       "\n",
       "id                AV1Ymf_rglJLPUi8II2v  AV1Yn94nvKc47QAVgtst  ...  \\\n",
       "reviews_username                                              ...   \n",
       "00dog3                             0.0                   0.0  ...   \n",
       "00sab00                            0.0                   0.0  ...   \n",
       "01impala                           0.0                   0.0  ...   \n",
       "0325home                           0.0                   0.0  ...   \n",
       "06stidriver                        0.0                   0.0  ...   \n",
       "08dallas                           0.0                   0.0  ...   \n",
       "09mommy11                          0.0                   0.0  ...   \n",
       "10ten                              0.0                   0.0  ...   \n",
       "1143mom                            0.0                   0.0  ...   \n",
       "11677j                             0.0                   0.0  ...   \n",
       "\n",
       "id                AVpfrTyiLJeJML43BrSI  AVpfrfHF1cnluZ0-pRai  \\\n",
       "reviews_username                                               \n",
       "00dog3                             0.0                   0.0   \n",
       "00sab00                            0.0                   0.0   \n",
       "01impala                           0.0                   0.0   \n",
       "0325home                           0.0                   0.0   \n",
       "06stidriver                        0.0                   0.0   \n",
       "08dallas                           0.0                   0.0   \n",
       "09mommy11                          0.0                   0.0   \n",
       "10ten                              0.0                   0.0   \n",
       "1143mom                            0.0                   0.0   \n",
       "11677j                             0.0                   0.0   \n",
       "\n",
       "id                AVpfrgjFLJeJML43BvCc  AVpfs0tUilAPnD_xgqN2  \\\n",
       "reviews_username                                               \n",
       "00dog3                             0.0                   0.0   \n",
       "00sab00                            0.0                   0.0   \n",
       "01impala                           0.0                   0.0   \n",
       "0325home                           0.0                   0.0   \n",
       "06stidriver                        0.0                   0.0   \n",
       "08dallas                           0.0                   0.0   \n",
       "09mommy11                          0.0                   0.0   \n",
       "10ten                              0.0                   0.0   \n",
       "1143mom                            0.0                   0.0   \n",
       "11677j                             0.0                   0.0   \n",
       "\n",
       "id                AVpfsQoeilAPnD_xgfx5  AVpfthSailAPnD_xg3ON  \\\n",
       "reviews_username                                               \n",
       "00dog3                             0.0                   0.0   \n",
       "00sab00                            0.0                   0.0   \n",
       "01impala                           0.0                   0.0   \n",
       "0325home                           0.0                   0.0   \n",
       "06stidriver                        0.0                   0.0   \n",
       "08dallas                           0.0                   0.0   \n",
       "09mommy11                          0.0                   0.0   \n",
       "10ten                              0.0                   0.0   \n",
       "1143mom                            0.0                   0.0   \n",
       "11677j                             0.0                   0.0   \n",
       "\n",
       "id                AVpftikC1cnluZ0-p31V  AVpftymALJeJML43CZ6y  \\\n",
       "reviews_username                                               \n",
       "00dog3                             0.0                   0.0   \n",
       "00sab00                            0.0                   0.0   \n",
       "01impala                           0.0                   0.0   \n",
       "0325home                           0.0                   0.0   \n",
       "06stidriver                        0.0                   0.0   \n",
       "08dallas                           0.0                   0.0   \n",
       "09mommy11                          0.0                   0.0   \n",
       "10ten                              0.0                   0.0   \n",
       "1143mom                            0.0                   0.0   \n",
       "11677j                             0.0                   0.0   \n",
       "\n",
       "id                AVpfv4TlilAPnD_xhjNS  AVpfvieo1cnluZ0-qdnu  \n",
       "reviews_username                                              \n",
       "00dog3                             0.0                   0.0  \n",
       "00sab00                            0.0                   0.0  \n",
       "01impala                           0.0                   0.0  \n",
       "0325home                           0.0                   0.0  \n",
       "06stidriver                        0.0                   0.0  \n",
       "08dallas                           0.0                   0.0  \n",
       "09mommy11                          0.0                   0.0  \n",
       "10ten                              0.0                   0.0  \n",
       "1143mom                            0.0                   0.0  \n",
       "11677j                             0.0                   0.0  \n",
       "\n",
       "[10 rows x 245 columns]"
      ]
     },
     "execution_count": 27,
     "metadata": {},
     "output_type": "execute_result"
    }
   ],
   "source": [
    "# Pivot the train ratings' dataset into matrix format in which columns are items and the rows are user IDs.\n",
    "df_pivot = train.pivot(\n",
    "    index='reviews_username',\n",
    "    columns='id',\n",
    "    values='reviews_rating'\n",
    ").fillna(0)\n",
    "\n",
    "df_pivot.head(10)"
   ]
  },
  {
   "cell_type": "code",
   "execution_count": 28,
   "metadata": {
    "colab": {
     "base_uri": "https://localhost:8080/"
    },
    "executionInfo": {
     "elapsed": 82,
     "status": "ok",
     "timestamp": 1631269928611,
     "user": {
      "displayName": "Shilpa Garg",
      "photoUrl": "https://lh3.googleusercontent.com/a/default-user=s64",
      "userId": "12607333565625535618"
     },
     "user_tz": -330
    },
    "id": "rPuE1aMV9NJX",
    "outputId": "484c8640-f2da-4711-9ab0-5a925badd58b"
   },
   "outputs": [
    {
     "name": "stdout",
     "output_type": "stream",
     "text": [
      "(17872, 245)\n",
      "17872\n",
      "245\n"
     ]
    }
   ],
   "source": [
    "print(df_pivot.shape)\n",
    "print(train.reviews_username.nunique())\n",
    "print(train.id.nunique())"
   ]
  },
  {
   "cell_type": "code",
   "execution_count": 29,
   "metadata": {
    "executionInfo": {
     "elapsed": 71,
     "status": "ok",
     "timestamp": 1631269928614,
     "user": {
      "displayName": "Shilpa Garg",
      "photoUrl": "https://lh3.googleusercontent.com/a/default-user=s64",
      "userId": "12607333565625535618"
     },
     "user_tz": -330
    },
    "id": "td5p80mylTbh"
   },
   "outputs": [],
   "source": [
    "# Copy the train dataset into dummy_train\n",
    "dummy_train = train.copy()"
   ]
  },
  {
   "cell_type": "code",
   "execution_count": 30,
   "metadata": {
    "executionInfo": {
     "elapsed": 71,
     "status": "ok",
     "timestamp": 1631269928616,
     "user": {
      "displayName": "Shilpa Garg",
      "photoUrl": "https://lh3.googleusercontent.com/a/default-user=s64",
      "userId": "12607333565625535618"
     },
     "user_tz": -330
    },
    "id": "hV56yaQb8eRX"
   },
   "outputs": [],
   "source": [
    "# The items not rated by user is marked as 1 for prediction. \n",
    "dummy_train['reviews_rating'] = dummy_train['reviews_rating'].apply(lambda x: 0 if x>=1 else 1)"
   ]
  },
  {
   "cell_type": "code",
   "execution_count": 31,
   "metadata": {
    "executionInfo": {
     "elapsed": 433,
     "status": "ok",
     "timestamp": 1631269928979,
     "user": {
      "displayName": "Shilpa Garg",
      "photoUrl": "https://lh3.googleusercontent.com/a/default-user=s64",
      "userId": "12607333565625535618"
     },
     "user_tz": -330
    },
    "id": "yxG6nmCOQGEY"
   },
   "outputs": [],
   "source": [
    "# Convert the dummy train dataset into matrix format.\n",
    "dummy_train = dummy_train.pivot(\n",
    "    index='reviews_username',\n",
    "    columns='id',\n",
    "    values='reviews_rating'\n",
    ").fillna(1)"
   ]
  },
  {
   "cell_type": "code",
   "execution_count": 32,
   "metadata": {
    "colab": {
     "base_uri": "https://localhost:8080/",
     "height": 318
    },
    "executionInfo": {
     "elapsed": 7,
     "status": "ok",
     "timestamp": 1631269928981,
     "user": {
      "displayName": "Shilpa Garg",
      "photoUrl": "https://lh3.googleusercontent.com/a/default-user=s64",
      "userId": "12607333565625535618"
     },
     "user_tz": -330
    },
    "id": "6syb55coRsDY",
    "outputId": "5f021450-dec2-4f26-b2a3-8201d771c36a"
   },
   "outputs": [
    {
     "data": {
      "text/html": [
       "<div>\n",
       "<style scoped>\n",
       "    .dataframe tbody tr th:only-of-type {\n",
       "        vertical-align: middle;\n",
       "    }\n",
       "\n",
       "    .dataframe tbody tr th {\n",
       "        vertical-align: top;\n",
       "    }\n",
       "\n",
       "    .dataframe thead th {\n",
       "        text-align: right;\n",
       "    }\n",
       "</style>\n",
       "<table border=\"1\" class=\"dataframe\">\n",
       "  <thead>\n",
       "    <tr style=\"text-align: right;\">\n",
       "      <th>id</th>\n",
       "      <th>AV13O1A8GV-KLJ3akUyj</th>\n",
       "      <th>AV14LG0R-jtxr-f38QfS</th>\n",
       "      <th>AV16khLE-jtxr-f38VFn</th>\n",
       "      <th>AV1YGDqsGV-KLJ3adc-O</th>\n",
       "      <th>AV1YIch7GV-KLJ3addeG</th>\n",
       "      <th>AV1YlENIglJLPUi8IHsX</th>\n",
       "      <th>AV1YmBrdGV-KLJ3adewb</th>\n",
       "      <th>AV1YmDL9vKc47QAVgr7_</th>\n",
       "      <th>AV1Ymf_rglJLPUi8II2v</th>\n",
       "      <th>AV1Yn94nvKc47QAVgtst</th>\n",
       "      <th>...</th>\n",
       "      <th>AVpfrTyiLJeJML43BrSI</th>\n",
       "      <th>AVpfrfHF1cnluZ0-pRai</th>\n",
       "      <th>AVpfrgjFLJeJML43BvCc</th>\n",
       "      <th>AVpfs0tUilAPnD_xgqN2</th>\n",
       "      <th>AVpfsQoeilAPnD_xgfx5</th>\n",
       "      <th>AVpfthSailAPnD_xg3ON</th>\n",
       "      <th>AVpftikC1cnluZ0-p31V</th>\n",
       "      <th>AVpftymALJeJML43CZ6y</th>\n",
       "      <th>AVpfv4TlilAPnD_xhjNS</th>\n",
       "      <th>AVpfvieo1cnluZ0-qdnu</th>\n",
       "    </tr>\n",
       "    <tr>\n",
       "      <th>reviews_username</th>\n",
       "      <th></th>\n",
       "      <th></th>\n",
       "      <th></th>\n",
       "      <th></th>\n",
       "      <th></th>\n",
       "      <th></th>\n",
       "      <th></th>\n",
       "      <th></th>\n",
       "      <th></th>\n",
       "      <th></th>\n",
       "      <th></th>\n",
       "      <th></th>\n",
       "      <th></th>\n",
       "      <th></th>\n",
       "      <th></th>\n",
       "      <th></th>\n",
       "      <th></th>\n",
       "      <th></th>\n",
       "      <th></th>\n",
       "      <th></th>\n",
       "      <th></th>\n",
       "    </tr>\n",
       "  </thead>\n",
       "  <tbody>\n",
       "    <tr>\n",
       "      <th>00dog3</th>\n",
       "      <td>1.0</td>\n",
       "      <td>1.0</td>\n",
       "      <td>1.0</td>\n",
       "      <td>1.0</td>\n",
       "      <td>1.0</td>\n",
       "      <td>1.0</td>\n",
       "      <td>1.0</td>\n",
       "      <td>1.0</td>\n",
       "      <td>1.0</td>\n",
       "      <td>1.0</td>\n",
       "      <td>...</td>\n",
       "      <td>1.0</td>\n",
       "      <td>1.0</td>\n",
       "      <td>1.0</td>\n",
       "      <td>1.0</td>\n",
       "      <td>1.0</td>\n",
       "      <td>1.0</td>\n",
       "      <td>1.0</td>\n",
       "      <td>1.0</td>\n",
       "      <td>1.0</td>\n",
       "      <td>1.0</td>\n",
       "    </tr>\n",
       "    <tr>\n",
       "      <th>00sab00</th>\n",
       "      <td>1.0</td>\n",
       "      <td>1.0</td>\n",
       "      <td>1.0</td>\n",
       "      <td>1.0</td>\n",
       "      <td>1.0</td>\n",
       "      <td>1.0</td>\n",
       "      <td>1.0</td>\n",
       "      <td>1.0</td>\n",
       "      <td>1.0</td>\n",
       "      <td>1.0</td>\n",
       "      <td>...</td>\n",
       "      <td>1.0</td>\n",
       "      <td>1.0</td>\n",
       "      <td>1.0</td>\n",
       "      <td>1.0</td>\n",
       "      <td>1.0</td>\n",
       "      <td>1.0</td>\n",
       "      <td>1.0</td>\n",
       "      <td>1.0</td>\n",
       "      <td>1.0</td>\n",
       "      <td>1.0</td>\n",
       "    </tr>\n",
       "    <tr>\n",
       "      <th>01impala</th>\n",
       "      <td>1.0</td>\n",
       "      <td>1.0</td>\n",
       "      <td>1.0</td>\n",
       "      <td>1.0</td>\n",
       "      <td>1.0</td>\n",
       "      <td>1.0</td>\n",
       "      <td>1.0</td>\n",
       "      <td>1.0</td>\n",
       "      <td>1.0</td>\n",
       "      <td>1.0</td>\n",
       "      <td>...</td>\n",
       "      <td>1.0</td>\n",
       "      <td>1.0</td>\n",
       "      <td>1.0</td>\n",
       "      <td>1.0</td>\n",
       "      <td>1.0</td>\n",
       "      <td>1.0</td>\n",
       "      <td>1.0</td>\n",
       "      <td>1.0</td>\n",
       "      <td>1.0</td>\n",
       "      <td>1.0</td>\n",
       "    </tr>\n",
       "    <tr>\n",
       "      <th>0325home</th>\n",
       "      <td>1.0</td>\n",
       "      <td>1.0</td>\n",
       "      <td>1.0</td>\n",
       "      <td>1.0</td>\n",
       "      <td>1.0</td>\n",
       "      <td>1.0</td>\n",
       "      <td>1.0</td>\n",
       "      <td>1.0</td>\n",
       "      <td>1.0</td>\n",
       "      <td>1.0</td>\n",
       "      <td>...</td>\n",
       "      <td>1.0</td>\n",
       "      <td>1.0</td>\n",
       "      <td>1.0</td>\n",
       "      <td>1.0</td>\n",
       "      <td>1.0</td>\n",
       "      <td>1.0</td>\n",
       "      <td>1.0</td>\n",
       "      <td>1.0</td>\n",
       "      <td>1.0</td>\n",
       "      <td>1.0</td>\n",
       "    </tr>\n",
       "    <tr>\n",
       "      <th>06stidriver</th>\n",
       "      <td>1.0</td>\n",
       "      <td>1.0</td>\n",
       "      <td>1.0</td>\n",
       "      <td>1.0</td>\n",
       "      <td>1.0</td>\n",
       "      <td>1.0</td>\n",
       "      <td>1.0</td>\n",
       "      <td>1.0</td>\n",
       "      <td>1.0</td>\n",
       "      <td>1.0</td>\n",
       "      <td>...</td>\n",
       "      <td>1.0</td>\n",
       "      <td>1.0</td>\n",
       "      <td>1.0</td>\n",
       "      <td>1.0</td>\n",
       "      <td>1.0</td>\n",
       "      <td>1.0</td>\n",
       "      <td>1.0</td>\n",
       "      <td>1.0</td>\n",
       "      <td>1.0</td>\n",
       "      <td>1.0</td>\n",
       "    </tr>\n",
       "  </tbody>\n",
       "</table>\n",
       "<p>5 rows × 245 columns</p>\n",
       "</div>"
      ],
      "text/plain": [
       "id                AV13O1A8GV-KLJ3akUyj  AV14LG0R-jtxr-f38QfS  \\\n",
       "reviews_username                                               \n",
       "00dog3                             1.0                   1.0   \n",
       "00sab00                            1.0                   1.0   \n",
       "01impala                           1.0                   1.0   \n",
       "0325home                           1.0                   1.0   \n",
       "06stidriver                        1.0                   1.0   \n",
       "\n",
       "id                AV16khLE-jtxr-f38VFn  AV1YGDqsGV-KLJ3adc-O  \\\n",
       "reviews_username                                               \n",
       "00dog3                             1.0                   1.0   \n",
       "00sab00                            1.0                   1.0   \n",
       "01impala                           1.0                   1.0   \n",
       "0325home                           1.0                   1.0   \n",
       "06stidriver                        1.0                   1.0   \n",
       "\n",
       "id                AV1YIch7GV-KLJ3addeG  AV1YlENIglJLPUi8IHsX  \\\n",
       "reviews_username                                               \n",
       "00dog3                             1.0                   1.0   \n",
       "00sab00                            1.0                   1.0   \n",
       "01impala                           1.0                   1.0   \n",
       "0325home                           1.0                   1.0   \n",
       "06stidriver                        1.0                   1.0   \n",
       "\n",
       "id                AV1YmBrdGV-KLJ3adewb  AV1YmDL9vKc47QAVgr7_  \\\n",
       "reviews_username                                               \n",
       "00dog3                             1.0                   1.0   \n",
       "00sab00                            1.0                   1.0   \n",
       "01impala                           1.0                   1.0   \n",
       "0325home                           1.0                   1.0   \n",
       "06stidriver                        1.0                   1.0   \n",
       "\n",
       "id                AV1Ymf_rglJLPUi8II2v  AV1Yn94nvKc47QAVgtst  ...  \\\n",
       "reviews_username                                              ...   \n",
       "00dog3                             1.0                   1.0  ...   \n",
       "00sab00                            1.0                   1.0  ...   \n",
       "01impala                           1.0                   1.0  ...   \n",
       "0325home                           1.0                   1.0  ...   \n",
       "06stidriver                        1.0                   1.0  ...   \n",
       "\n",
       "id                AVpfrTyiLJeJML43BrSI  AVpfrfHF1cnluZ0-pRai  \\\n",
       "reviews_username                                               \n",
       "00dog3                             1.0                   1.0   \n",
       "00sab00                            1.0                   1.0   \n",
       "01impala                           1.0                   1.0   \n",
       "0325home                           1.0                   1.0   \n",
       "06stidriver                        1.0                   1.0   \n",
       "\n",
       "id                AVpfrgjFLJeJML43BvCc  AVpfs0tUilAPnD_xgqN2  \\\n",
       "reviews_username                                               \n",
       "00dog3                             1.0                   1.0   \n",
       "00sab00                            1.0                   1.0   \n",
       "01impala                           1.0                   1.0   \n",
       "0325home                           1.0                   1.0   \n",
       "06stidriver                        1.0                   1.0   \n",
       "\n",
       "id                AVpfsQoeilAPnD_xgfx5  AVpfthSailAPnD_xg3ON  \\\n",
       "reviews_username                                               \n",
       "00dog3                             1.0                   1.0   \n",
       "00sab00                            1.0                   1.0   \n",
       "01impala                           1.0                   1.0   \n",
       "0325home                           1.0                   1.0   \n",
       "06stidriver                        1.0                   1.0   \n",
       "\n",
       "id                AVpftikC1cnluZ0-p31V  AVpftymALJeJML43CZ6y  \\\n",
       "reviews_username                                               \n",
       "00dog3                             1.0                   1.0   \n",
       "00sab00                            1.0                   1.0   \n",
       "01impala                           1.0                   1.0   \n",
       "0325home                           1.0                   1.0   \n",
       "06stidriver                        1.0                   1.0   \n",
       "\n",
       "id                AVpfv4TlilAPnD_xhjNS  AVpfvieo1cnluZ0-qdnu  \n",
       "reviews_username                                              \n",
       "00dog3                             1.0                   1.0  \n",
       "00sab00                            1.0                   1.0  \n",
       "01impala                           1.0                   1.0  \n",
       "0325home                           1.0                   1.0  \n",
       "06stidriver                        1.0                   1.0  \n",
       "\n",
       "[5 rows x 245 columns]"
      ]
     },
     "execution_count": 32,
     "metadata": {},
     "output_type": "execute_result"
    }
   ],
   "source": [
    "dummy_train.head()"
   ]
  },
  {
   "cell_type": "markdown",
   "metadata": {
    "id": "1nkX1_3pSguo"
   },
   "source": [
    "# User Similarity Matrix"
   ]
  },
  {
   "cell_type": "markdown",
   "metadata": {
    "id": "4QdCBxBWSkFw"
   },
   "source": [
    "## Using Cosine Similarity\n"
   ]
  },
  {
   "cell_type": "code",
   "execution_count": null,
   "metadata": {
    "colab": {
     "base_uri": "https://localhost:8080/"
    },
    "executionInfo": {
     "elapsed": 6904,
     "status": "ok",
     "timestamp": 1631269935879,
     "user": {
      "displayName": "Shilpa Garg",
      "photoUrl": "https://lh3.googleusercontent.com/a/default-user=s64",
      "userId": "12607333565625535618"
     },
     "user_tz": -330
    },
    "id": "eusQ9inVR42u",
    "outputId": "a0845b9c-c5a6-480f-974b-a6594b521c1c"
   },
   "outputs": [],
   "source": [
    "from sklearn.metrics.pairwise import pairwise_distances\n",
    "\n",
    "# Creating the User Similarity Matrix using pairwise_distance function.\n",
    "user_correlation = 1 - pairwise_distances(df_pivot, metric='cosine')\n",
    "user_correlation[np.isnan(user_correlation)] = 0\n",
    "print(user_correlation)"
   ]
  },
  {
   "cell_type": "code",
   "execution_count": null,
   "metadata": {
    "colab": {
     "base_uri": "https://localhost:8080/"
    },
    "executionInfo": {
     "elapsed": 24,
     "status": "ok",
     "timestamp": 1631269935879,
     "user": {
      "displayName": "Shilpa Garg",
      "photoUrl": "https://lh3.googleusercontent.com/a/default-user=s64",
      "userId": "12607333565625535618"
     },
     "user_tz": -330
    },
    "id": "8dC-d09ZSqWZ",
    "outputId": "be05487c-2f9c-478c-bebf-458d22faf3dc"
   },
   "outputs": [],
   "source": [
    "user_correlation.shape"
   ]
  },
  {
   "cell_type": "markdown",
   "metadata": {
    "id": "wcqZ7tfCbKQW"
   },
   "source": [
    "## Using adjusted Cosine"
   ]
  },
  {
   "cell_type": "code",
   "execution_count": null,
   "metadata": {
    "executionInfo": {
     "elapsed": 18,
     "status": "ok",
     "timestamp": 1631269935881,
     "user": {
      "displayName": "Shilpa Garg",
      "photoUrl": "https://lh3.googleusercontent.com/a/default-user=s64",
      "userId": "12607333565625535618"
     },
     "user_tz": -330
    },
    "id": "x5QO3VJKa9lN"
   },
   "outputs": [],
   "source": [
    "# Using adjusted Cosine"
   ]
  },
  {
   "cell_type": "markdown",
   "metadata": {
    "id": "P2RwctTcbSUs"
   },
   "source": [
    "Here, we are not removing the NaN values and calculating the mean only for the items rated by the user"
   ]
  },
  {
   "cell_type": "code",
   "execution_count": null,
   "metadata": {
    "executionInfo": {
     "elapsed": 19,
     "status": "ok",
     "timestamp": 1631269935882,
     "user": {
      "displayName": "Shilpa Garg",
      "photoUrl": "https://lh3.googleusercontent.com/a/default-user=s64",
      "userId": "12607333565625535618"
     },
     "user_tz": -330
    },
    "id": "JniF9TpubRX_"
   },
   "outputs": [],
   "source": [
    "# Create a user-item matrix.\n",
    "df_pivot = train.pivot(\n",
    "    index='reviews_username',\n",
    "    columns='id',\n",
    "    values='reviews_rating'\n",
    ")"
   ]
  },
  {
   "cell_type": "code",
   "execution_count": null,
   "metadata": {
    "colab": {
     "base_uri": "https://localhost:8080/",
     "height": 473
    },
    "executionInfo": {
     "elapsed": 970,
     "status": "ok",
     "timestamp": 1631269936834,
     "user": {
      "displayName": "Shilpa Garg",
      "photoUrl": "https://lh3.googleusercontent.com/a/default-user=s64",
      "userId": "12607333565625535618"
     },
     "user_tz": -330
    },
    "id": "btJJSvh68Xeo",
    "outputId": "4428086f-e4da-41cd-f1f7-d6e0be6eafd8"
   },
   "outputs": [],
   "source": [
    "df_pivot.head(10)"
   ]
  },
  {
   "cell_type": "markdown",
   "metadata": {
    "id": "zIOxJX2mrOub"
   },
   "source": [
    "### Normalising the rating of the item for each user around 0 mean\n",
    "\n",
    "\n"
   ]
  },
  {
   "cell_type": "code",
   "execution_count": null,
   "metadata": {
    "executionInfo": {
     "elapsed": 17,
     "status": "ok",
     "timestamp": 1631269936836,
     "user": {
      "displayName": "Shilpa Garg",
      "photoUrl": "https://lh3.googleusercontent.com/a/default-user=s64",
      "userId": "12607333565625535618"
     },
     "user_tz": -330
    },
    "id": "TrAlyVSN8adM"
   },
   "outputs": [],
   "source": [
    "mean = np.nanmean(df_pivot, axis=1)\n",
    "df_subtracted = (df_pivot.T-mean).T"
   ]
  },
  {
   "cell_type": "code",
   "execution_count": null,
   "metadata": {
    "colab": {
     "base_uri": "https://localhost:8080/",
     "height": 318
    },
    "executionInfo": {
     "elapsed": 17,
     "status": "ok",
     "timestamp": 1631269936837,
     "user": {
      "displayName": "Shilpa Garg",
      "photoUrl": "https://lh3.googleusercontent.com/a/default-user=s64",
      "userId": "12607333565625535618"
     },
     "user_tz": -330
    },
    "id": "azpIf42r8dro",
    "outputId": "0e87bb98-97d6-46b3-bf3f-a883246acd78"
   },
   "outputs": [],
   "source": [
    "df_subtracted.head()"
   ]
  },
  {
   "cell_type": "code",
   "execution_count": null,
   "metadata": {
    "executionInfo": {
     "elapsed": 17,
     "status": "ok",
     "timestamp": 1631269936839,
     "user": {
      "displayName": "Shilpa Garg",
      "photoUrl": "https://lh3.googleusercontent.com/a/default-user=s64",
      "userId": "12607333565625535618"
     },
     "user_tz": -330
    },
    "id": "WjIGr7HL8khZ"
   },
   "outputs": [],
   "source": []
  },
  {
   "cell_type": "markdown",
   "metadata": {
    "id": "-mkMEggU8lIx"
   },
   "source": [
    "### Finding cosine similarity"
   ]
  },
  {
   "cell_type": "code",
   "execution_count": null,
   "metadata": {
    "executionInfo": {
     "elapsed": 17,
     "status": "ok",
     "timestamp": 1631269936840,
     "user": {
      "displayName": "Shilpa Garg",
      "photoUrl": "https://lh3.googleusercontent.com/a/default-user=s64",
      "userId": "12607333565625535618"
     },
     "user_tz": -330
    },
    "id": "D-Yfxu5d8uX_"
   },
   "outputs": [],
   "source": [
    "from sklearn.metrics.pairwise import pairwise_distances"
   ]
  },
  {
   "cell_type": "code",
   "execution_count": null,
   "metadata": {
    "colab": {
     "base_uri": "https://localhost:8080/"
    },
    "executionInfo": {
     "elapsed": 6514,
     "status": "ok",
     "timestamp": 1631269943338,
     "user": {
      "displayName": "Shilpa Garg",
      "photoUrl": "https://lh3.googleusercontent.com/a/default-user=s64",
      "userId": "12607333565625535618"
     },
     "user_tz": -330
    },
    "id": "Wft1b67j8v21",
    "outputId": "1641a82e-79aa-429a-ef35-dff6fc5578e9"
   },
   "outputs": [],
   "source": [
    "# Creating the User Similarity Matrix using pairwise_distance function.\n",
    "user_correlation = 1 - pairwise_distances(df_subtracted.fillna(0), metric='cosine')\n",
    "user_correlation[np.isnan(user_correlation)] = 0\n",
    "print(user_correlation)"
   ]
  },
  {
   "cell_type": "code",
   "execution_count": null,
   "metadata": {
    "executionInfo": {
     "elapsed": 66,
     "status": "ok",
     "timestamp": 1631269943339,
     "user": {
      "displayName": "Shilpa Garg",
      "photoUrl": "https://lh3.googleusercontent.com/a/default-user=s64",
      "userId": "12607333565625535618"
     },
     "user_tz": -330
    },
    "id": "aV7ILyF79J8f"
   },
   "outputs": [],
   "source": []
  },
  {
   "cell_type": "markdown",
   "metadata": {
    "id": "YpCNRWPk9LPv"
   },
   "source": [
    "## Prediction - User User\n"
   ]
  },
  {
   "cell_type": "code",
   "execution_count": null,
   "metadata": {
    "colab": {
     "base_uri": "https://localhost:8080/"
    },
    "executionInfo": {
     "elapsed": 65,
     "status": "ok",
     "timestamp": 1631269943341,
     "user": {
      "displayName": "Shilpa Garg",
      "photoUrl": "https://lh3.googleusercontent.com/a/default-user=s64",
      "userId": "12607333565625535618"
     },
     "user_tz": -330
    },
    "id": "rsOa1dvVdyIr",
    "outputId": "911aa5a0-a246-43a1-bf2c-322a9d540c80"
   },
   "outputs": [],
   "source": [
    "user_correlation[user_correlation<0]=0\n",
    "user_correlation"
   ]
  },
  {
   "cell_type": "code",
   "execution_count": null,
   "metadata": {
    "colab": {
     "base_uri": "https://localhost:8080/"
    },
    "executionInfo": {
     "elapsed": 4721,
     "status": "ok",
     "timestamp": 1631269948016,
     "user": {
      "displayName": "Shilpa Garg",
      "photoUrl": "https://lh3.googleusercontent.com/a/default-user=s64",
      "userId": "12607333565625535618"
     },
     "user_tz": -330
    },
    "id": "AcojBncPppRY",
    "outputId": "810b8e43-86d9-4751-9df0-d2ede60dcf47"
   },
   "outputs": [],
   "source": [
    "user_predicted_ratings = np.dot(user_correlation, df_pivot.fillna(0))\n",
    "user_predicted_ratings"
   ]
  },
  {
   "cell_type": "code",
   "execution_count": null,
   "metadata": {
    "colab": {
     "base_uri": "https://localhost:8080/"
    },
    "executionInfo": {
     "elapsed": 63,
     "status": "ok",
     "timestamp": 1631269948018,
     "user": {
      "displayName": "Shilpa Garg",
      "photoUrl": "https://lh3.googleusercontent.com/a/default-user=s64",
      "userId": "12607333565625535618"
     },
     "user_tz": -330
    },
    "id": "52dvD-OEpu-Q",
    "outputId": "c1ea531b-010c-45da-ffc2-47333a2186d1"
   },
   "outputs": [],
   "source": [
    "user_predicted_ratings.shape"
   ]
  },
  {
   "cell_type": "code",
   "execution_count": null,
   "metadata": {
    "colab": {
     "base_uri": "https://localhost:8080/",
     "height": 318
    },
    "executionInfo": {
     "elapsed": 1128,
     "status": "ok",
     "timestamp": 1631269949102,
     "user": {
      "displayName": "Shilpa Garg",
      "photoUrl": "https://lh3.googleusercontent.com/a/default-user=s64",
      "userId": "12607333565625535618"
     },
     "user_tz": -330
    },
    "id": "v4gPkv-Vp6o3",
    "outputId": "e3bac2da-2872-4106-a563-f93e6d493787"
   },
   "outputs": [],
   "source": [
    "user_final_rating = np.multiply(user_predicted_ratings,dummy_train)\n",
    "user_final_rating.head()"
   ]
  },
  {
   "cell_type": "code",
   "execution_count": null,
   "metadata": {
    "colab": {
     "base_uri": "https://localhost:8080/"
    },
    "executionInfo": {
     "elapsed": 103,
     "status": "ok",
     "timestamp": 1631269949103,
     "user": {
      "displayName": "Shilpa Garg",
      "photoUrl": "https://lh3.googleusercontent.com/a/default-user=s64",
      "userId": "12607333565625535618"
     },
     "user_tz": -330
    },
    "id": "_OpUFEOFp-T-",
    "outputId": "6bd4ac21-ba90-4455-df3c-b40273645204"
   },
   "outputs": [],
   "source": [
    "# Predicting the item ratings for some user.\n",
    "user_input = \"laura\"\n",
    "print(user_input)"
   ]
  },
  {
   "cell_type": "code",
   "execution_count": null,
   "metadata": {
    "colab": {
     "base_uri": "https://localhost:8080/"
    },
    "executionInfo": {
     "elapsed": 95,
     "status": "ok",
     "timestamp": 1631269949106,
     "user": {
      "displayName": "Shilpa Garg",
      "photoUrl": "https://lh3.googleusercontent.com/a/default-user=s64",
      "userId": "12607333565625535618"
     },
     "user_tz": -330
    },
    "id": "1NIXOkrYqTi0",
    "outputId": "f04a80ab-db88-40a5-d495-73e36b154843"
   },
   "outputs": [],
   "source": [
    "# Top 20 recommnedations\n",
    "d = user_final_rating.loc[user_input].sort_values(ascending=False)[0:20]\n",
    "d"
   ]
  },
  {
   "cell_type": "code",
   "execution_count": null,
   "metadata": {
    "executionInfo": {
     "elapsed": 85,
     "status": "ok",
     "timestamp": 1631269949107,
     "user": {
      "displayName": "Shilpa Garg",
      "photoUrl": "https://lh3.googleusercontent.com/a/default-user=s64",
      "userId": "12607333565625535618"
     },
     "user_tz": -330
    },
    "id": "ltULgdznqah5"
   },
   "outputs": [],
   "source": []
  },
  {
   "cell_type": "markdown",
   "metadata": {
    "id": "iFzHNzzs7dPz"
   },
   "source": [
    "## Evaluation - User User"
   ]
  },
  {
   "cell_type": "code",
   "execution_count": null,
   "metadata": {
    "colab": {
     "base_uri": "https://localhost:8080/"
    },
    "executionInfo": {
     "elapsed": 82,
     "status": "ok",
     "timestamp": 1631269949108,
     "user": {
      "displayName": "Shilpa Garg",
      "photoUrl": "https://lh3.googleusercontent.com/a/default-user=s64",
      "userId": "12607333565625535618"
     },
     "user_tz": -330
    },
    "id": "pRMPwNvH7htH",
    "outputId": "c82dc393-ea88-4a12-d5df-07653b8663a3"
   },
   "outputs": [],
   "source": [
    "# Find out the common users of test and train dataset.\n",
    "common = test[test.reviews_username.isin(train.reviews_username)]\n",
    "common.shape"
   ]
  },
  {
   "cell_type": "code",
   "execution_count": null,
   "metadata": {
    "colab": {
     "base_uri": "https://localhost:8080/",
     "height": 204
    },
    "executionInfo": {
     "elapsed": 74,
     "status": "ok",
     "timestamp": 1631269949109,
     "user": {
      "displayName": "Shilpa Garg",
      "photoUrl": "https://lh3.googleusercontent.com/a/default-user=s64",
      "userId": "12607333565625535618"
     },
     "user_tz": -330
    },
    "id": "-wZCpDwN7x8H",
    "outputId": "3edf3150-2d9c-4cf2-8b93-eb3b783611fe"
   },
   "outputs": [],
   "source": [
    "common.head()"
   ]
  },
  {
   "cell_type": "code",
   "execution_count": null,
   "metadata": {
    "executionInfo": {
     "elapsed": 72,
     "status": "ok",
     "timestamp": 1631269949110,
     "user": {
      "displayName": "Shilpa Garg",
      "photoUrl": "https://lh3.googleusercontent.com/a/default-user=s64",
      "userId": "12607333565625535618"
     },
     "user_tz": -330
    },
    "id": "xenqIlR-7lPK"
   },
   "outputs": [],
   "source": [
    "# convert into the user-item matrix.\n",
    "common_user_based_matrix = common.pivot_table(index='reviews_username', columns='id', values='reviews_rating')"
   ]
  },
  {
   "cell_type": "code",
   "execution_count": null,
   "metadata": {
    "executionInfo": {
     "elapsed": 72,
     "status": "ok",
     "timestamp": 1631269949111,
     "user": {
      "displayName": "Shilpa Garg",
      "photoUrl": "https://lh3.googleusercontent.com/a/default-user=s64",
      "userId": "12607333565625535618"
     },
     "user_tz": -330
    },
    "id": "4tmxQoXi8AB_"
   },
   "outputs": [],
   "source": [
    "# Convert the user_correlation matrix into dataframe.\n",
    "user_correlation_df = pd.DataFrame(user_correlation)"
   ]
  },
  {
   "cell_type": "code",
   "execution_count": null,
   "metadata": {
    "colab": {
     "base_uri": "https://localhost:8080/",
     "height": 194
    },
    "executionInfo": {
     "elapsed": 72,
     "status": "ok",
     "timestamp": 1631269949112,
     "user": {
      "displayName": "Shilpa Garg",
      "photoUrl": "https://lh3.googleusercontent.com/a/default-user=s64",
      "userId": "12607333565625535618"
     },
     "user_tz": -330
    },
    "id": "fYkJfhbN8EFk",
    "outputId": "9bcba300-76c1-41a6-ffd0-c242c7809523"
   },
   "outputs": [],
   "source": [
    "df_subtracted.head(1)"
   ]
  },
  {
   "cell_type": "code",
   "execution_count": null,
   "metadata": {
    "colab": {
     "base_uri": "https://localhost:8080/",
     "height": 284
    },
    "executionInfo": {
     "elapsed": 71,
     "status": "ok",
     "timestamp": 1631269949113,
     "user": {
      "displayName": "Shilpa Garg",
      "photoUrl": "https://lh3.googleusercontent.com/a/default-user=s64",
      "userId": "12607333565625535618"
     },
     "user_tz": -330
    },
    "id": "9i007_xD8GyM",
    "outputId": "9a5c0a4e-489e-48f9-9139-0288170d9848"
   },
   "outputs": [],
   "source": [
    "user_correlation_df['userId'] = df_subtracted.index\n",
    "user_correlation_df.set_index('userId',inplace=True)\n",
    "user_correlation_df.head()"
   ]
  },
  {
   "cell_type": "code",
   "execution_count": null,
   "metadata": {
    "colab": {
     "base_uri": "https://localhost:8080/",
     "height": 80
    },
    "executionInfo": {
     "elapsed": 70,
     "status": "ok",
     "timestamp": 1631269949114,
     "user": {
      "displayName": "Shilpa Garg",
      "photoUrl": "https://lh3.googleusercontent.com/a/default-user=s64",
      "userId": "12607333565625535618"
     },
     "user_tz": -330
    },
    "id": "-vGhMgpE8nxM",
    "outputId": "0a799800-1c00-4c64-8c7f-6597387dc573"
   },
   "outputs": [],
   "source": [
    "common.head(1)"
   ]
  },
  {
   "cell_type": "code",
   "execution_count": null,
   "metadata": {
    "executionInfo": {
     "elapsed": 69,
     "status": "ok",
     "timestamp": 1631269949115,
     "user": {
      "displayName": "Shilpa Garg",
      "photoUrl": "https://lh3.googleusercontent.com/a/default-user=s64",
      "userId": "12607333565625535618"
     },
     "user_tz": -330
    },
    "id": "0BvG-WuJ8sKY"
   },
   "outputs": [],
   "source": [
    "list_name = common.reviews_username.tolist()\n",
    "\n",
    "user_correlation_df.columns = df_subtracted.index.tolist()\n",
    "\n",
    "\n",
    "user_correlation_df_1 =  user_correlation_df[user_correlation_df.index.isin(list_name)]"
   ]
  },
  {
   "cell_type": "code",
   "execution_count": null,
   "metadata": {
    "colab": {
     "base_uri": "https://localhost:8080/"
    },
    "executionInfo": {
     "elapsed": 68,
     "status": "ok",
     "timestamp": 1631269949115,
     "user": {
      "displayName": "Shilpa Garg",
      "photoUrl": "https://lh3.googleusercontent.com/a/default-user=s64",
      "userId": "12607333565625535618"
     },
     "user_tz": -330
    },
    "id": "PECifzy39oRX",
    "outputId": "75297085-04e9-4ea2-d4c3-a90772130e01"
   },
   "outputs": [],
   "source": [
    "user_correlation_df_1.shape"
   ]
  },
  {
   "cell_type": "code",
   "execution_count": null,
   "metadata": {
    "executionInfo": {
     "elapsed": 60,
     "status": "ok",
     "timestamp": 1631269949116,
     "user": {
      "displayName": "Shilpa Garg",
      "photoUrl": "https://lh3.googleusercontent.com/a/default-user=s64",
      "userId": "12607333565625535618"
     },
     "user_tz": -330
    },
    "id": "4TELbImz9uPL"
   },
   "outputs": [],
   "source": [
    "user_correlation_df_2 = user_correlation_df_1.T[user_correlation_df_1.T.index.isin(list_name)]"
   ]
  },
  {
   "cell_type": "code",
   "execution_count": null,
   "metadata": {
    "executionInfo": {
     "elapsed": 60,
     "status": "ok",
     "timestamp": 1631269949117,
     "user": {
      "displayName": "Shilpa Garg",
      "photoUrl": "https://lh3.googleusercontent.com/a/default-user=s64",
      "userId": "12607333565625535618"
     },
     "user_tz": -330
    },
    "id": "HENGWUZB9wI5"
   },
   "outputs": [],
   "source": [
    "user_correlation_df_3 = user_correlation_df_2.T"
   ]
  },
  {
   "cell_type": "code",
   "execution_count": null,
   "metadata": {
    "colab": {
     "base_uri": "https://localhost:8080/",
     "height": 284
    },
    "executionInfo": {
     "elapsed": 913,
     "status": "ok",
     "timestamp": 1631269949971,
     "user": {
      "displayName": "Shilpa Garg",
      "photoUrl": "https://lh3.googleusercontent.com/a/default-user=s64",
      "userId": "12607333565625535618"
     },
     "user_tz": -330
    },
    "id": "4RT1yv0J9yM_",
    "outputId": "b1c948ff-40d7-455f-e918-b6062888a4da"
   },
   "outputs": [],
   "source": [
    "user_correlation_df_3.head()"
   ]
  },
  {
   "cell_type": "code",
   "execution_count": null,
   "metadata": {
    "colab": {
     "base_uri": "https://localhost:8080/"
    },
    "executionInfo": {
     "elapsed": 88,
     "status": "ok",
     "timestamp": 1631269949974,
     "user": {
      "displayName": "Shilpa Garg",
      "photoUrl": "https://lh3.googleusercontent.com/a/default-user=s64",
      "userId": "12607333565625535618"
     },
     "user_tz": -330
    },
    "id": "fGxhMdyw9ztq",
    "outputId": "15ada6ca-9d2d-4275-efdc-6facbeab0fd3"
   },
   "outputs": [],
   "source": [
    "user_correlation_df_3.shape"
   ]
  },
  {
   "cell_type": "code",
   "execution_count": null,
   "metadata": {
    "colab": {
     "base_uri": "https://localhost:8080/"
    },
    "executionInfo": {
     "elapsed": 85,
     "status": "ok",
     "timestamp": 1631269949976,
     "user": {
      "displayName": "Shilpa Garg",
      "photoUrl": "https://lh3.googleusercontent.com/a/default-user=s64",
      "userId": "12607333565625535618"
     },
     "user_tz": -330
    },
    "id": "IEFgjaFw91xt",
    "outputId": "2fa8448a-f699-4c47-d3f2-bfadf4cdec13"
   },
   "outputs": [],
   "source": [
    "user_correlation_df_3[user_correlation_df_3<0]=0\n",
    "\n",
    "common_user_predicted_ratings = np.dot(user_correlation_df_3, common_user_based_matrix.fillna(0))\n",
    "common_user_predicted_ratings"
   ]
  },
  {
   "cell_type": "code",
   "execution_count": null,
   "metadata": {
    "executionInfo": {
     "elapsed": 82,
     "status": "ok",
     "timestamp": 1631269949980,
     "user": {
      "displayName": "Shilpa Garg",
      "photoUrl": "https://lh3.googleusercontent.com/a/default-user=s64",
      "userId": "12607333565625535618"
     },
     "user_tz": -330
    },
    "id": "Q-5RVDzf95IF"
   },
   "outputs": [],
   "source": [
    "dummy_test = common.copy()\n",
    "\n",
    "dummy_test['reviews_rating'] = dummy_test['reviews_rating'].apply(lambda x: 1 if x>=1 else 0)\n",
    "\n",
    "dummy_test = dummy_test.pivot_table(index='reviews_username', columns='id', values='reviews_rating').fillna(0)"
   ]
  },
  {
   "cell_type": "code",
   "execution_count": null,
   "metadata": {
    "colab": {
     "base_uri": "https://localhost:8080/"
    },
    "executionInfo": {
     "elapsed": 82,
     "status": "ok",
     "timestamp": 1631269949981,
     "user": {
      "displayName": "Shilpa Garg",
      "photoUrl": "https://lh3.googleusercontent.com/a/default-user=s64",
      "userId": "12607333565625535618"
     },
     "user_tz": -330
    },
    "id": "gBCcV-p9-FgW",
    "outputId": "9e4ccd0f-8921-44d8-9696-3193fdb8d8ba"
   },
   "outputs": [],
   "source": [
    "dummy_test.shape"
   ]
  },
  {
   "cell_type": "code",
   "execution_count": null,
   "metadata": {
    "executionInfo": {
     "elapsed": 78,
     "status": "ok",
     "timestamp": 1631269949982,
     "user": {
      "displayName": "Shilpa Garg",
      "photoUrl": "https://lh3.googleusercontent.com/a/default-user=s64",
      "userId": "12607333565625535618"
     },
     "user_tz": -330
    },
    "id": "voZseOeF-Nj5"
   },
   "outputs": [],
   "source": [
    "common_user_predicted_ratings = np.multiply(common_user_predicted_ratings,dummy_test)"
   ]
  },
  {
   "cell_type": "code",
   "execution_count": null,
   "metadata": {
    "colab": {
     "base_uri": "https://localhost:8080/",
     "height": 225
    },
    "executionInfo": {
     "elapsed": 78,
     "status": "ok",
     "timestamp": 1631269949983,
     "user": {
      "displayName": "Shilpa Garg",
      "photoUrl": "https://lh3.googleusercontent.com/a/default-user=s64",
      "userId": "12607333565625535618"
     },
     "user_tz": -330
    },
    "id": "WvJbC44v-QEk",
    "outputId": "8ee2961d-e1f3-4d3f-87d4-79273605cda2"
   },
   "outputs": [],
   "source": [
    "common_user_predicted_ratings.head(2)"
   ]
  },
  {
   "cell_type": "code",
   "execution_count": null,
   "metadata": {
    "executionInfo": {
     "elapsed": 74,
     "status": "ok",
     "timestamp": 1631269949984,
     "user": {
      "displayName": "Shilpa Garg",
      "photoUrl": "https://lh3.googleusercontent.com/a/default-user=s64",
      "userId": "12607333565625535618"
     },
     "user_tz": -330
    },
    "id": "7m9k4OWK-SXE"
   },
   "outputs": [],
   "source": []
  },
  {
   "cell_type": "markdown",
   "metadata": {
    "id": "WF3cjYLq-W2C"
   },
   "source": [
    "Calculating the RMSE for only the items rated by user. For RMSE, normalising the rating to (1,5) range.\n",
    "\n",
    "\n"
   ]
  },
  {
   "cell_type": "code",
   "execution_count": null,
   "metadata": {
    "colab": {
     "base_uri": "https://localhost:8080/"
    },
    "executionInfo": {
     "elapsed": 75,
     "status": "ok",
     "timestamp": 1631269949986,
     "user": {
      "displayName": "Shilpa Garg",
      "photoUrl": "https://lh3.googleusercontent.com/a/default-user=s64",
      "userId": "12607333565625535618"
     },
     "user_tz": -330
    },
    "id": "tQJGU-Zv-Xkp",
    "outputId": "afcd05f2-3344-46c9-ddda-073072f54aa7"
   },
   "outputs": [],
   "source": [
    "from sklearn.preprocessing import MinMaxScaler\n",
    "from numpy import *\n",
    "\n",
    "X  = common_user_predicted_ratings.copy() \n",
    "X = X[X>0]\n",
    "\n",
    "scaler = MinMaxScaler(feature_range=(1, 5))\n",
    "print(scaler.fit(X))\n",
    "y = (scaler.transform(X))\n",
    "\n",
    "print(y)"
   ]
  },
  {
   "cell_type": "code",
   "execution_count": null,
   "metadata": {
    "executionInfo": {
     "elapsed": 68,
     "status": "ok",
     "timestamp": 1631269949987,
     "user": {
      "displayName": "Shilpa Garg",
      "photoUrl": "https://lh3.googleusercontent.com/a/default-user=s64",
      "userId": "12607333565625535618"
     },
     "user_tz": -330
    },
    "id": "jRtpq32S-ag0"
   },
   "outputs": [],
   "source": [
    "common_ = common.pivot_table(index='reviews_username', columns='id', values='reviews_rating')"
   ]
  },
  {
   "cell_type": "code",
   "execution_count": null,
   "metadata": {
    "executionInfo": {
     "elapsed": 68,
     "status": "ok",
     "timestamp": 1631269949988,
     "user": {
      "displayName": "Shilpa Garg",
      "photoUrl": "https://lh3.googleusercontent.com/a/default-user=s64",
      "userId": "12607333565625535618"
     },
     "user_tz": -330
    },
    "id": "TAEcOONH-hIf"
   },
   "outputs": [],
   "source": [
    "# Finding total non-NaN value\n",
    "total_non_nan = np.count_nonzero(~np.isnan(y))"
   ]
  },
  {
   "cell_type": "code",
   "execution_count": null,
   "metadata": {
    "colab": {
     "base_uri": "https://localhost:8080/"
    },
    "executionInfo": {
     "elapsed": 69,
     "status": "ok",
     "timestamp": 1631269949990,
     "user": {
      "displayName": "Shilpa Garg",
      "photoUrl": "https://lh3.googleusercontent.com/a/default-user=s64",
      "userId": "12607333565625535618"
     },
     "user_tz": -330
    },
    "id": "IR_fVdUH-i1N",
    "outputId": "c863851c-3428-4c96-8b78-c50c30d4a38c"
   },
   "outputs": [],
   "source": [
    "rmse = (sum(sum((common_ - y )**2))/total_non_nan)**0.5\n",
    "print(rmse)"
   ]
  },
  {
   "cell_type": "code",
   "execution_count": null,
   "metadata": {
    "executionInfo": {
     "elapsed": 63,
     "status": "ok",
     "timestamp": 1631269949991,
     "user": {
      "displayName": "Shilpa Garg",
      "photoUrl": "https://lh3.googleusercontent.com/a/default-user=s64",
      "userId": "12607333565625535618"
     },
     "user_tz": -330
    },
    "id": "pphN2iGZ-kTT"
   },
   "outputs": [],
   "source": []
  },
  {
   "cell_type": "markdown",
   "metadata": {
    "id": "p5V-FkS7BygA"
   },
   "source": [
    "# Using Item similarity\n"
   ]
  },
  {
   "cell_type": "markdown",
   "metadata": {
    "id": "GMJ5KJqyB2Oq"
   },
   "source": [
    "## Item Based Similarity"
   ]
  },
  {
   "cell_type": "code",
   "execution_count": null,
   "metadata": {
    "colab": {
     "base_uri": "https://localhost:8080/",
     "height": 369
    },
    "executionInfo": {
     "elapsed": 65,
     "status": "ok",
     "timestamp": 1631269949994,
     "user": {
      "displayName": "Shilpa Garg",
      "photoUrl": "https://lh3.googleusercontent.com/a/default-user=s64",
      "userId": "12607333565625535618"
     },
     "user_tz": -330
    },
    "id": "7QurGpaGBmBG",
    "outputId": "7225fb2f-4dd2-4a99-fcfa-0b9ee3e46765"
   },
   "outputs": [],
   "source": [
    "df_pivot = train.pivot(\n",
    "    index='reviews_username', columns='id', values='reviews_rating'\n",
    ").T\n",
    "\n",
    "df_pivot.head()"
   ]
  },
  {
   "cell_type": "code",
   "execution_count": null,
   "metadata": {
    "executionInfo": {
     "elapsed": 64,
     "status": "ok",
     "timestamp": 1631269949996,
     "user": {
      "displayName": "Shilpa Garg",
      "photoUrl": "https://lh3.googleusercontent.com/a/default-user=s64",
      "userId": "12607333565625535618"
     },
     "user_tz": -330
    },
    "id": "W1AHsOHvB-_y"
   },
   "outputs": [],
   "source": []
  },
  {
   "cell_type": "markdown",
   "metadata": {
    "id": "1UOqPETiCFLs"
   },
   "source": [
    "Normalising the item rating for each movie for using the Adujsted Cosine"
   ]
  },
  {
   "cell_type": "code",
   "execution_count": null,
   "metadata": {
    "executionInfo": {
     "elapsed": 63,
     "status": "ok",
     "timestamp": 1631269949997,
     "user": {
      "displayName": "Shilpa Garg",
      "photoUrl": "https://lh3.googleusercontent.com/a/default-user=s64",
      "userId": "12607333565625535618"
     },
     "user_tz": -330
    },
    "id": "nbUwJjiPCFk4"
   },
   "outputs": [],
   "source": [
    "mean = np.nanmean(df_pivot, axis=1)\n",
    "df_subtracted = (df_pivot.T-mean).T"
   ]
  },
  {
   "cell_type": "code",
   "execution_count": null,
   "metadata": {
    "colab": {
     "base_uri": "https://localhost:8080/",
     "height": 369
    },
    "executionInfo": {
     "elapsed": 64,
     "status": "ok",
     "timestamp": 1631269949999,
     "user": {
      "displayName": "Shilpa Garg",
      "photoUrl": "https://lh3.googleusercontent.com/a/default-user=s64",
      "userId": "12607333565625535618"
     },
     "user_tz": -330
    },
    "id": "PFRbrTT0DXwJ",
    "outputId": "5f0c1f28-a46c-45c1-bfb9-f419f2f70c7d"
   },
   "outputs": [],
   "source": [
    "df_subtracted.head()"
   ]
  },
  {
   "cell_type": "code",
   "execution_count": null,
   "metadata": {
    "executionInfo": {
     "elapsed": 62,
     "status": "ok",
     "timestamp": 1631269950000,
     "user": {
      "displayName": "Shilpa Garg",
      "photoUrl": "https://lh3.googleusercontent.com/a/default-user=s64",
      "userId": "12607333565625535618"
     },
     "user_tz": -330
    },
    "id": "FATpL5bhDY5w"
   },
   "outputs": [],
   "source": []
  },
  {
   "cell_type": "markdown",
   "metadata": {
    "id": "OOsLL_p1DcU3"
   },
   "source": [
    "Finding the cosine similarity using pairwise distances approach"
   ]
  },
  {
   "cell_type": "code",
   "execution_count": null,
   "metadata": {
    "executionInfo": {
     "elapsed": 63,
     "status": "ok",
     "timestamp": 1631269950001,
     "user": {
      "displayName": "Shilpa Garg",
      "photoUrl": "https://lh3.googleusercontent.com/a/default-user=s64",
      "userId": "12607333565625535618"
     },
     "user_tz": -330
    },
    "id": "univiJhiDcx4"
   },
   "outputs": [],
   "source": [
    "from sklearn.metrics.pairwise import pairwise_distances"
   ]
  },
  {
   "cell_type": "code",
   "execution_count": null,
   "metadata": {
    "colab": {
     "base_uri": "https://localhost:8080/"
    },
    "executionInfo": {
     "elapsed": 63,
     "status": "ok",
     "timestamp": 1631269950002,
     "user": {
      "displayName": "Shilpa Garg",
      "photoUrl": "https://lh3.googleusercontent.com/a/default-user=s64",
      "userId": "12607333565625535618"
     },
     "user_tz": -330
    },
    "id": "T15GW1DkDeXL",
    "outputId": "d25bf3cb-9043-4d06-ff42-417ab1d43c5d"
   },
   "outputs": [],
   "source": [
    "# Item Similarity Matrix\n",
    "item_correlation = 1 - pairwise_distances(df_subtracted.fillna(0), metric='cosine')\n",
    "item_correlation[np.isnan(item_correlation)] = 0\n",
    "print(item_correlation)"
   ]
  },
  {
   "cell_type": "code",
   "execution_count": null,
   "metadata": {
    "executionInfo": {
     "elapsed": 59,
     "status": "ok",
     "timestamp": 1631269950007,
     "user": {
      "displayName": "Shilpa Garg",
      "photoUrl": "https://lh3.googleusercontent.com/a/default-user=s64",
      "userId": "12607333565625535618"
     },
     "user_tz": -330
    },
    "id": "6qjLgYNEDf2z"
   },
   "outputs": [],
   "source": []
  },
  {
   "cell_type": "code",
   "execution_count": null,
   "metadata": {
    "executionInfo": {
     "elapsed": 58,
     "status": "ok",
     "timestamp": 1631269950008,
     "user": {
      "displayName": "Shilpa Garg",
      "photoUrl": "https://lh3.googleusercontent.com/a/default-user=s64",
      "userId": "12607333565625535618"
     },
     "user_tz": -330
    },
    "id": "niJg5Y-LDj7U"
   },
   "outputs": [],
   "source": []
  },
  {
   "cell_type": "markdown",
   "metadata": {
    "id": "VRIKINHQDoEk"
   },
   "source": [
    "Filtering the correlation only for which the value is greater than 0. (Positively correlated)"
   ]
  },
  {
   "cell_type": "code",
   "execution_count": null,
   "metadata": {
    "colab": {
     "base_uri": "https://localhost:8080/"
    },
    "executionInfo": {
     "elapsed": 865,
     "status": "ok",
     "timestamp": 1631269950815,
     "user": {
      "displayName": "Shilpa Garg",
      "photoUrl": "https://lh3.googleusercontent.com/a/default-user=s64",
      "userId": "12607333565625535618"
     },
     "user_tz": -330
    },
    "id": "m6ofs862Dotb",
    "outputId": "19ae2c9b-3b98-4e75-e7c9-3c160232884b"
   },
   "outputs": [],
   "source": [
    "item_correlation[item_correlation<0]=0\n",
    "item_correlation"
   ]
  },
  {
   "cell_type": "code",
   "execution_count": null,
   "metadata": {
    "executionInfo": {
     "elapsed": 135,
     "status": "ok",
     "timestamp": 1631269950817,
     "user": {
      "displayName": "Shilpa Garg",
      "photoUrl": "https://lh3.googleusercontent.com/a/default-user=s64",
      "userId": "12607333565625535618"
     },
     "user_tz": -330
    },
    "id": "M7ml61T6DqVs"
   },
   "outputs": [],
   "source": []
  },
  {
   "cell_type": "markdown",
   "metadata": {
    "id": "36iELIRTDueA"
   },
   "source": [
    "## Prediction - Item Item"
   ]
  },
  {
   "cell_type": "code",
   "execution_count": null,
   "metadata": {
    "colab": {
     "base_uri": "https://localhost:8080/"
    },
    "executionInfo": {
     "elapsed": 136,
     "status": "ok",
     "timestamp": 1631269950819,
     "user": {
      "displayName": "Shilpa Garg",
      "photoUrl": "https://lh3.googleusercontent.com/a/default-user=s64",
      "userId": "12607333565625535618"
     },
     "user_tz": -330
    },
    "id": "i3D1bezUDu2K",
    "outputId": "3dc8b2ba-0fb1-481a-cc69-0703771582ac"
   },
   "outputs": [],
   "source": [
    "item_predicted_ratings = np.dot((df_pivot.fillna(0).T),item_correlation)\n",
    "item_predicted_ratings"
   ]
  },
  {
   "cell_type": "code",
   "execution_count": null,
   "metadata": {
    "colab": {
     "base_uri": "https://localhost:8080/"
    },
    "executionInfo": {
     "elapsed": 126,
     "status": "ok",
     "timestamp": 1631269950822,
     "user": {
      "displayName": "Shilpa Garg",
      "photoUrl": "https://lh3.googleusercontent.com/a/default-user=s64",
      "userId": "12607333565625535618"
     },
     "user_tz": -330
    },
    "id": "BqJUf-pEDw2x",
    "outputId": "5590d177-fade-47c8-a3d2-97ab63f16bf8"
   },
   "outputs": [],
   "source": [
    "item_predicted_ratings.shape"
   ]
  },
  {
   "cell_type": "code",
   "execution_count": null,
   "metadata": {
    "colab": {
     "base_uri": "https://localhost:8080/"
    },
    "executionInfo": {
     "elapsed": 118,
     "status": "ok",
     "timestamp": 1631269950823,
     "user": {
      "displayName": "Shilpa Garg",
      "photoUrl": "https://lh3.googleusercontent.com/a/default-user=s64",
      "userId": "12607333565625535618"
     },
     "user_tz": -330
    },
    "id": "lok9WaS1DzCY",
    "outputId": "5faf2825-dfe3-4ae1-bf8e-ccedc89ce552"
   },
   "outputs": [],
   "source": [
    "dummy_train.shape"
   ]
  },
  {
   "cell_type": "code",
   "execution_count": null,
   "metadata": {
    "executionInfo": {
     "elapsed": 114,
     "status": "ok",
     "timestamp": 1631269950824,
     "user": {
      "displayName": "Shilpa Garg",
      "photoUrl": "https://lh3.googleusercontent.com/a/default-user=s64",
      "userId": "12607333565625535618"
     },
     "user_tz": -330
    },
    "id": "cEKLhydqD1lt"
   },
   "outputs": [],
   "source": []
  },
  {
   "cell_type": "markdown",
   "metadata": {
    "id": "vtoT95InEA-b"
   },
   "source": [
    "### Filtering the rating only for the items not rated by the user for recommendation\n"
   ]
  },
  {
   "cell_type": "code",
   "execution_count": null,
   "metadata": {
    "colab": {
     "base_uri": "https://localhost:8080/",
     "height": 318
    },
    "executionInfo": {
     "elapsed": 113,
     "status": "ok",
     "timestamp": 1631269950826,
     "user": {
      "displayName": "Shilpa Garg",
      "photoUrl": "https://lh3.googleusercontent.com/a/default-user=s64",
      "userId": "12607333565625535618"
     },
     "user_tz": -330
    },
    "id": "Sv02PBMnEBg8",
    "outputId": "28fce2f3-4e75-4792-849c-6050ac561a28"
   },
   "outputs": [],
   "source": [
    "item_final_rating = np.multiply(item_predicted_ratings,dummy_train)\n",
    "item_final_rating.head()"
   ]
  },
  {
   "cell_type": "code",
   "execution_count": null,
   "metadata": {
    "executionInfo": {
     "elapsed": 88,
     "status": "ok",
     "timestamp": 1631269950827,
     "user": {
      "displayName": "Shilpa Garg",
      "photoUrl": "https://lh3.googleusercontent.com/a/default-user=s64",
      "userId": "12607333565625535618"
     },
     "user_tz": -330
    },
    "id": "jXclM5a7EC-d"
   },
   "outputs": [],
   "source": []
  },
  {
   "cell_type": "markdown",
   "metadata": {
    "id": "zO_gED0IEE-m"
   },
   "source": [
    "### Finding the top 20 recommendation for the *user*\n",
    "\n"
   ]
  },
  {
   "cell_type": "code",
   "execution_count": null,
   "metadata": {
    "colab": {
     "base_uri": "https://localhost:8080/"
    },
    "executionInfo": {
     "elapsed": 90,
     "status": "ok",
     "timestamp": 1631269950830,
     "user": {
      "displayName": "Shilpa Garg",
      "photoUrl": "https://lh3.googleusercontent.com/a/default-user=s64",
      "userId": "12607333565625535618"
     },
     "user_tz": -330
    },
    "id": "-cCOu2jPEFT3",
    "outputId": "7354e70d-ba67-4c1e-9415-8f9607dafb34"
   },
   "outputs": [],
   "source": [
    "# Take the user ID as input\n",
    "user_input = \"laura\"\n",
    "print(user_input)"
   ]
  },
  {
   "cell_type": "code",
   "execution_count": null,
   "metadata": {
    "colab": {
     "base_uri": "https://localhost:8080/"
    },
    "executionInfo": {
     "elapsed": 83,
     "status": "ok",
     "timestamp": 1631269950832,
     "user": {
      "displayName": "Shilpa Garg",
      "photoUrl": "https://lh3.googleusercontent.com/a/default-user=s64",
      "userId": "12607333565625535618"
     },
     "user_tz": -330
    },
    "id": "pJe1H1e3EHCj",
    "outputId": "2288e098-c997-4157-f69a-970bd6b6d13f"
   },
   "outputs": [],
   "source": [
    "# Recommending the Top 20 products to the user.\n",
    "d = item_final_rating.loc[user_input].sort_values(ascending=False)[0:20]\n",
    "d"
   ]
  },
  {
   "cell_type": "code",
   "execution_count": null,
   "metadata": {
    "executionInfo": {
     "elapsed": 75,
     "status": "ok",
     "timestamp": 1631269950833,
     "user": {
      "displayName": "Shilpa Garg",
      "photoUrl": "https://lh3.googleusercontent.com/a/default-user=s64",
      "userId": "12607333565625535618"
     },
     "user_tz": -330
    },
    "id": "D8n_2ATYEJSs"
   },
   "outputs": [],
   "source": []
  },
  {
   "cell_type": "markdown",
   "metadata": {
    "id": "EDno_BbYEehv"
   },
   "source": [
    "# Evaluation - Item Item"
   ]
  },
  {
   "cell_type": "code",
   "execution_count": null,
   "metadata": {
    "executionInfo": {
     "elapsed": 75,
     "status": "ok",
     "timestamp": 1631269950834,
     "user": {
      "displayName": "Shilpa Garg",
      "photoUrl": "https://lh3.googleusercontent.com/a/default-user=s64",
      "userId": "12607333565625535618"
     },
     "user_tz": -330
    },
    "id": "0TU2Bc3FEe5a"
   },
   "outputs": [],
   "source": []
  },
  {
   "cell_type": "markdown",
   "metadata": {
    "id": "w6l_RnFJEg3p"
   },
   "source": [
    "Evaluation will we same as I have done above for the prediction. The only difference being, I am evaluating for the item already rated by the user insead of predicting it for the item not rated by the user. "
   ]
  },
  {
   "cell_type": "code",
   "execution_count": null,
   "metadata": {
    "colab": {
     "base_uri": "https://localhost:8080/"
    },
    "executionInfo": {
     "elapsed": 75,
     "status": "ok",
     "timestamp": 1631269950835,
     "user": {
      "displayName": "Shilpa Garg",
      "photoUrl": "https://lh3.googleusercontent.com/a/default-user=s64",
      "userId": "12607333565625535618"
     },
     "user_tz": -330
    },
    "id": "i0DqfgrCEhSF",
    "outputId": "350f11e1-28fa-4c57-d9a3-32f21bfd357d"
   },
   "outputs": [],
   "source": [
    "test.columns"
   ]
  },
  {
   "cell_type": "code",
   "execution_count": null,
   "metadata": {
    "colab": {
     "base_uri": "https://localhost:8080/"
    },
    "executionInfo": {
     "elapsed": 54,
     "status": "ok",
     "timestamp": 1631269950836,
     "user": {
      "displayName": "Shilpa Garg",
      "photoUrl": "https://lh3.googleusercontent.com/a/default-user=s64",
      "userId": "12607333565625535618"
     },
     "user_tz": -330
    },
    "id": "p6dNHPVCEnA9",
    "outputId": "a21fb6fa-4cb6-44c0-f7d1-18f21b8edb6f"
   },
   "outputs": [],
   "source": [
    "common =  test[test.id.isin(train.id)]\n",
    "common.shape"
   ]
  },
  {
   "cell_type": "code",
   "execution_count": null,
   "metadata": {
    "colab": {
     "base_uri": "https://localhost:8080/",
     "height": 173
    },
    "executionInfo": {
     "elapsed": 41,
     "status": "ok",
     "timestamp": 1631269950837,
     "user": {
      "displayName": "Shilpa Garg",
      "photoUrl": "https://lh3.googleusercontent.com/a/default-user=s64",
      "userId": "12607333565625535618"
     },
     "user_tz": -330
    },
    "id": "5DQboKAxEqBm",
    "outputId": "460a0a77-600c-49a5-dec5-9a725d4cd990"
   },
   "outputs": [],
   "source": [
    "common.head(4)"
   ]
  },
  {
   "cell_type": "code",
   "execution_count": null,
   "metadata": {
    "colab": {
     "base_uri": "https://localhost:8080/"
    },
    "executionInfo": {
     "elapsed": 39,
     "status": "ok",
     "timestamp": 1631269950837,
     "user": {
      "displayName": "Shilpa Garg",
      "photoUrl": "https://lh3.googleusercontent.com/a/default-user=s64",
      "userId": "12607333565625535618"
     },
     "user_tz": -330
    },
    "id": "tmi5jtq4Ewj2",
    "outputId": "43c4bbf3-463c-4bb4-cd6b-7bf0ea48e651"
   },
   "outputs": [],
   "source": [
    "common_item_based_matrix = common.pivot_table(index='reviews_username', columns='id', values='reviews_rating').T\n",
    "\n",
    "common_item_based_matrix.shape"
   ]
  },
  {
   "cell_type": "code",
   "execution_count": null,
   "metadata": {
    "colab": {
     "base_uri": "https://localhost:8080/",
     "height": 253
    },
    "executionInfo": {
     "elapsed": 745,
     "status": "ok",
     "timestamp": 1631269951548,
     "user": {
      "displayName": "Shilpa Garg",
      "photoUrl": "https://lh3.googleusercontent.com/a/default-user=s64",
      "userId": "12607333565625535618"
     },
     "user_tz": -330
    },
    "id": "hByZbcrQE2d0",
    "outputId": "6becef8e-0ba7-4c2c-8df2-5d2d529d086b"
   },
   "outputs": [],
   "source": [
    "item_correlation_df = pd.DataFrame(item_correlation)\n",
    "\n",
    "item_correlation_df.head()"
   ]
  },
  {
   "cell_type": "code",
   "execution_count": null,
   "metadata": {
    "colab": {
     "base_uri": "https://localhost:8080/",
     "height": 369
    },
    "executionInfo": {
     "elapsed": 52,
     "status": "ok",
     "timestamp": 1631269951552,
     "user": {
      "displayName": "Shilpa Garg",
      "photoUrl": "https://lh3.googleusercontent.com/a/default-user=s64",
      "userId": "12607333565625535618"
     },
     "user_tz": -330
    },
    "id": "vziYsXPDFE5v",
    "outputId": "5f7df757-1538-4388-9bd0-0f355d3d58e0"
   },
   "outputs": [],
   "source": [
    "item_correlation_df['id'] = df_subtracted.index\n",
    "item_correlation_df.set_index('id',inplace=True)\n",
    "item_correlation_df.head()"
   ]
  },
  {
   "cell_type": "code",
   "execution_count": null,
   "metadata": {
    "executionInfo": {
     "elapsed": 52,
     "status": "ok",
     "timestamp": 1631269951554,
     "user": {
      "displayName": "Shilpa Garg",
      "photoUrl": "https://lh3.googleusercontent.com/a/default-user=s64",
      "userId": "12607333565625535618"
     },
     "user_tz": -330
    },
    "id": "sMV__ECJFVNC"
   },
   "outputs": [],
   "source": [
    "\n",
    "list_name = common.id.tolist()"
   ]
  },
  {
   "cell_type": "code",
   "execution_count": null,
   "metadata": {
    "executionInfo": {
     "elapsed": 52,
     "status": "ok",
     "timestamp": 1631269951555,
     "user": {
      "displayName": "Shilpa Garg",
      "photoUrl": "https://lh3.googleusercontent.com/a/default-user=s64",
      "userId": "12607333565625535618"
     },
     "user_tz": -330
    },
    "id": "w-c82-bIFhla"
   },
   "outputs": [],
   "source": [
    "item_correlation_df.columns = df_subtracted.index.tolist()\n",
    "\n",
    "item_correlation_df_1 =  item_correlation_df[item_correlation_df.index.isin(list_name)]"
   ]
  },
  {
   "cell_type": "code",
   "execution_count": null,
   "metadata": {
    "executionInfo": {
     "elapsed": 52,
     "status": "ok",
     "timestamp": 1631269951556,
     "user": {
      "displayName": "Shilpa Garg",
      "photoUrl": "https://lh3.googleusercontent.com/a/default-user=s64",
      "userId": "12607333565625535618"
     },
     "user_tz": -330
    },
    "id": "V8xnZDgaFlMz"
   },
   "outputs": [],
   "source": [
    "item_correlation_df_2 = item_correlation_df_1.T[item_correlation_df_1.T.index.isin(list_name)]\n",
    "\n",
    "item_correlation_df_3 = item_correlation_df_2.T"
   ]
  },
  {
   "cell_type": "code",
   "execution_count": null,
   "metadata": {
    "colab": {
     "base_uri": "https://localhost:8080/",
     "height": 318
    },
    "executionInfo": {
     "elapsed": 52,
     "status": "ok",
     "timestamp": 1631269951557,
     "user": {
      "displayName": "Shilpa Garg",
      "photoUrl": "https://lh3.googleusercontent.com/a/default-user=s64",
      "userId": "12607333565625535618"
     },
     "user_tz": -330
    },
    "id": "ENejL9nqFmhK",
    "outputId": "974d25fd-3bfe-4a60-e1e4-2fcecd019a2c"
   },
   "outputs": [],
   "source": [
    "item_correlation_df_3.head()"
   ]
  },
  {
   "cell_type": "code",
   "execution_count": null,
   "metadata": {
    "colab": {
     "base_uri": "https://localhost:8080/"
    },
    "executionInfo": {
     "elapsed": 52,
     "status": "ok",
     "timestamp": 1631269951558,
     "user": {
      "displayName": "Shilpa Garg",
      "photoUrl": "https://lh3.googleusercontent.com/a/default-user=s64",
      "userId": "12607333565625535618"
     },
     "user_tz": -330
    },
    "id": "d-sxGx9OFnrY",
    "outputId": "9bbbf48a-40e2-4398-c633-2c66aed4358e"
   },
   "outputs": [],
   "source": [
    "item_correlation_df_3[item_correlation_df_3<0]=0\n",
    "\n",
    "common_item_predicted_ratings = np.dot(item_correlation_df_3, common_item_based_matrix.fillna(0))\n",
    "common_item_predicted_ratings\n"
   ]
  },
  {
   "cell_type": "code",
   "execution_count": null,
   "metadata": {
    "colab": {
     "base_uri": "https://localhost:8080/"
    },
    "executionInfo": {
     "elapsed": 47,
     "status": "ok",
     "timestamp": 1631269951560,
     "user": {
      "displayName": "Shilpa Garg",
      "photoUrl": "https://lh3.googleusercontent.com/a/default-user=s64",
      "userId": "12607333565625535618"
     },
     "user_tz": -330
    },
    "id": "_7pSTiHLFrCf",
    "outputId": "e96c1149-0a2c-47f6-cf6d-96406bb25efa"
   },
   "outputs": [],
   "source": [
    "common_item_predicted_ratings.shape"
   ]
  },
  {
   "cell_type": "code",
   "execution_count": null,
   "metadata": {
    "executionInfo": {
     "elapsed": 43,
     "status": "ok",
     "timestamp": 1631269951561,
     "user": {
      "displayName": "Shilpa Garg",
      "photoUrl": "https://lh3.googleusercontent.com/a/default-user=s64",
      "userId": "12607333565625535618"
     },
     "user_tz": -330
    },
    "id": "S0TjDsZNFs-b"
   },
   "outputs": [],
   "source": []
  },
  {
   "cell_type": "markdown",
   "metadata": {
    "id": "B-9nq_ZGF0qj"
   },
   "source": [
    "Dummy test will be used for evaluation. To evaluate, we will only make prediction on the items rated by the user. So, this is marked as 1. This is just opposite of dummy_train\n",
    "\n"
   ]
  },
  {
   "cell_type": "code",
   "execution_count": null,
   "metadata": {
    "executionInfo": {
     "elapsed": 43,
     "status": "ok",
     "timestamp": 1631269951562,
     "user": {
      "displayName": "Shilpa Garg",
      "photoUrl": "https://lh3.googleusercontent.com/a/default-user=s64",
      "userId": "12607333565625535618"
     },
     "user_tz": -330
    },
    "id": "JGI1IfDpF2VA"
   },
   "outputs": [],
   "source": [
    "dummy_test = common.copy()\n",
    "\n",
    "dummy_test['reviews_rating'] = dummy_test['reviews_rating'].apply(lambda x: 1 if x>=1 else 0)\n",
    "\n",
    "dummy_test = dummy_test.pivot_table(index='reviews_username', columns='id', values='reviews_rating').T.fillna(0)\n",
    "\n",
    "common_item_predicted_ratings = np.multiply(common_item_predicted_ratings,dummy_test)"
   ]
  },
  {
   "cell_type": "code",
   "execution_count": null,
   "metadata": {
    "executionInfo": {
     "elapsed": 44,
     "status": "ok",
     "timestamp": 1631269951564,
     "user": {
      "displayName": "Shilpa Garg",
      "photoUrl": "https://lh3.googleusercontent.com/a/default-user=s64",
      "userId": "12607333565625535618"
     },
     "user_tz": -330
    },
    "id": "zBv6-PSMGBex"
   },
   "outputs": [],
   "source": []
  },
  {
   "cell_type": "markdown",
   "metadata": {
    "id": "0um1K2k6GETb"
   },
   "source": [
    "The products not rated is marked as 0 for evaluation. And make the item- item matrix representaion.\n"
   ]
  },
  {
   "cell_type": "code",
   "execution_count": null,
   "metadata": {
    "executionInfo": {
     "elapsed": 45,
     "status": "ok",
     "timestamp": 1631269951565,
     "user": {
      "displayName": "Shilpa Garg",
      "photoUrl": "https://lh3.googleusercontent.com/a/default-user=s64",
      "userId": "12607333565625535618"
     },
     "user_tz": -330
    },
    "id": "9ZffdmNnGEqq"
   },
   "outputs": [],
   "source": [
    "common_ = common.pivot_table(index='reviews_username', columns='id', values='reviews_rating').T"
   ]
  },
  {
   "cell_type": "code",
   "execution_count": null,
   "metadata": {
    "colab": {
     "base_uri": "https://localhost:8080/"
    },
    "executionInfo": {
     "elapsed": 45,
     "status": "ok",
     "timestamp": 1631269951566,
     "user": {
      "displayName": "Shilpa Garg",
      "photoUrl": "https://lh3.googleusercontent.com/a/default-user=s64",
      "userId": "12607333565625535618"
     },
     "user_tz": -330
    },
    "id": "22li4lNgGKLf",
    "outputId": "369e6602-8201-401c-fde1-10171e9db3a9"
   },
   "outputs": [],
   "source": [
    "from sklearn.preprocessing import MinMaxScaler\n",
    "from numpy import *\n",
    "\n",
    "X  = common_item_predicted_ratings.copy() \n",
    "X = X[X>0]\n",
    "\n",
    "scaler = MinMaxScaler(feature_range=(1, 5))\n",
    "print(scaler.fit(X))\n",
    "y = (scaler.transform(X))\n",
    "\n",
    "print(y)"
   ]
  },
  {
   "cell_type": "code",
   "execution_count": null,
   "metadata": {
    "executionInfo": {
     "elapsed": 43,
     "status": "ok",
     "timestamp": 1631269951569,
     "user": {
      "displayName": "Shilpa Garg",
      "photoUrl": "https://lh3.googleusercontent.com/a/default-user=s64",
      "userId": "12607333565625535618"
     },
     "user_tz": -330
    },
    "id": "QmiLV2ylGMD7"
   },
   "outputs": [],
   "source": [
    "# Finding total non-NaN value\n",
    "total_non_nan = np.count_nonzero(~np.isnan(y))"
   ]
  },
  {
   "cell_type": "code",
   "execution_count": null,
   "metadata": {
    "colab": {
     "base_uri": "https://localhost:8080/"
    },
    "executionInfo": {
     "elapsed": 417,
     "status": "ok",
     "timestamp": 1631269951944,
     "user": {
      "displayName": "Shilpa Garg",
      "photoUrl": "https://lh3.googleusercontent.com/a/default-user=s64",
      "userId": "12607333565625535618"
     },
     "user_tz": -330
    },
    "id": "cnkUYbppGOX2",
    "outputId": "7aa9661d-4e05-45cb-8d12-209a4cf88100"
   },
   "outputs": [],
   "source": [
    "rmse1 = (sum(sum((common_ - y )**2))/total_non_nan)**0.5\n",
    "print(rmse1)"
   ]
  },
  {
   "cell_type": "markdown",
   "metadata": {
    "id": "4ZklxlCDuYrl"
   },
   "source": [
    "# Comaparing both recommendation systems\n"
   ]
  },
  {
   "cell_type": "code",
   "execution_count": null,
   "metadata": {
    "colab": {
     "base_uri": "https://localhost:8080/"
    },
    "executionInfo": {
     "elapsed": 12,
     "status": "ok",
     "timestamp": 1631269951944,
     "user": {
      "displayName": "Shilpa Garg",
      "photoUrl": "https://lh3.googleusercontent.com/a/default-user=s64",
      "userId": "12607333565625535618"
     },
     "user_tz": -330
    },
    "id": "bHTKwSsPVA88",
    "outputId": "4187f2cb-58ca-4f3a-a6ae-8be644a6b1f4"
   },
   "outputs": [],
   "source": [
    "print(\"RMSE of User-User recommendation is :\",rmse);\n",
    "print(\"RMSE of Item-Item recommendation is :\",rmse1);"
   ]
  },
  {
   "cell_type": "markdown",
   "metadata": {
    "id": "SZB57dQ6XMFW"
   },
   "source": [
    "RMSE of user-user is better then item-item"
   ]
  },
  {
   "cell_type": "markdown",
   "metadata": {
    "id": "-zX7J9MGXT5o"
   },
   "source": [
    "Let's check for how many users recommendation system will predict 0 rating for all items."
   ]
  },
  {
   "cell_type": "code",
   "execution_count": null,
   "metadata": {
    "executionInfo": {
     "elapsed": 6,
     "status": "ok",
     "timestamp": 1631269951945,
     "user": {
      "displayName": "Shilpa Garg",
      "photoUrl": "https://lh3.googleusercontent.com/a/default-user=s64",
      "userId": "12607333565625535618"
     },
     "user_tz": -330
    },
    "id": "M6Pu9aTAQDhV"
   },
   "outputs": [],
   "source": [
    "def userCountFor0(selectedDf) :\n",
    "    mySet = set()\n",
    "    for user in train['reviews_username'].tolist() :\n",
    "        res = selectedDf.loc[user].sort_values(ascending=False)[0:1]\n",
    "        a = str(res.tolist())\n",
    "        #print(a)\n",
    "        if(a=='[0.0]') :\n",
    "            mySet.add(user)\n",
    "\n",
    "    return len(mySet)    "
   ]
  },
  {
   "cell_type": "code",
   "execution_count": null,
   "metadata": {
    "colab": {
     "base_uri": "https://localhost:8080/"
    },
    "executionInfo": {
     "elapsed": 8936,
     "status": "ok",
     "timestamp": 1631269960877,
     "user": {
      "displayName": "Shilpa Garg",
      "photoUrl": "https://lh3.googleusercontent.com/a/default-user=s64",
      "userId": "12607333565625535618"
     },
     "user_tz": -330
    },
    "id": "2IjUTX8wButs",
    "outputId": "01b39597-379f-477d-a7aa-fce3cff62a09"
   },
   "outputs": [],
   "source": [
    "userModel0Count = userCountFor0(user_final_rating)\n",
    "print(\"User Count for which User-User recommendation system will predict 0 rating for all items : \",userModel0Count)\n",
    "print(\"%age of user with 0 count \",round(((userModel0Count/train.reviews_username.nunique())*100),4))"
   ]
  },
  {
   "cell_type": "code",
   "execution_count": null,
   "metadata": {
    "colab": {
     "base_uri": "https://localhost:8080/"
    },
    "executionInfo": {
     "elapsed": 9385,
     "status": "ok",
     "timestamp": 1631269970250,
     "user": {
      "displayName": "Shilpa Garg",
      "photoUrl": "https://lh3.googleusercontent.com/a/default-user=s64",
      "userId": "12607333565625535618"
     },
     "user_tz": -330
    },
    "id": "Jfen8Ml6YTvY",
    "outputId": "93733fe0-2085-4aa8-9013-968344f9efd8"
   },
   "outputs": [],
   "source": [
    "itemModel0Count = userCountFor0(item_final_rating)\n",
    "print(\"User Count for which Item-Item recommendation system will predict 0 rating for all items : \",itemModel0Count)\n",
    "print(\"%age of user with 0 count \",round(((itemModel0Count/train.reviews_username.nunique())*100),4))"
   ]
  },
  {
   "cell_type": "markdown",
   "metadata": {
    "id": "R6RfDdXxa0Cg"
   },
   "source": [
    "We can see that % age of user, for whom recommendation system will predict 0 rating for all items is very very high in User based recommendation system.\n",
    "\n",
    "So we are selecting the Item-Item based recommendation system for final deployment."
   ]
  }
 ],
 "metadata": {
  "colab": {
   "authorship_tag": "ABX9TyP9D1ILxiIv9haDvp/YyMwz",
   "collapsed_sections": [],
   "name": "Recommendation System.ipynb",
   "provenance": [],
   "toc_visible": true
  },
  "kernelspec": {
   "display_name": "Python 3",
   "language": "python",
   "name": "python3"
  },
  "language_info": {
   "codemirror_mode": {
    "name": "ipython",
    "version": 3
   },
   "file_extension": ".py",
   "mimetype": "text/x-python",
   "name": "python",
   "nbconvert_exporter": "python",
   "pygments_lexer": "ipython3",
   "version": "3.8.8"
  }
 },
 "nbformat": 4,
 "nbformat_minor": 1
}
