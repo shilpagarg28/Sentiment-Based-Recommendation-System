{
 "cells": [
  {
   "cell_type": "code",
   "execution_count": null,
   "metadata": {
    "executionInfo": {
     "elapsed": 1400,
     "status": "ok",
     "timestamp": 1631163264592,
     "user": {
      "displayName": "Shilpa Garg",
      "photoUrl": "",
      "userId": "12607333565625535618"
     },
     "user_tz": -330
    },
    "id": "Q7y85Qaj6upI"
   },
   "outputs": [],
   "source": []
  },
  {
   "cell_type": "markdown",
   "metadata": {
    "id": "pxiB9MdUAeuJ"
   },
   "source": [
    "## Sentiment Based Product Recommendation System.\n",
    "In this notebook I am analysing the product reviews and building 4 ML models to get the sentiments corresponding to the users' reviews and ratings for multiple products. \n",
    "1. Logistic regression\n",
    "2. Random forest\n",
    "3. XGBoost\n",
    "4. Naive Bayes\n",
    "\n",
    "Then these 4 models are evaluated and based upon the performance, one best model is selected.\n",
    "\n",
    "It includes :\n",
    "Data cleaning steps\n",
    "Text preprocessing\n",
    "Feature extraction\n",
    "ML models used to build sentiment analysis models\n",
    "Class Imbalance\n",
    "Two recommendation systems\n",
    "Their evaluations."
   ]
  },
  {
   "cell_type": "markdown",
   "metadata": {
    "id": "jrNl20TDD57E"
   },
   "source": [
    "# Reading the dataset"
   ]
  },
  {
   "cell_type": "code",
   "execution_count": 1,
   "metadata": {
    "colab": {
     "base_uri": "https://localhost:8080/"
    },
    "executionInfo": {
     "elapsed": 39760,
     "status": "ok",
     "timestamp": 1631163304329,
     "user": {
      "displayName": "Shilpa Garg",
      "photoUrl": "",
      "userId": "12607333565625535618"
     },
     "user_tz": -330
    },
    "id": "oUUjZWR08W7p",
    "outputId": "de789e3f-23cb-488c-8b24-80a1fec01edd"
   },
   "outputs": [],
   "source": [
    "#from google.colab import drive\n",
    "#drive.mount('/content/gdrive')"
   ]
  },
  {
   "cell_type": "code",
   "execution_count": 2,
   "metadata": {
    "executionInfo": {
     "elapsed": 634,
     "status": "ok",
     "timestamp": 1631163304960,
     "user": {
      "displayName": "Shilpa Garg",
      "photoUrl": "",
      "userId": "12607333565625535618"
     },
     "user_tz": -330
    },
    "id": "C_VICt2T9R7e"
   },
   "outputs": [],
   "source": [
    "import pandas as pd\n",
    "import seaborn as sns"
   ]
  },
  {
   "cell_type": "code",
   "execution_count": 3,
   "metadata": {
    "executionInfo": {
     "elapsed": 1010,
     "status": "ok",
     "timestamp": 1631163305968,
     "user": {
      "displayName": "Shilpa Garg",
      "photoUrl": "",
      "userId": "12607333565625535618"
     },
     "user_tz": -330
    },
    "id": "zgDZ10uO9979"
   },
   "outputs": [],
   "source": [
    "#df=pd.read_csv('/content/gdrive/MyDrive/MyCapstone (1)/data/sample30.csv')\n",
    "df=pd.read_csv('data/sample30.csv')"
   ]
  },
  {
   "cell_type": "code",
   "execution_count": 4,
   "metadata": {
    "colab": {
     "base_uri": "https://localhost:8080/"
    },
    "executionInfo": {
     "elapsed": 7,
     "status": "ok",
     "timestamp": 1631163305969,
     "user": {
      "displayName": "Shilpa Garg",
      "photoUrl": "",
      "userId": "12607333565625535618"
     },
     "user_tz": -330
    },
    "id": "2XaWkZsOANEX",
    "outputId": "cb1eb5c9-0089-4c0d-851a-6c39e30eb68a"
   },
   "outputs": [
    {
     "data": {
      "text/plain": [
       "(30000, 15)"
      ]
     },
     "execution_count": 4,
     "metadata": {},
     "output_type": "execute_result"
    }
   ],
   "source": [
    "df.shape"
   ]
  },
  {
   "cell_type": "code",
   "execution_count": 5,
   "metadata": {
    "colab": {
     "base_uri": "https://localhost:8080/",
     "height": 581
    },
    "executionInfo": {
     "elapsed": 396,
     "status": "ok",
     "timestamp": 1631163306361,
     "user": {
      "displayName": "Shilpa Garg",
      "photoUrl": "",
      "userId": "12607333565625535618"
     },
     "user_tz": -330
    },
    "id": "5Ilo_ulfAVxZ",
    "outputId": "cd3eb777-c11d-4d3a-faca-3c11c4790c17"
   },
   "outputs": [
    {
     "data": {
      "text/html": [
       "<div>\n",
       "<style scoped>\n",
       "    .dataframe tbody tr th:only-of-type {\n",
       "        vertical-align: middle;\n",
       "    }\n",
       "\n",
       "    .dataframe tbody tr th {\n",
       "        vertical-align: top;\n",
       "    }\n",
       "\n",
       "    .dataframe thead th {\n",
       "        text-align: right;\n",
       "    }\n",
       "</style>\n",
       "<table border=\"1\" class=\"dataframe\">\n",
       "  <thead>\n",
       "    <tr style=\"text-align: right;\">\n",
       "      <th></th>\n",
       "      <th>id</th>\n",
       "      <th>brand</th>\n",
       "      <th>categories</th>\n",
       "      <th>manufacturer</th>\n",
       "      <th>name</th>\n",
       "      <th>reviews_date</th>\n",
       "      <th>reviews_didPurchase</th>\n",
       "      <th>reviews_doRecommend</th>\n",
       "      <th>reviews_rating</th>\n",
       "      <th>reviews_text</th>\n",
       "      <th>reviews_title</th>\n",
       "      <th>reviews_userCity</th>\n",
       "      <th>reviews_userProvince</th>\n",
       "      <th>reviews_username</th>\n",
       "      <th>user_sentiment</th>\n",
       "    </tr>\n",
       "  </thead>\n",
       "  <tbody>\n",
       "    <tr>\n",
       "      <th>0</th>\n",
       "      <td>AV13O1A8GV-KLJ3akUyj</td>\n",
       "      <td>Universal Music</td>\n",
       "      <td>Movies, Music &amp; Books,Music,R&amp;b,Movies &amp; TV,Mo...</td>\n",
       "      <td>Universal Music Group / Cash Money</td>\n",
       "      <td>Pink Friday: Roman Reloaded Re-Up (w/dvd)</td>\n",
       "      <td>2012-11-30T06:21:45.000Z</td>\n",
       "      <td>NaN</td>\n",
       "      <td>NaN</td>\n",
       "      <td>5</td>\n",
       "      <td>i love this album. it's very good. more to the...</td>\n",
       "      <td>Just Awesome</td>\n",
       "      <td>Los Angeles</td>\n",
       "      <td>NaN</td>\n",
       "      <td>joshua</td>\n",
       "      <td>Positive</td>\n",
       "    </tr>\n",
       "    <tr>\n",
       "      <th>1</th>\n",
       "      <td>AV14LG0R-jtxr-f38QfS</td>\n",
       "      <td>Lundberg</td>\n",
       "      <td>Food,Packaged Foods,Snacks,Crackers,Snacks, Co...</td>\n",
       "      <td>Lundberg</td>\n",
       "      <td>Lundberg Organic Cinnamon Toast Rice Cakes</td>\n",
       "      <td>2017-07-09T00:00:00.000Z</td>\n",
       "      <td>True</td>\n",
       "      <td>NaN</td>\n",
       "      <td>5</td>\n",
       "      <td>Good flavor. This review was collected as part...</td>\n",
       "      <td>Good</td>\n",
       "      <td>NaN</td>\n",
       "      <td>NaN</td>\n",
       "      <td>dorothy w</td>\n",
       "      <td>Positive</td>\n",
       "    </tr>\n",
       "    <tr>\n",
       "      <th>2</th>\n",
       "      <td>AV14LG0R-jtxr-f38QfS</td>\n",
       "      <td>Lundberg</td>\n",
       "      <td>Food,Packaged Foods,Snacks,Crackers,Snacks, Co...</td>\n",
       "      <td>Lundberg</td>\n",
       "      <td>Lundberg Organic Cinnamon Toast Rice Cakes</td>\n",
       "      <td>2017-07-09T00:00:00.000Z</td>\n",
       "      <td>True</td>\n",
       "      <td>NaN</td>\n",
       "      <td>5</td>\n",
       "      <td>Good flavor.</td>\n",
       "      <td>Good</td>\n",
       "      <td>NaN</td>\n",
       "      <td>NaN</td>\n",
       "      <td>dorothy w</td>\n",
       "      <td>Positive</td>\n",
       "    </tr>\n",
       "    <tr>\n",
       "      <th>3</th>\n",
       "      <td>AV16khLE-jtxr-f38VFn</td>\n",
       "      <td>K-Y</td>\n",
       "      <td>Personal Care,Medicine Cabinet,Lubricant/Sperm...</td>\n",
       "      <td>K-Y</td>\n",
       "      <td>K-Y Love Sensuality Pleasure Gel</td>\n",
       "      <td>2016-01-06T00:00:00.000Z</td>\n",
       "      <td>False</td>\n",
       "      <td>False</td>\n",
       "      <td>1</td>\n",
       "      <td>I read through the reviews on here before look...</td>\n",
       "      <td>Disappointed</td>\n",
       "      <td>NaN</td>\n",
       "      <td>NaN</td>\n",
       "      <td>rebecca</td>\n",
       "      <td>Negative</td>\n",
       "    </tr>\n",
       "    <tr>\n",
       "      <th>4</th>\n",
       "      <td>AV16khLE-jtxr-f38VFn</td>\n",
       "      <td>K-Y</td>\n",
       "      <td>Personal Care,Medicine Cabinet,Lubricant/Sperm...</td>\n",
       "      <td>K-Y</td>\n",
       "      <td>K-Y Love Sensuality Pleasure Gel</td>\n",
       "      <td>2016-12-21T00:00:00.000Z</td>\n",
       "      <td>False</td>\n",
       "      <td>False</td>\n",
       "      <td>1</td>\n",
       "      <td>My husband bought this gel for us. The gel cau...</td>\n",
       "      <td>Irritation</td>\n",
       "      <td>NaN</td>\n",
       "      <td>NaN</td>\n",
       "      <td>walker557</td>\n",
       "      <td>Negative</td>\n",
       "    </tr>\n",
       "  </tbody>\n",
       "</table>\n",
       "</div>"
      ],
      "text/plain": [
       "                     id            brand  \\\n",
       "0  AV13O1A8GV-KLJ3akUyj  Universal Music   \n",
       "1  AV14LG0R-jtxr-f38QfS         Lundberg   \n",
       "2  AV14LG0R-jtxr-f38QfS         Lundberg   \n",
       "3  AV16khLE-jtxr-f38VFn              K-Y   \n",
       "4  AV16khLE-jtxr-f38VFn              K-Y   \n",
       "\n",
       "                                          categories  \\\n",
       "0  Movies, Music & Books,Music,R&b,Movies & TV,Mo...   \n",
       "1  Food,Packaged Foods,Snacks,Crackers,Snacks, Co...   \n",
       "2  Food,Packaged Foods,Snacks,Crackers,Snacks, Co...   \n",
       "3  Personal Care,Medicine Cabinet,Lubricant/Sperm...   \n",
       "4  Personal Care,Medicine Cabinet,Lubricant/Sperm...   \n",
       "\n",
       "                         manufacturer  \\\n",
       "0  Universal Music Group / Cash Money   \n",
       "1                            Lundberg   \n",
       "2                            Lundberg   \n",
       "3                                 K-Y   \n",
       "4                                 K-Y   \n",
       "\n",
       "                                         name              reviews_date  \\\n",
       "0   Pink Friday: Roman Reloaded Re-Up (w/dvd)  2012-11-30T06:21:45.000Z   \n",
       "1  Lundberg Organic Cinnamon Toast Rice Cakes  2017-07-09T00:00:00.000Z   \n",
       "2  Lundberg Organic Cinnamon Toast Rice Cakes  2017-07-09T00:00:00.000Z   \n",
       "3            K-Y Love Sensuality Pleasure Gel  2016-01-06T00:00:00.000Z   \n",
       "4            K-Y Love Sensuality Pleasure Gel  2016-12-21T00:00:00.000Z   \n",
       "\n",
       "  reviews_didPurchase reviews_doRecommend  reviews_rating  \\\n",
       "0                 NaN                 NaN               5   \n",
       "1                True                 NaN               5   \n",
       "2                True                 NaN               5   \n",
       "3               False               False               1   \n",
       "4               False               False               1   \n",
       "\n",
       "                                        reviews_text reviews_title  \\\n",
       "0  i love this album. it's very good. more to the...  Just Awesome   \n",
       "1  Good flavor. This review was collected as part...          Good   \n",
       "2                                       Good flavor.          Good   \n",
       "3  I read through the reviews on here before look...  Disappointed   \n",
       "4  My husband bought this gel for us. The gel cau...    Irritation   \n",
       "\n",
       "  reviews_userCity reviews_userProvince reviews_username user_sentiment  \n",
       "0      Los Angeles                  NaN           joshua       Positive  \n",
       "1              NaN                  NaN        dorothy w       Positive  \n",
       "2              NaN                  NaN        dorothy w       Positive  \n",
       "3              NaN                  NaN          rebecca       Negative  \n",
       "4              NaN                  NaN        walker557       Negative  "
      ]
     },
     "execution_count": 5,
     "metadata": {},
     "output_type": "execute_result"
    }
   ],
   "source": [
    "df.head()"
   ]
  },
  {
   "cell_type": "code",
   "execution_count": 6,
   "metadata": {
    "colab": {
     "base_uri": "https://localhost:8080/"
    },
    "executionInfo": {
     "elapsed": 16,
     "status": "ok",
     "timestamp": 1631163306362,
     "user": {
      "displayName": "Shilpa Garg",
      "photoUrl": "",
      "userId": "12607333565625535618"
     },
     "user_tz": -330
    },
    "id": "hwdyrzivEExO",
    "outputId": "e22e58b6-8406-48c6-8950-ce8dbe9321b2"
   },
   "outputs": [
    {
     "name": "stdout",
     "output_type": "stream",
     "text": [
      "<class 'pandas.core.frame.DataFrame'>\n",
      "RangeIndex: 30000 entries, 0 to 29999\n",
      "Data columns (total 15 columns):\n",
      " #   Column                Non-Null Count  Dtype \n",
      "---  ------                --------------  ----- \n",
      " 0   id                    30000 non-null  object\n",
      " 1   brand                 30000 non-null  object\n",
      " 2   categories            30000 non-null  object\n",
      " 3   manufacturer          29859 non-null  object\n",
      " 4   name                  30000 non-null  object\n",
      " 5   reviews_date          29954 non-null  object\n",
      " 6   reviews_didPurchase   15932 non-null  object\n",
      " 7   reviews_doRecommend   27430 non-null  object\n",
      " 8   reviews_rating        30000 non-null  int64 \n",
      " 9   reviews_text          30000 non-null  object\n",
      " 10  reviews_title         29810 non-null  object\n",
      " 11  reviews_userCity      1929 non-null   object\n",
      " 12  reviews_userProvince  170 non-null    object\n",
      " 13  reviews_username      29937 non-null  object\n",
      " 14  user_sentiment        29999 non-null  object\n",
      "dtypes: int64(1), object(14)\n",
      "memory usage: 3.4+ MB\n"
     ]
    }
   ],
   "source": [
    "df.info()"
   ]
  },
  {
   "cell_type": "code",
   "execution_count": null,
   "metadata": {
    "executionInfo": {
     "elapsed": 15,
     "status": "ok",
     "timestamp": 1631163306364,
     "user": {
      "displayName": "Shilpa Garg",
      "photoUrl": "",
      "userId": "12607333565625535618"
     },
     "user_tz": -330
    },
    "id": "iuKd_1V-HjuM"
   },
   "outputs": [],
   "source": []
  },
  {
   "cell_type": "markdown",
   "metadata": {
    "id": "9g04L8xXJM1i"
   },
   "source": [
    "# Data Analysis"
   ]
  },
  {
   "cell_type": "code",
   "execution_count": 7,
   "metadata": {
    "colab": {
     "base_uri": "https://localhost:8080/"
    },
    "executionInfo": {
     "elapsed": 17,
     "status": "ok",
     "timestamp": 1631163306366,
     "user": {
      "displayName": "Shilpa Garg",
      "photoUrl": "",
      "userId": "12607333565625535618"
     },
     "user_tz": -330
    },
    "id": "aMnKi4knJQNn",
    "outputId": "369e9449-0285-4b5d-efe4-05f7cd700992"
   },
   "outputs": [
    {
     "name": "stdout",
     "output_type": "stream",
     "text": [
      "Unique no. of items : 271\n",
      "Unique no. of users : 24914\n"
     ]
    }
   ],
   "source": [
    "print(\"Unique no. of items :\",df.id.nunique())\n",
    "print(\"Unique no. of users :\",df.reviews_username.nunique())"
   ]
  },
  {
   "cell_type": "code",
   "execution_count": 8,
   "metadata": {
    "colab": {
     "base_uri": "https://localhost:8080/"
    },
    "executionInfo": {
     "elapsed": 15,
     "status": "ok",
     "timestamp": 1631163306367,
     "user": {
      "displayName": "Shilpa Garg",
      "photoUrl": "",
      "userId": "12607333565625535618"
     },
     "user_tz": -330
    },
    "id": "M5AFNt1OJkc-",
    "outputId": "c3c9ed01-dbbf-4cae-acd9-4671e8aaad34"
   },
   "outputs": [
    {
     "data": {
      "text/plain": [
       "Positive    26632\n",
       "Negative     3367\n",
       "Name: user_sentiment, dtype: int64"
      ]
     },
     "execution_count": 8,
     "metadata": {},
     "output_type": "execute_result"
    }
   ],
   "source": [
    "df.user_sentiment.value_counts()"
   ]
  },
  {
   "cell_type": "code",
   "execution_count": 9,
   "metadata": {
    "colab": {
     "base_uri": "https://localhost:8080/",
     "height": 401
    },
    "executionInfo": {
     "elapsed": 629,
     "status": "ok",
     "timestamp": 1631163306985,
     "user": {
      "displayName": "Shilpa Garg",
      "photoUrl": "",
      "userId": "12607333565625535618"
     },
     "user_tz": -330
    },
    "id": "d3RLudZeMMHy",
    "outputId": "048fb8cc-cc3b-4a2c-d3c2-7b5d6b289c09"
   },
   "outputs": [
    {
     "data": {
      "text/plain": [
       "<seaborn.axisgrid.FacetGrid at 0x26dc8b3e4f0>"
      ]
     },
     "execution_count": 9,
     "metadata": {},
     "output_type": "execute_result"
    },
    {
     "data": {
      "image/png": "[encoded data removed]",
      "text/plain": [
       "<Figure size 441x360 with 1 Axes>"
      ]
     },
     "metadata": {
      "needs_background": "light"
     },
     "output_type": "display_data"
    }
   ],
   "source": [
    "sns.catplot(x=\"user_sentiment\", hue=\"reviews_rating\", kind=\"count\",\n",
    "            palette=\"pastel\", edgecolor=\".6\",\n",
    "            data=df)"
   ]
  },
  {
   "cell_type": "code",
   "execution_count": null,
   "metadata": {
    "executionInfo": {
     "elapsed": 9,
     "status": "ok",
     "timestamp": 1631163306987,
     "user": {
      "displayName": "Shilpa Garg",
      "photoUrl": "",
      "userId": "12607333565625535618"
     },
     "user_tz": -330
    },
    "id": "gd9ZMev3MRci"
   },
   "outputs": [],
   "source": []
  },
  {
   "cell_type": "markdown",
   "metadata": {
    "id": "GDIWZoW6Mgdb"
   },
   "source": [
    "## Data Cleaning"
   ]
  },
  {
   "cell_type": "code",
   "execution_count": 10,
   "metadata": {
    "executionInfo": {
     "elapsed": 11,
     "status": "ok",
     "timestamp": 1631163306989,
     "user": {
      "displayName": "Shilpa Garg",
      "photoUrl": "",
      "userId": "12607333565625535618"
     },
     "user_tz": -330
    },
    "id": "Hpm3nO-SMiUo"
   },
   "outputs": [],
   "source": [
    "df['reviews_didPurchase'].fillna(\"Not Purchased\",inplace=True)\n",
    "df['reviews_doRecommend'].fillna(\"Not Recommend\",inplace=True)"
   ]
  },
  {
   "cell_type": "code",
   "execution_count": 11,
   "metadata": {
    "colab": {
     "base_uri": "https://localhost:8080/",
     "height": 401
    },
    "executionInfo": {
     "elapsed": 441,
     "status": "ok",
     "timestamp": 1631163307419,
     "user": {
      "displayName": "Shilpa Garg",
      "photoUrl": "",
      "userId": "12607333565625535618"
     },
     "user_tz": -330
    },
    "id": "d0su2yLI1mEQ",
    "outputId": "8a6e7f5c-b02b-4d48-8a84-2c73964561b5"
   },
   "outputs": [
    {
     "data": {
      "text/plain": [
       "<seaborn.axisgrid.FacetGrid at 0x26dc3557220>"
      ]
     },
     "execution_count": 11,
     "metadata": {},
     "output_type": "execute_result"
    },
    {
     "data": {
      "image/png": "[encoded data removed]",
      "text/plain": [
       "<Figure size 472.375x360 with 1 Axes>"
      ]
     },
     "metadata": {
      "needs_background": "light"
     },
     "output_type": "display_data"
    }
   ],
   "source": [
    "sns.catplot(x=\"user_sentiment\", hue=\"reviews_didPurchase\", kind=\"count\",\n",
    "            palette=\"pastel\", edgecolor=\".6\",\n",
    "            data=df)"
   ]
  },
  {
   "cell_type": "markdown",
   "metadata": {
    "id": "DwuhAXCc1zP1"
   },
   "source": [
    "Most of the people have not purchased the item but only reviewing it."
   ]
  },
  {
   "cell_type": "code",
   "execution_count": 12,
   "metadata": {
    "colab": {
     "base_uri": "https://localhost:8080/",
     "height": 401
    },
    "executionInfo": {
     "elapsed": 817,
     "status": "ok",
     "timestamp": 1631163308225,
     "user": {
      "displayName": "Shilpa Garg",
      "photoUrl": "",
      "userId": "12607333565625535618"
     },
     "user_tz": -330
    },
    "id": "8bLzbpSp1ot0",
    "outputId": "e44bb054-7316-47c1-918e-a828f556703a"
   },
   "outputs": [
    {
     "data": {
      "text/plain": [
       "<seaborn.axisgrid.FacetGrid at 0x26dc935d250>"
      ]
     },
     "execution_count": 12,
     "metadata": {},
     "output_type": "execute_result"
    },
    {
     "data": {
      "image/png": "[encoded data removed]",
      "text/plain": [
       "<Figure size 485.75x360 with 1 Axes>"
      ]
     },
     "metadata": {
      "needs_background": "light"
     },
     "output_type": "display_data"
    }
   ],
   "source": [
    "sns.catplot(x=\"user_sentiment\", hue=\"reviews_doRecommend\", kind=\"count\",\n",
    "            palette=\"pastel\", edgecolor=\".6\",\n",
    "            data=df)"
   ]
  },
  {
   "cell_type": "code",
   "execution_count": 13,
   "metadata": {
    "colab": {
     "base_uri": "https://localhost:8080/",
     "height": 401
    },
    "executionInfo": {
     "elapsed": 50,
     "status": "ok",
     "timestamp": 1631163308227,
     "user": {
      "displayName": "Shilpa Garg",
      "photoUrl": "",
      "userId": "12607333565625535618"
     },
     "user_tz": -330
    },
    "id": "gjFr6Lkl19Cf",
    "outputId": "a81f9259-ed6d-4a4e-cab3-38f8bfc93f60"
   },
   "outputs": [
    {
     "data": {
      "text/plain": [
       "<seaborn.axisgrid.FacetGrid at 0x26dc936d820>"
      ]
     },
     "execution_count": 13,
     "metadata": {},
     "output_type": "execute_result"
    },
    {
     "data": {
      "image/png": "[encoded data removed]",
      "text/plain": [
       "<Figure size 441x360 with 1 Axes>"
      ]
     },
     "metadata": {
      "needs_background": "light"
     },
     "output_type": "display_data"
    }
   ],
   "source": [
    "sns.catplot(x=\"user_sentiment\", hue=\"reviews_rating\", kind=\"count\",\n",
    "            palette=\"pastel\", edgecolor=\".6\",\n",
    "            data=df)"
   ]
  },
  {
   "cell_type": "code",
   "execution_count": null,
   "metadata": {
    "executionInfo": {
     "elapsed": 29,
     "status": "ok",
     "timestamp": 1631163308229,
     "user": {
      "displayName": "Shilpa Garg",
      "photoUrl": "",
      "userId": "12607333565625535618"
     },
     "user_tz": -330
    },
    "id": "GgtaOGAl2LN-"
   },
   "outputs": [],
   "source": []
  },
  {
   "cell_type": "markdown",
   "metadata": {
    "id": "XQJE3da62mIr"
   },
   "source": [
    "## Checking for missing values"
   ]
  },
  {
   "cell_type": "code",
   "execution_count": 14,
   "metadata": {
    "colab": {
     "base_uri": "https://localhost:8080/"
    },
    "executionInfo": {
     "elapsed": 30,
     "status": "ok",
     "timestamp": 1631163308231,
     "user": {
      "displayName": "Shilpa Garg",
      "photoUrl": "",
      "userId": "12607333565625535618"
     },
     "user_tz": -330
    },
    "id": "nNxMKvBn2q7p",
    "outputId": "853c8db0-eb5f-488a-f137-7386cbf8f5bf"
   },
   "outputs": [
    {
     "data": {
      "text/plain": [
       "id                          0\n",
       "brand                       0\n",
       "categories                  0\n",
       "manufacturer              141\n",
       "name                        0\n",
       "reviews_date               46\n",
       "reviews_didPurchase         0\n",
       "reviews_doRecommend         0\n",
       "reviews_rating              0\n",
       "reviews_text                0\n",
       "reviews_title             190\n",
       "reviews_userCity        28071\n",
       "reviews_userProvince    29830\n",
       "reviews_username           63\n",
       "user_sentiment              1\n",
       "dtype: int64"
      ]
     },
     "execution_count": 14,
     "metadata": {},
     "output_type": "execute_result"
    }
   ],
   "source": [
    "df.isnull().sum()"
   ]
  },
  {
   "cell_type": "code",
   "execution_count": 15,
   "metadata": {
    "executionInfo": {
     "elapsed": 26,
     "status": "ok",
     "timestamp": 1631163308232,
     "user": {
      "displayName": "Shilpa Garg",
      "photoUrl": "",
      "userId": "12607333565625535618"
     },
     "user_tz": -330
    },
    "id": "eFYVV_jR7z-q"
   },
   "outputs": [],
   "source": [
    "## Replacing NAN values with blank from reviews_title field\n",
    "df.reviews_title = df.reviews_title.fillna('')"
   ]
  },
  {
   "cell_type": "code",
   "execution_count": 16,
   "metadata": {
    "executionInfo": {
     "elapsed": 25,
     "status": "ok",
     "timestamp": 1631163308232,
     "user": {
      "displayName": "Shilpa Garg",
      "photoUrl": "",
      "userId": "12607333565625535618"
     },
     "user_tz": -330
    },
    "id": "NnDl1SSI-ZzA"
   },
   "outputs": [],
   "source": [
    "df = df[df['user_sentiment'].notna()]"
   ]
  },
  {
   "cell_type": "markdown",
   "metadata": {
    "id": "a7roW8yM3_YC"
   },
   "source": [
    "# Building  Models"
   ]
  },
  {
   "cell_type": "code",
   "execution_count": 17,
   "metadata": {
    "executionInfo": {
     "elapsed": 643,
     "status": "ok",
     "timestamp": 1631163308851,
     "user": {
      "displayName": "Shilpa Garg",
      "photoUrl": "",
      "userId": "12607333565625535618"
     },
     "user_tz": -330
    },
    "id": "bu1Mm85d4Ddq"
   },
   "outputs": [],
   "source": [
    "from sklearn.model_selection import cross_val_score\n",
    "from scipy.sparse import hstack\n",
    "from sklearn.feature_extraction.text import TfidfVectorizer\n",
    "\n",
    "from sklearn.metrics import accuracy_score"
   ]
  },
  {
   "cell_type": "code",
   "execution_count": 18,
   "metadata": {
    "executionInfo": {
     "elapsed": 6,
     "status": "ok",
     "timestamp": 1631163308851,
     "user": {
      "displayName": "Shilpa Garg",
      "photoUrl": "",
      "userId": "12607333565625535618"
     },
     "user_tz": -330
    },
    "id": "awhXK2lO4FuM"
   },
   "outputs": [],
   "source": [
    "all_text=df['reviews_title']+\" \"+df['reviews_text']"
   ]
  },
  {
   "cell_type": "code",
   "execution_count": 19,
   "metadata": {
    "colab": {
     "base_uri": "https://localhost:8080/"
    },
    "executionInfo": {
     "elapsed": 7,
     "status": "ok",
     "timestamp": 1631163308852,
     "user": {
      "displayName": "Shilpa Garg",
      "photoUrl": "",
      "userId": "12607333565625535618"
     },
     "user_tz": -330
    },
    "id": "fb9V6HHb6szI",
    "outputId": "05968064-a118-4c78-a7c0-9dddd2598961"
   },
   "outputs": [
    {
     "data": {
      "text/plain": [
       "0    Just Awesome i love this album. it's very good...\n",
       "1    Good Good flavor. This review was collected as...\n",
       "2                                    Good Good flavor.\n",
       "3    Disappointed I read through the reviews on her...\n",
       "4    Irritation My husband bought this gel for us. ...\n",
       "dtype: object"
      ]
     },
     "execution_count": 19,
     "metadata": {},
     "output_type": "execute_result"
    }
   ],
   "source": [
    "all_text.head()"
   ]
  },
  {
   "cell_type": "code",
   "execution_count": 20,
   "metadata": {
    "executionInfo": {
     "elapsed": 4,
     "status": "ok",
     "timestamp": 1631163308852,
     "user": {
      "displayName": "Shilpa Garg",
      "photoUrl": "",
      "userId": "12607333565625535618"
     },
     "user_tz": -330
    },
    "id": "VBkoloxK6uEw"
   },
   "outputs": [],
   "source": [
    "y=df['user_sentiment']"
   ]
  },
  {
   "cell_type": "code",
   "execution_count": 21,
   "metadata": {
    "executionInfo": {
     "elapsed": 1501,
     "status": "ok",
     "timestamp": 1631163310350,
     "user": {
      "displayName": "Shilpa Garg",
      "photoUrl": "",
      "userId": "12607333565625535618"
     },
     "user_tz": -330
    },
    "id": "IUuoDekR7MlX"
   },
   "outputs": [],
   "source": [
    "word_vectorizer = TfidfVectorizer(\n",
    "    sublinear_tf=True,\n",
    "    strip_accents='unicode',\n",
    "    analyzer='word',\n",
    "    token_pattern=r'\\w{1,}',\n",
    "    stop_words='english',\n",
    "    ngram_range=(1, 1),\n",
    "    max_features=10000)\n",
    "word_vectorizer.fit(all_text)\n",
    "train_word_features = word_vectorizer.transform(all_text)"
   ]
  },
  {
   "cell_type": "code",
   "execution_count": 22,
   "metadata": {
    "colab": {
     "base_uri": "https://localhost:8080/"
    },
    "executionInfo": {
     "elapsed": 54766,
     "status": "ok",
     "timestamp": 1631163365112,
     "user": {
      "displayName": "Shilpa Garg",
      "photoUrl": "",
      "userId": "12607333565625535618"
     },
     "user_tz": -330
    },
    "id": "7CcBnzU-7SD8",
    "outputId": "15cdd3de-a837-4b2f-deeb-9c382dad123c"
   },
   "outputs": [],
   "source": [
    "#char_vectorizer = TfidfVectorizer(\n",
    "#    sublinear_tf=True,\n",
    "#    strip_accents='unicode',\n",
    "#    analyzer='char',\n",
    "#    stop_words='english',\n",
    "#    ngram_range=(2, 6),\n",
    "#    max_features=50000)\n",
    "#char_vectorizer.fit(all_text)\n",
    "#train_char_features = char_vectorizer.transform(all_text)\n",
    "\n",
    "#train_features = hstack([train_char_features, train_word_features])\n",
    "train_features = train_word_features"
   ]
  },
  {
   "cell_type": "code",
   "execution_count": null,
   "metadata": {
    "executionInfo": {
     "elapsed": 13,
     "status": "ok",
     "timestamp": 1631163365113,
     "user": {
      "displayName": "Shilpa Garg",
      "photoUrl": "",
      "userId": "12607333565625535618"
     },
     "user_tz": -330
    },
    "id": "Rsam6WEr7xwj"
   },
   "outputs": [],
   "source": []
  },
  {
   "cell_type": "markdown",
   "metadata": {
    "id": "Dn4hDq_n8E0j"
   },
   "source": [
    "Dividing test and train data set"
   ]
  },
  {
   "cell_type": "code",
   "execution_count": 23,
   "metadata": {
    "executionInfo": {
     "elapsed": 1580,
     "status": "ok",
     "timestamp": 1631163366682,
     "user": {
      "displayName": "Shilpa Garg",
      "photoUrl": "",
      "userId": "12607333565625535618"
     },
     "user_tz": -330
    },
    "id": "r9n12fS08JL4"
   },
   "outputs": [],
   "source": [
    "from sklearn.model_selection import train_test_split\n",
    "X_train, X_test, y_train, y_test = train_test_split(train_features, y,test_size=0.3,random_state=101)"
   ]
  },
  {
   "cell_type": "markdown",
   "metadata": {
    "id": "3E170LC58Yed"
   },
   "source": [
    "## Random Forest"
   ]
  },
  {
   "cell_type": "code",
   "execution_count": 24,
   "metadata": {
    "executionInfo": {
     "elapsed": 83402,
     "status": "ok",
     "timestamp": 1631163450080,
     "user": {
      "displayName": "Shilpa Garg",
      "photoUrl": "",
      "userId": "12607333565625535618"
     },
     "user_tz": -330
    },
    "id": "Bfr7qr428eyE"
   },
   "outputs": [],
   "source": [
    "from sklearn.ensemble import RandomForestClassifier\n",
    "\n",
    "classifier = RandomForestClassifier()\n",
    "classifier.fit(X_train,y_train)\n",
    "preds=classifier.predict(X_test)"
   ]
  },
  {
   "cell_type": "code",
   "execution_count": 25,
   "metadata": {
    "executionInfo": {
     "elapsed": 60,
     "status": "ok",
     "timestamp": 1631163450082,
     "user": {
      "displayName": "Shilpa Garg",
      "photoUrl": "",
      "userId": "12607333565625535618"
     },
     "user_tz": -330
    },
    "id": "Hjl4ik_J8zaj"
   },
   "outputs": [],
   "source": [
    "rf_accuracy=accuracy_score(preds,y_test)"
   ]
  },
  {
   "cell_type": "code",
   "execution_count": 26,
   "metadata": {
    "colab": {
     "base_uri": "https://localhost:8080/"
    },
    "executionInfo": {
     "elapsed": 10,
     "status": "ok",
     "timestamp": 1631167440903,
     "user": {
      "displayName": "Shilpa Garg",
      "photoUrl": "",
      "userId": "12607333565625535618"
     },
     "user_tz": -330
    },
    "id": "dvVnyDHd_n92",
    "outputId": "b74b3dc2-744f-49bb-f41c-c33c461c40d4"
   },
   "outputs": [
    {
     "name": "stdout",
     "output_type": "stream",
     "text": [
      "Random Forest model accuracy :  91.08 %\n"
     ]
    }
   ],
   "source": [
    "print(\"Random Forest model accuracy : \",round((rf_accuracy*100),2),\"%\")"
   ]
  },
  {
   "cell_type": "code",
   "execution_count": null,
   "metadata": {
    "executionInfo": {
     "elapsed": 18,
     "status": "ok",
     "timestamp": 1631163450083,
     "user": {
      "displayName": "Shilpa Garg",
      "photoUrl": "",
      "userId": "12607333565625535618"
     },
     "user_tz": -330
    },
    "id": "BT3dpH_N_w2a"
   },
   "outputs": [],
   "source": []
  },
  {
   "cell_type": "markdown",
   "metadata": {
    "id": "aCKL8Flb6W9w"
   },
   "source": [
    "## XGBoost"
   ]
  },
  {
   "cell_type": "code",
   "execution_count": 27,
   "metadata": {
    "colab": {
     "base_uri": "https://localhost:8080/"
    },
    "executionInfo": {
     "elapsed": 176968,
     "status": "ok",
     "timestamp": 1631163627042,
     "user": {
      "displayName": "Shilpa Garg",
      "photoUrl": "",
      "userId": "12607333565625535618"
     },
     "user_tz": -330
    },
    "id": "_-HIGscy6cLs",
    "outputId": "f76ef2b0-675f-4906-c2e7-6db81f500c34"
   },
   "outputs": [
    {
     "name": "stderr",
     "output_type": "stream",
     "text": [
      "C:\\Users\\LPT-2347\\anaconda3\\lib\\site-packages\\xgboost\\sklearn.py:1146: UserWarning: The use of label encoder in XGBClassifier is deprecated and will be removed in a future release. To remove this warning, do the following: 1) Pass option use_label_encoder=False when constructing XGBClassifier object; and 2) Encode your labels (y) as integers starting with 0, i.e. 0, 1, 2, ..., [num_class - 1].\n",
      "  warnings.warn(label_encoder_deprecation_msg, UserWarning)\n"
     ]
    },
    {
     "name": "stdout",
     "output_type": "stream",
     "text": [
      "[20:32:34] WARNING: C:/Users/Administrator/workspace/xgboost-win64_release_1.4.0/src/learner.cc:1095: Starting in XGBoost 1.3.0, the default evaluation metric used with the objective 'binary:logistic' was changed from 'error' to 'logloss'. Explicitly set eval_metric if you'd like to restore the old behavior.\n"
     ]
    },
    {
     "data": {
      "text/plain": [
       "XGBClassifier(base_score=0.5, booster='gbtree', colsample_bylevel=1,\n",
       "              colsample_bynode=1, colsample_bytree=1, gamma=0, gpu_id=-1,\n",
       "              importance_type='gain', interaction_constraints='',\n",
       "              learning_rate=0.300000012, max_delta_step=0, max_depth=6,\n",
       "              min_child_weight=1, missing=nan, monotone_constraints='()',\n",
       "              n_estimators=100, n_jobs=4, num_parallel_tree=1, random_state=0,\n",
       "              reg_alpha=0, reg_lambda=1, scale_pos_weight=1, subsample=1,\n",
       "              tree_method='exact', validate_parameters=1, verbosity=None)"
      ]
     },
     "execution_count": 27,
     "metadata": {},
     "output_type": "execute_result"
    }
   ],
   "source": [
    "import xgboost as xgb\n",
    "xgb=xgb.XGBClassifier()\n",
    "xgb.fit(X_train,y_train)"
   ]
  },
  {
   "cell_type": "code",
   "execution_count": 28,
   "metadata": {
    "executionInfo": {
     "elapsed": 2817,
     "status": "ok",
     "timestamp": 1631163633767,
     "user": {
      "displayName": "Shilpa Garg",
      "photoUrl": "",
      "userId": "12607333565625535618"
     },
     "user_tz": -330
    },
    "id": "OZiJk8gU6gZm"
   },
   "outputs": [],
   "source": [
    "preds2=xgb.predict(X_test)"
   ]
  },
  {
   "cell_type": "code",
   "execution_count": 29,
   "metadata": {
    "executionInfo": {
     "elapsed": 18,
     "status": "ok",
     "timestamp": 1631163633767,
     "user": {
      "displayName": "Shilpa Garg",
      "photoUrl": "",
      "userId": "12607333565625535618"
     },
     "user_tz": -330
    },
    "id": "4P5Zny4g6i31"
   },
   "outputs": [],
   "source": [
    "xgb_accuracy=accuracy_score(preds2,y_test)"
   ]
  },
  {
   "cell_type": "code",
   "execution_count": 30,
   "metadata": {
    "colab": {
     "base_uri": "https://localhost:8080/"
    },
    "executionInfo": {
     "elapsed": 383,
     "status": "ok",
     "timestamp": 1631167455548,
     "user": {
      "displayName": "Shilpa Garg",
      "photoUrl": "",
      "userId": "12607333565625535618"
     },
     "user_tz": -330
    },
    "id": "C5i5oniX6m8Q",
    "outputId": "489a6ae3-b9db-4983-ca8c-0d0d539c36de"
   },
   "outputs": [
    {
     "name": "stdout",
     "output_type": "stream",
     "text": [
      "XGBoost model accuracy :  91.63 %\n"
     ]
    }
   ],
   "source": [
    "print(\"XGBoost model accuracy : \",round((xgb_accuracy*100),2),\"%\")"
   ]
  },
  {
   "cell_type": "code",
   "execution_count": null,
   "metadata": {
    "id": "JrSfZC4a6zAt"
   },
   "outputs": [],
   "source": []
  },
  {
   "cell_type": "markdown",
   "metadata": {
    "id": "XDpHj_YA606C"
   },
   "source": [
    "## Logistic regression"
   ]
  },
  {
   "cell_type": "code",
   "execution_count": 31,
   "metadata": {
    "executionInfo": {
     "elapsed": 8,
     "status": "ok",
     "timestamp": 1631163633769,
     "user": {
      "displayName": "Shilpa Garg",
      "photoUrl": "",
      "userId": "12607333565625535618"
     },
     "user_tz": -330
    },
    "id": "LhT09o5664iD"
   },
   "outputs": [],
   "source": [
    "from sklearn.linear_model import LogisticRegression\n",
    "from sklearn.metrics import *"
   ]
  },
  {
   "cell_type": "code",
   "execution_count": 32,
   "metadata": {
    "executionInfo": {
     "elapsed": 9839,
     "status": "ok",
     "timestamp": 1631167272767,
     "user": {
      "displayName": "Shilpa Garg",
      "photoUrl": "",
      "userId": "12607333565625535618"
     },
     "user_tz": -330
    },
    "id": "6-g2brqg69R4"
   },
   "outputs": [],
   "source": [
    "clf = LogisticRegression().fit(X_train, y_train)\n",
    "clf_pred = clf.predict(X_test)\n",
    "accuracy = clf.score(X_test, y_test)"
   ]
  },
  {
   "cell_type": "code",
   "execution_count": 33,
   "metadata": {
    "colab": {
     "base_uri": "https://localhost:8080/"
    },
    "executionInfo": {
     "elapsed": 1010,
     "status": "ok",
     "timestamp": 1631167479521,
     "user": {
      "displayName": "Shilpa Garg",
      "photoUrl": "",
      "userId": "12607333565625535618"
     },
     "user_tz": -330
    },
    "id": "upjfe4Wi7q2S",
    "outputId": "e32e7b49-94cc-4902-9b25-9fb91688fee4"
   },
   "outputs": [
    {
     "name": "stdout",
     "output_type": "stream",
     "text": [
      "Logistic regression model accuracy :  91.04 %\n"
     ]
    }
   ],
   "source": [
    "model_performance = classification_report(y_test, clf_pred)\n",
    "print(\"Logistic regression model accuracy : \",round((accuracy*100),2),\"%\")"
   ]
  },
  {
   "cell_type": "code",
   "execution_count": 34,
   "metadata": {
    "colab": {
     "base_uri": "https://localhost:8080/"
    },
    "executionInfo": {
     "elapsed": 371,
     "status": "ok",
     "timestamp": 1631163827515,
     "user": {
      "displayName": "Shilpa Garg",
      "photoUrl": "",
      "userId": "12607333565625535618"
     },
     "user_tz": -330
    },
    "id": "yoNo172y72YK",
    "outputId": "e044f91c-98e2-432a-de76-08f6d52d397e"
   },
   "outputs": [
    {
     "name": "stdout",
     "output_type": "stream",
     "text": [
      "              precision    recall  f1-score   support\n",
      "\n",
      "    Negative       0.82      0.23      0.36       986\n",
      "    Positive       0.91      0.99      0.95      8014\n",
      "\n",
      "    accuracy                           0.91      9000\n",
      "   macro avg       0.87      0.61      0.66      9000\n",
      "weighted avg       0.90      0.91      0.89      9000\n",
      "\n"
     ]
    }
   ],
   "source": [
    "print(model_performance)"
   ]
  },
  {
   "cell_type": "code",
   "execution_count": null,
   "metadata": {
    "id": "DbOPXDIi8MFV"
   },
   "outputs": [],
   "source": []
  },
  {
   "cell_type": "markdown",
   "metadata": {
    "id": "DbljRbAq8uxZ"
   },
   "source": [
    "## Naive Bayes"
   ]
  },
  {
   "cell_type": "code",
   "execution_count": 35,
   "metadata": {
    "executionInfo": {
     "elapsed": 585,
     "status": "ok",
     "timestamp": 1631164357755,
     "user": {
      "displayName": "Shilpa Garg",
      "photoUrl": "",
      "userId": "12607333565625535618"
     },
     "user_tz": -330
    },
    "id": "iVrWzXo4-JxI"
   },
   "outputs": [],
   "source": [
    "from sklearn.naive_bayes import MultinomialNB, BernoulliNB"
   ]
  },
  {
   "cell_type": "code",
   "execution_count": 36,
   "metadata": {
    "executionInfo": {
     "elapsed": 509,
     "status": "ok",
     "timestamp": 1631168122476,
     "user": {
      "displayName": "Shilpa Garg",
      "photoUrl": "",
      "userId": "12607333565625535618"
     },
     "user_tz": -330
    },
    "id": "qbn9IWRS8wc2"
   },
   "outputs": [],
   "source": [
    "def model_predict(X_train, y_train, X_test, y_test, ml_model):\n",
    "    \n",
    "    clf = ml_model.fit(X_train, y_train)\n",
    "    clf_pred = clf.predict(X_test)\n",
    "    accuracy = clf.score(X_test, y_test)\n",
    "    model_performance = classification_report(y_test, clf_pred)\n",
    "    validation_pred_proba_grad = clf.predict_proba(X_test)\n",
    "    roc_auc = roc_auc_score(y_test, validation_pred_proba_grad[:,1])\n",
    "    \n",
    "    print (' model accuracy : ',round((accuracy*100),2),\"%\")\n",
    "    print('')\n",
    "    print(model_performance)\n",
    "    print('')\n",
    "    print('ROC_AUC score: ', roc_auc)\n",
    "    return accuracy"
   ]
  },
  {
   "cell_type": "code",
   "execution_count": 37,
   "metadata": {
    "colab": {
     "base_uri": "https://localhost:8080/"
    },
    "executionInfo": {
     "elapsed": 939,
     "status": "ok",
     "timestamp": 1631167713815,
     "user": {
      "displayName": "Shilpa Garg",
      "photoUrl": "",
      "userId": "12607333565625535618"
     },
     "user_tz": -330
    },
    "id": "Mf-Msq21-Bu7",
    "outputId": "4a897021-b013-4568-935f-2f909cca81d8"
   },
   "outputs": [
    {
     "name": "stdout",
     "output_type": "stream",
     "text": [
      " model accuracy :  89.08 %\n",
      "\n",
      "              precision    recall  f1-score   support\n",
      "\n",
      "    Negative       0.54      0.02      0.04       986\n",
      "    Positive       0.89      1.00      0.94      8014\n",
      "\n",
      "    accuracy                           0.89      9000\n",
      "   macro avg       0.71      0.51      0.49      9000\n",
      "weighted avg       0.85      0.89      0.84      9000\n",
      "\n",
      "\n",
      "ROC_AUC score:  0.8011274387468987\n"
     ]
    }
   ],
   "source": [
    "MultinomialNB_accuracy = model_predict(X_train, y_train, X_test, y_test, MultinomialNB())"
   ]
  },
  {
   "cell_type": "code",
   "execution_count": 38,
   "metadata": {
    "colab": {
     "base_uri": "https://localhost:8080/"
    },
    "executionInfo": {
     "elapsed": 989,
     "status": "ok",
     "timestamp": 1631167723101,
     "user": {
      "displayName": "Shilpa Garg",
      "photoUrl": "",
      "userId": "12607333565625535618"
     },
     "user_tz": -330
    },
    "id": "WshUEGGyI0DH",
    "outputId": "0e3b9254-6bc6-445f-cbd1-6291fe4beb7e"
   },
   "outputs": [
    {
     "name": "stdout",
     "output_type": "stream",
     "text": [
      " model accuracy :  86.34 %\n",
      "\n",
      "              precision    recall  f1-score   support\n",
      "\n",
      "    Negative       0.35      0.29      0.32       986\n",
      "    Positive       0.91      0.93      0.92      8014\n",
      "\n",
      "    accuracy                           0.86      9000\n",
      "   macro avg       0.63      0.61      0.62      9000\n",
      "weighted avg       0.85      0.86      0.86      9000\n",
      "\n",
      "\n",
      "ROC_AUC score:  0.8179147445317551\n"
     ]
    }
   ],
   "source": [
    "BernoulliNB_accuracy = model_predict(X_train, y_train, X_test, y_test, BernoulliNB())"
   ]
  },
  {
   "cell_type": "code",
   "execution_count": null,
   "metadata": {
    "id": "zJbtL0NGLL8Z"
   },
   "outputs": [],
   "source": []
  },
  {
   "cell_type": "code",
   "execution_count": null,
   "metadata": {
    "id": "qdR5yJnCLVo6"
   },
   "outputs": [],
   "source": []
  },
  {
   "cell_type": "markdown",
   "metadata": {
    "id": "45nH8CfZLbV_"
   },
   "source": [
    "# Handling Class Imbalance"
   ]
  },
  {
   "cell_type": "markdown",
   "metadata": {
    "id": "icHhHZofLuC0"
   },
   "source": [
    "Let's check if there is any class imbalance here. If there is any class imbalance, then I will resolve that issue and will run the model again and will check the model performance."
   ]
  },
  {
   "cell_type": "code",
   "execution_count": 39,
   "metadata": {
    "colab": {
     "base_uri": "https://localhost:8080/"
    },
    "executionInfo": {
     "elapsed": 421,
     "status": "ok",
     "timestamp": 1631167920625,
     "user": {
      "displayName": "Shilpa Garg",
      "photoUrl": "",
      "userId": "12607333565625535618"
     },
     "user_tz": -330
    },
    "id": "_fIXbRVQLw_B",
    "outputId": "8bbb3726-0572-44f1-b67c-d77d1e6df453"
   },
   "outputs": [
    {
     "data": {
      "text/plain": [
       "Positive    26632\n",
       "Negative     3367\n",
       "Name: user_sentiment, dtype: int64"
      ]
     },
     "execution_count": 39,
     "metadata": {},
     "output_type": "execute_result"
    }
   ],
   "source": [
    "y.value_counts()"
   ]
  },
  {
   "cell_type": "markdown",
   "metadata": {
    "id": "rgX8vW2EL32D"
   },
   "source": [
    "If we check the above value counts, the target values are skewed towards positive side. In order to address this issue, resampling the data has to be performed. I will use oversampling to combat class imbalance. Smote is especially preferable since it's a well-made package with it's own pipeline function compatible with other python modules. Also, before applying SMOTE technique to balance the class, I would like lemmatize the review text and pass it to TFIDF vectorizer."
   ]
  },
  {
   "cell_type": "code",
   "execution_count": 40,
   "metadata": {
    "colab": {
     "base_uri": "https://localhost:8080/"
    },
    "executionInfo": {
     "elapsed": 359,
     "status": "ok",
     "timestamp": 1631167971926,
     "user": {
      "displayName": "Shilpa Garg",
      "photoUrl": "",
      "userId": "12607333565625535618"
     },
     "user_tz": -330
    },
    "id": "F-Ihj8dIL9EA",
    "outputId": "eb600450-a879-4489-daaf-626eebf3a198"
   },
   "outputs": [],
   "source": [
    "from imblearn.over_sampling import SMOTE"
   ]
  },
  {
   "cell_type": "code",
   "execution_count": 41,
   "metadata": {
    "colab": {
     "base_uri": "https://localhost:8080/"
    },
    "executionInfo": {
     "elapsed": 31071,
     "status": "ok",
     "timestamp": 1631168033709,
     "user": {
      "displayName": "Shilpa Garg",
      "photoUrl": "",
      "userId": "12607333565625535618"
     },
     "user_tz": -330
    },
    "id": "tsB8ie6EL_6Q",
    "outputId": "f8017182-56de-4d3b-e84b-d3c09ab4de7b"
   },
   "outputs": [
    {
     "ename": "AttributeError",
     "evalue": "'SMOTE' object has no attribute 'fit_sample'",
     "output_type": "error",
     "traceback": [
      "\u001b[1;31m---------------------------------------------------------------------------\u001b[0m",
      "\u001b[1;31mAttributeError\u001b[0m                            Traceback (most recent call last)",
      "\u001b[1;32m<ipython-input-41-86811ede1d0c>\u001b[0m in \u001b[0;36m<module>\u001b[1;34m\u001b[0m\n\u001b[0;32m      1\u001b[0m \u001b[0msm\u001b[0m \u001b[1;33m=\u001b[0m \u001b[0mSMOTE\u001b[0m\u001b[1;33m(\u001b[0m\u001b[1;33m)\u001b[0m\u001b[1;33m\u001b[0m\u001b[1;33m\u001b[0m\u001b[0m\n\u001b[1;32m----> 2\u001b[1;33m \u001b[0mX_train_smote\u001b[0m\u001b[1;33m,\u001b[0m \u001b[0my_train_smote\u001b[0m \u001b[1;33m=\u001b[0m \u001b[0msm\u001b[0m\u001b[1;33m.\u001b[0m\u001b[0mfit_sample\u001b[0m\u001b[1;33m(\u001b[0m\u001b[0mX_train\u001b[0m\u001b[1;33m,\u001b[0m \u001b[0my_train\u001b[0m\u001b[1;33m)\u001b[0m\u001b[1;33m\u001b[0m\u001b[1;33m\u001b[0m\u001b[0m\n\u001b[0m\u001b[0;32m      3\u001b[0m \u001b[0mX_test_smote\u001b[0m\u001b[1;33m,\u001b[0m \u001b[0my_test_smote\u001b[0m \u001b[1;33m=\u001b[0m \u001b[0msm\u001b[0m\u001b[1;33m.\u001b[0m\u001b[0mfit_sample\u001b[0m\u001b[1;33m(\u001b[0m\u001b[0mX_test\u001b[0m\u001b[1;33m,\u001b[0m \u001b[0my_test\u001b[0m\u001b[1;33m)\u001b[0m\u001b[1;33m\u001b[0m\u001b[1;33m\u001b[0m\u001b[0m\n",
      "\u001b[1;31mAttributeError\u001b[0m: 'SMOTE' object has no attribute 'fit_sample'"
     ]
    }
   ],
   "source": [
    "sm = SMOTE()\n",
    "X_train_smote, y_train_smote = sm.fit_sample(X_train, y_train)\n",
    "X_test_smote, y_test_smote = sm.fit_sample(X_test, y_test)"
   ]
  },
  {
   "cell_type": "markdown",
   "metadata": {
    "id": "YpzZQup6Nmmm"
   },
   "source": []
  },
  {
   "cell_type": "code",
   "execution_count": null,
   "metadata": {
    "colab": {
     "base_uri": "https://localhost:8080/"
    },
    "executionInfo": {
     "elapsed": 20339,
     "status": "ok",
     "timestamp": 1631168560466,
     "user": {
      "displayName": "Shilpa Garg",
      "photoUrl": "",
      "userId": "12607333565625535618"
     },
     "user_tz": -330
    },
    "id": "9hSzpKICM8R2",
    "outputId": "01428011-4f14-499c-d5d9-5abdfc6b1486"
   },
   "outputs": [],
   "source": [
    "#Logistic Regression\n",
    "model_predict(X_train_smote, y_train_smote, X_test_smote, y_test_smote, LogisticRegression())\n"
   ]
  },
  {
   "cell_type": "code",
   "execution_count": null,
   "metadata": {
    "colab": {
     "base_uri": "https://localhost:8080/"
    },
    "executionInfo": {
     "elapsed": 1495,
     "status": "ok",
     "timestamp": 1631168561950,
     "user": {
      "displayName": "Shilpa Garg",
      "photoUrl": "",
      "userId": "12607333565625535618"
     },
     "user_tz": -330
    },
    "id": "opPCzCPBM_D8",
    "outputId": "3e064b08-7007-49b0-c6b5-79672e04b5cb"
   },
   "outputs": [],
   "source": [
    "#MultinomialNB\n",
    "model_predict(X_train_smote, y_train_smote, X_test_smote, y_test_smote, MultinomialNB())"
   ]
  },
  {
   "cell_type": "code",
   "execution_count": null,
   "metadata": {
    "colab": {
     "base_uri": "https://localhost:8080/"
    },
    "executionInfo": {
     "elapsed": 1992,
     "status": "ok",
     "timestamp": 1631168563939,
     "user": {
      "displayName": "Shilpa Garg",
      "photoUrl": "",
      "userId": "12607333565625535618"
     },
     "user_tz": -330
    },
    "id": "XpuLlW_DNAsm",
    "outputId": "5b7ebde4-60ad-4b90-b4d0-4a3899419ace"
   },
   "outputs": [],
   "source": [
    "#BernoulliNB\n",
    "model_predict(X_train_smote, y_train_smote, X_test_smote, y_test_smote, BernoulliNB())"
   ]
  },
  {
   "cell_type": "markdown",
   "metadata": {
    "id": "QK_koTXlOkDj"
   },
   "source": [
    "Model performance degrades after using SMOTE, so we are not using SMOTE in our final model deployment."
   ]
  },
  {
   "cell_type": "markdown",
   "metadata": {
    "id": "NokPjLevKjnv"
   },
   "source": [
    "## Comparing Models"
   ]
  },
  {
   "cell_type": "code",
   "execution_count": 42,
   "metadata": {
    "colab": {
     "base_uri": "https://localhost:8080/"
    },
    "executionInfo": {
     "elapsed": 392,
     "status": "ok",
     "timestamp": 1631177047435,
     "user": {
      "displayName": "Shilpa Garg",
      "photoUrl": "",
      "userId": "12607333565625535618"
     },
     "user_tz": -330
    },
    "id": "zxPseOm7KoL3",
    "outputId": "e1f1011b-a905-4b27-ebbb-cb538dd24a43"
   },
   "outputs": [
    {
     "name": "stdout",
     "output_type": "stream",
     "text": [
      "Random Forest model accuracy :  91.08 %\n",
      "XGBoost model accuracy :  91.63 %\n",
      "Logistic regression model accuracy :  91.04 %\n",
      "MultinomialNB model accuracy :  89.08 %\n",
      "BernoulliNB model accuracy :  86.34 %\n"
     ]
    }
   ],
   "source": [
    "print(\"Random Forest model accuracy : \",round((rf_accuracy*100),2),\"%\")\n",
    "print(\"XGBoost model accuracy : \",round((xgb_accuracy*100),2),\"%\")\n",
    "print(\"Logistic regression model accuracy : \",round((accuracy*100),2),\"%\")\n",
    "print(\"MultinomialNB model accuracy : \",round((MultinomialNB_accuracy*100),2),\"%\")\n",
    "print(\"BernoulliNB model accuracy : \",round((BernoulliNB_accuracy*100),2),\"%\")"
   ]
  },
  {
   "cell_type": "markdown",
   "metadata": {
    "id": "7fshWZfILO10"
   },
   "source": [
    "Logistic regression model is the best performing model among all models, with the accuracy of approx. 91%"
   ]
  },
  {
   "cell_type": "markdown",
   "metadata": {
    "id": "UrV-sXXQu8QC"
   },
   "source": [
    "I will use Logistic regression model as my final model for deployment"
   ]
  },
  {
   "cell_type": "code",
   "execution_count": null,
   "metadata": {
    "id": "NzVckkfgu7Is"
   },
   "outputs": [],
   "source": []
  }
 ],
 "metadata": {
  "colab": {
   "authorship_tag": "ABX9TyNlfXLWI/rogpX2Im7Ii7ST",
   "collapsed_sections": [],
   "name": "Sentiment Prediction.ipynb",
   "provenance": [],
   "toc_visible": true
  },
  "kernelspec": {
   "display_name": "Python 3",
   "language": "python",
   "name": "python3"
  },
  "language_info": {
   "codemirror_mode": {
    "name": "ipython",
    "version": 3
   },
   "file_extension": ".py",
   "mimetype": "text/x-python",
   "name": "python",
   "nbconvert_exporter": "python",
   "pygments_lexer": "ipython3",
   "version": "3.8.8"
  }
 },
 "nbformat": 4,
 "nbformat_minor": 1
}
