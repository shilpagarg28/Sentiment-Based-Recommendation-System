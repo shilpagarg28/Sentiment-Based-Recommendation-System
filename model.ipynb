{
 "cells": [
  {
   "cell_type": "code",
   "execution_count": 2,
   "metadata": {
    "colab": {
     "base_uri": "https://localhost:8080/"
    },
    "executionInfo": {
     "elapsed": 396,
     "status": "ok",
     "timestamp": 1631270749774,
     "user": {
      "displayName": "Shilpa Garg",
      "photoUrl": "https://lh3.googleusercontent.com/a/default-user=s64",
      "userId": "12607333565625535618"
     },
     "user_tz": -330
    },
    "id": "z2TUiBjCKxCJ",
    "outputId": "0aa45f46-e88c-4997-e4a3-9aad51790897"
   },
   "outputs": [
    {
     "name": "stdout",
     "output_type": "stream",
     "text": [
      "Item Based Recommnedation System\n"
     ]
    }
   ],
   "source": [
    "print(\"Item Based Recommnedation System\")"
   ]
  },
  {
   "cell_type": "code",
   "execution_count": 3,
   "metadata": {
    "colab": {
     "base_uri": "https://localhost:8080/"
    },
    "executionInfo": {
     "elapsed": 28199,
     "status": "ok",
     "timestamp": 1631284179935,
     "user": {
      "displayName": "Shilpa Garg",
      "photoUrl": "https://lh3.googleusercontent.com/a/default-user=s64",
      "userId": "12607333565625535618"
     },
     "user_tz": -330
    },
    "id": "1F1wrj_yLHZU",
    "outputId": "735579d8-f367-43b2-ec1d-596a34fd25c3"
   },
   "outputs": [],
   "source": [
    "#from google.colab import drive\n",
    "#drive.mount('/content/gdrive')"
   ]
  },
  {
   "cell_type": "code",
   "execution_count": 4,
   "metadata": {
    "executionInfo": {
     "elapsed": 356,
     "status": "ok",
     "timestamp": 1631270753413,
     "user": {
      "displayName": "Shilpa Garg",
      "photoUrl": "https://lh3.googleusercontent.com/a/default-user=s64",
      "userId": "12607333565625535618"
     },
     "user_tz": -330
    },
    "id": "eEAirfgaLC-i"
   },
   "outputs": [],
   "source": [
    "import pandas as pd\n",
    "import numpy as np\n",
    "import seaborn as sns"
   ]
  },
  {
   "cell_type": "code",
   "execution_count": 5,
   "metadata": {
    "colab": {
     "base_uri": "https://localhost:8080/"
    },
    "executionInfo": {
     "elapsed": 628,
     "status": "ok",
     "timestamp": 1631270754511,
     "user": {
      "displayName": "Shilpa Garg",
      "photoUrl": "https://lh3.googleusercontent.com/a/default-user=s64",
      "userId": "12607333565625535618"
     },
     "user_tz": -330
    },
    "id": "hFqbNav5K3k1",
    "outputId": "fc0db4ec-5673-4b1c-bb27-48c9ada09337"
   },
   "outputs": [
    {
     "data": {
      "text/plain": [
       "(30000, 15)"
      ]
     },
     "execution_count": 5,
     "metadata": {},
     "output_type": "execute_result"
    }
   ],
   "source": [
    "#df_org=pd.read_csv('/content/gdrive/MyDrive/MyCapstone (1)/data/sample30.csv')\n",
    "df_org=pd.read_csv('data/sample30.csv')\n",
    "df_org.shape"
   ]
  },
  {
   "cell_type": "code",
   "execution_count": 6,
   "metadata": {
    "executionInfo": {
     "elapsed": 3,
     "status": "ok",
     "timestamp": 1631270755136,
     "user": {
      "displayName": "Shilpa Garg",
      "photoUrl": "https://lh3.googleusercontent.com/a/default-user=s64",
      "userId": "12607333565625535618"
     },
     "user_tz": -330
    },
    "id": "qkoAN7SiLAaV"
   },
   "outputs": [],
   "source": [
    "df = df_org[['id','reviews_username','reviews_rating']]"
   ]
  },
  {
   "cell_type": "code",
   "execution_count": 7,
   "metadata": {
    "colab": {
     "base_uri": "https://localhost:8080/"
    },
    "executionInfo": {
     "elapsed": 17,
     "status": "ok",
     "timestamp": 1631270755844,
     "user": {
      "displayName": "Shilpa Garg",
      "photoUrl": "https://lh3.googleusercontent.com/a/default-user=s64",
      "userId": "12607333565625535618"
     },
     "user_tz": -330
    },
    "id": "f6CAyNdbMnmu",
    "outputId": "2eed770c-14f9-41d4-8988-93b5b12c9b5e"
   },
   "outputs": [
    {
     "data": {
      "text/plain": [
       "(30000, 3)"
      ]
     },
     "execution_count": 7,
     "metadata": {},
     "output_type": "execute_result"
    }
   ],
   "source": [
    "df.shape"
   ]
  },
  {
   "cell_type": "code",
   "execution_count": 8,
   "metadata": {
    "colab": {
     "base_uri": "https://localhost:8080/"
    },
    "executionInfo": {
     "elapsed": 6,
     "status": "ok",
     "timestamp": 1631270756488,
     "user": {
      "displayName": "Shilpa Garg",
      "photoUrl": "https://lh3.googleusercontent.com/a/default-user=s64",
      "userId": "12607333565625535618"
     },
     "user_tz": -330
    },
    "id": "c23zRBIZNIm4",
    "outputId": "83b10535-337c-4c3a-83d9-c05e3f42de61"
   },
   "outputs": [
    {
     "name": "stdout",
     "output_type": "stream",
     "text": [
      "<class 'pandas.core.frame.DataFrame'>\n",
      "RangeIndex: 30000 entries, 0 to 29999\n",
      "Data columns (total 3 columns):\n",
      " #   Column            Non-Null Count  Dtype \n",
      "---  ------            --------------  ----- \n",
      " 0   id                30000 non-null  object\n",
      " 1   reviews_username  29937 non-null  object\n",
      " 2   reviews_rating    30000 non-null  int64 \n",
      "dtypes: int64(1), object(2)\n",
      "memory usage: 703.2+ KB\n"
     ]
    }
   ],
   "source": [
    "df.info()"
   ]
  },
  {
   "cell_type": "code",
   "execution_count": 9,
   "metadata": {
    "colab": {
     "base_uri": "https://localhost:8080/",
     "height": 204
    },
    "executionInfo": {
     "elapsed": 7,
     "status": "ok",
     "timestamp": 1631270757099,
     "user": {
      "displayName": "Shilpa Garg",
      "photoUrl": "https://lh3.googleusercontent.com/a/default-user=s64",
      "userId": "12607333565625535618"
     },
     "user_tz": -330
    },
    "id": "oty7k7mCNKPP",
    "outputId": "312c61d9-7be6-40bf-b153-f867c5158ffc"
   },
   "outputs": [
    {
     "data": {
      "text/html": [
       "<div>\n",
       "<style scoped>\n",
       "    .dataframe tbody tr th:only-of-type {\n",
       "        vertical-align: middle;\n",
       "    }\n",
       "\n",
       "    .dataframe tbody tr th {\n",
       "        vertical-align: top;\n",
       "    }\n",
       "\n",
       "    .dataframe thead th {\n",
       "        text-align: right;\n",
       "    }\n",
       "</style>\n",
       "<table border=\"1\" class=\"dataframe\">\n",
       "  <thead>\n",
       "    <tr style=\"text-align: right;\">\n",
       "      <th></th>\n",
       "      <th>id</th>\n",
       "      <th>reviews_username</th>\n",
       "      <th>reviews_rating</th>\n",
       "    </tr>\n",
       "  </thead>\n",
       "  <tbody>\n",
       "    <tr>\n",
       "      <th>0</th>\n",
       "      <td>AV13O1A8GV-KLJ3akUyj</td>\n",
       "      <td>joshua</td>\n",
       "      <td>5</td>\n",
       "    </tr>\n",
       "    <tr>\n",
       "      <th>1</th>\n",
       "      <td>AV14LG0R-jtxr-f38QfS</td>\n",
       "      <td>dorothy w</td>\n",
       "      <td>5</td>\n",
       "    </tr>\n",
       "    <tr>\n",
       "      <th>2</th>\n",
       "      <td>AV14LG0R-jtxr-f38QfS</td>\n",
       "      <td>dorothy w</td>\n",
       "      <td>5</td>\n",
       "    </tr>\n",
       "    <tr>\n",
       "      <th>3</th>\n",
       "      <td>AV16khLE-jtxr-f38VFn</td>\n",
       "      <td>rebecca</td>\n",
       "      <td>1</td>\n",
       "    </tr>\n",
       "    <tr>\n",
       "      <th>4</th>\n",
       "      <td>AV16khLE-jtxr-f38VFn</td>\n",
       "      <td>walker557</td>\n",
       "      <td>1</td>\n",
       "    </tr>\n",
       "  </tbody>\n",
       "</table>\n",
       "</div>"
      ],
      "text/plain": [
       "                     id reviews_username  reviews_rating\n",
       "0  AV13O1A8GV-KLJ3akUyj           joshua               5\n",
       "1  AV14LG0R-jtxr-f38QfS        dorothy w               5\n",
       "2  AV14LG0R-jtxr-f38QfS        dorothy w               5\n",
       "3  AV16khLE-jtxr-f38VFn          rebecca               1\n",
       "4  AV16khLE-jtxr-f38VFn        walker557               1"
      ]
     },
     "execution_count": 9,
     "metadata": {},
     "output_type": "execute_result"
    }
   ],
   "source": [
    "df.head()"
   ]
  },
  {
   "cell_type": "code",
   "execution_count": 10,
   "metadata": {
    "colab": {
     "base_uri": "https://localhost:8080/"
    },
    "executionInfo": {
     "elapsed": 6,
     "status": "ok",
     "timestamp": 1631270757659,
     "user": {
      "displayName": "Shilpa Garg",
      "photoUrl": "https://lh3.googleusercontent.com/a/default-user=s64",
      "userId": "12607333565625535618"
     },
     "user_tz": -330
    },
    "id": "h9bBccYJNK-V",
    "outputId": "f21677f6-1c12-4fff-9884-a59c810ccce6"
   },
   "outputs": [
    {
     "data": {
      "text/plain": [
       "271"
      ]
     },
     "execution_count": 10,
     "metadata": {},
     "output_type": "execute_result"
    }
   ],
   "source": [
    "df.id.nunique()"
   ]
  },
  {
   "cell_type": "code",
   "execution_count": 11,
   "metadata": {
    "colab": {
     "base_uri": "https://localhost:8080/"
    },
    "executionInfo": {
     "elapsed": 5,
     "status": "ok",
     "timestamp": 1631270758271,
     "user": {
      "displayName": "Shilpa Garg",
      "photoUrl": "https://lh3.googleusercontent.com/a/default-user=s64",
      "userId": "12607333565625535618"
     },
     "user_tz": -330
    },
    "id": "wv3Kdxm-NS4E",
    "outputId": "103f1891-eae9-4d50-8dd3-82443ace042c"
   },
   "outputs": [
    {
     "data": {
      "text/plain": [
       "24914"
      ]
     },
     "execution_count": 11,
     "metadata": {},
     "output_type": "execute_result"
    }
   ],
   "source": [
    "df.reviews_username.nunique()"
   ]
  },
  {
   "cell_type": "code",
   "execution_count": 12,
   "metadata": {
    "executionInfo": {
     "elapsed": 4,
     "status": "ok",
     "timestamp": 1631270758861,
     "user": {
      "displayName": "Shilpa Garg",
      "photoUrl": "https://lh3.googleusercontent.com/a/default-user=s64",
      "userId": "12607333565625535618"
     },
     "user_tz": -330
    },
    "id": "2PVg0Z69rYhl"
   },
   "outputs": [],
   "source": [
    "df_user = df.dropna()"
   ]
  },
  {
   "cell_type": "code",
   "execution_count": 13,
   "metadata": {
    "colab": {
     "base_uri": "https://localhost:8080/"
    },
    "executionInfo": {
     "elapsed": 22,
     "status": "ok",
     "timestamp": 1631270759526,
     "user": {
      "displayName": "Shilpa Garg",
      "photoUrl": "https://lh3.googleusercontent.com/a/default-user=s64",
      "userId": "12607333565625535618"
     },
     "user_tz": -330
    },
    "id": "dNaUDyswrzey",
    "outputId": "c6a9a7ec-b4cd-4d64-f694-163b5f53e70d"
   },
   "outputs": [
    {
     "data": {
      "text/plain": [
       "(29937, 3)"
      ]
     },
     "execution_count": 13,
     "metadata": {},
     "output_type": "execute_result"
    }
   ],
   "source": [
    "df_user.shape"
   ]
  },
  {
   "cell_type": "code",
   "execution_count": 14,
   "metadata": {
    "colab": {
     "base_uri": "https://localhost:8080/",
     "height": 419
    },
    "executionInfo": {
     "elapsed": 16,
     "status": "ok",
     "timestamp": 1631270759529,
     "user": {
      "displayName": "Shilpa Garg",
      "photoUrl": "https://lh3.googleusercontent.com/a/default-user=s64",
      "userId": "12607333565625535618"
     },
     "user_tz": -330
    },
    "id": "mOLrQjNwzKr9",
    "outputId": "2d7cf812-113b-4774-8a75-146bdec58ec7"
   },
   "outputs": [
    {
     "data": {
      "text/html": [
       "<div>\n",
       "<style scoped>\n",
       "    .dataframe tbody tr th:only-of-type {\n",
       "        vertical-align: middle;\n",
       "    }\n",
       "\n",
       "    .dataframe tbody tr th {\n",
       "        vertical-align: top;\n",
       "    }\n",
       "\n",
       "    .dataframe thead th {\n",
       "        text-align: right;\n",
       "    }\n",
       "</style>\n",
       "<table border=\"1\" class=\"dataframe\">\n",
       "  <thead>\n",
       "    <tr style=\"text-align: right;\">\n",
       "      <th></th>\n",
       "      <th>id</th>\n",
       "      <th>reviews_username</th>\n",
       "      <th>reviews_rating</th>\n",
       "    </tr>\n",
       "  </thead>\n",
       "  <tbody>\n",
       "    <tr>\n",
       "      <th>2</th>\n",
       "      <td>AV14LG0R-jtxr-f38QfS</td>\n",
       "      <td>dorothy w</td>\n",
       "      <td>5</td>\n",
       "    </tr>\n",
       "    <tr>\n",
       "      <th>12</th>\n",
       "      <td>AV16khLE-jtxr-f38VFn</td>\n",
       "      <td>jds1992</td>\n",
       "      <td>1</td>\n",
       "    </tr>\n",
       "    <tr>\n",
       "      <th>44</th>\n",
       "      <td>AV1h6Gu0glJLPUi8IjA_</td>\n",
       "      <td>solo</td>\n",
       "      <td>4</td>\n",
       "    </tr>\n",
       "    <tr>\n",
       "      <th>79</th>\n",
       "      <td>AV1l8zRZvKc47QAVhnAv</td>\n",
       "      <td>mylifeinheels</td>\n",
       "      <td>3</td>\n",
       "    </tr>\n",
       "    <tr>\n",
       "      <th>90</th>\n",
       "      <td>AV1l8zRZvKc47QAVhnAv</td>\n",
       "      <td>mylifeinheels</td>\n",
       "      <td>3</td>\n",
       "    </tr>\n",
       "    <tr>\n",
       "      <th>...</th>\n",
       "      <td>...</td>\n",
       "      <td>...</td>\n",
       "      <td>...</td>\n",
       "    </tr>\n",
       "    <tr>\n",
       "      <th>29807</th>\n",
       "      <td>AVpfW8y_LJeJML437ySW</td>\n",
       "      <td>joycakes</td>\n",
       "      <td>5</td>\n",
       "    </tr>\n",
       "    <tr>\n",
       "      <th>29827</th>\n",
       "      <td>AVpfW8y_LJeJML437ySW</td>\n",
       "      <td>emily95</td>\n",
       "      <td>5</td>\n",
       "    </tr>\n",
       "    <tr>\n",
       "      <th>29841</th>\n",
       "      <td>AVpfW8y_LJeJML437ySW</td>\n",
       "      <td>brookieboo1994</td>\n",
       "      <td>5</td>\n",
       "    </tr>\n",
       "    <tr>\n",
       "      <th>29921</th>\n",
       "      <td>AVpfW8y_LJeJML437ySW</td>\n",
       "      <td>talmariejohn</td>\n",
       "      <td>5</td>\n",
       "    </tr>\n",
       "    <tr>\n",
       "      <th>29944</th>\n",
       "      <td>AVpfW8y_LJeJML437ySW</td>\n",
       "      <td>filo123</td>\n",
       "      <td>5</td>\n",
       "    </tr>\n",
       "  </tbody>\n",
       "</table>\n",
       "<p>2349 rows × 3 columns</p>\n",
       "</div>"
      ],
      "text/plain": [
       "                         id reviews_username  reviews_rating\n",
       "2      AV14LG0R-jtxr-f38QfS        dorothy w               5\n",
       "12     AV16khLE-jtxr-f38VFn          jds1992               1\n",
       "44     AV1h6Gu0glJLPUi8IjA_             solo               4\n",
       "79     AV1l8zRZvKc47QAVhnAv    mylifeinheels               3\n",
       "90     AV1l8zRZvKc47QAVhnAv    mylifeinheels               3\n",
       "...                     ...              ...             ...\n",
       "29807  AVpfW8y_LJeJML437ySW         joycakes               5\n",
       "29827  AVpfW8y_LJeJML437ySW          emily95               5\n",
       "29841  AVpfW8y_LJeJML437ySW   brookieboo1994               5\n",
       "29921  AVpfW8y_LJeJML437ySW     talmariejohn               5\n",
       "29944  AVpfW8y_LJeJML437ySW          filo123               5\n",
       "\n",
       "[2349 rows x 3 columns]"
      ]
     },
     "execution_count": 14,
     "metadata": {},
     "output_type": "execute_result"
    }
   ],
   "source": [
    "duplicate = df_user[df_user.duplicated(['reviews_username', 'id'])]\n",
    "duplicate"
   ]
  },
  {
   "cell_type": "code",
   "execution_count": 15,
   "metadata": {
    "colab": {
     "base_uri": "https://localhost:8080/",
     "height": 419
    },
    "executionInfo": {
     "elapsed": 6,
     "status": "ok",
     "timestamp": 1631270759905,
     "user": {
      "displayName": "Shilpa Garg",
      "photoUrl": "https://lh3.googleusercontent.com/a/default-user=s64",
      "userId": "12607333565625535618"
     },
     "user_tz": -330
    },
    "id": "FH42GtvozPmg",
    "outputId": "89faa16f-4e13-4cdd-c75d-12f0892f2d42"
   },
   "outputs": [
    {
     "data": {
      "text/html": [
       "<div>\n",
       "<style scoped>\n",
       "    .dataframe tbody tr th:only-of-type {\n",
       "        vertical-align: middle;\n",
       "    }\n",
       "\n",
       "    .dataframe tbody tr th {\n",
       "        vertical-align: top;\n",
       "    }\n",
       "\n",
       "    .dataframe thead th {\n",
       "        text-align: right;\n",
       "    }\n",
       "</style>\n",
       "<table border=\"1\" class=\"dataframe\">\n",
       "  <thead>\n",
       "    <tr style=\"text-align: right;\">\n",
       "      <th></th>\n",
       "      <th>id</th>\n",
       "      <th>reviews_username</th>\n",
       "      <th>reviews_rating</th>\n",
       "    </tr>\n",
       "  </thead>\n",
       "  <tbody>\n",
       "    <tr>\n",
       "      <th>2</th>\n",
       "      <td>AV14LG0R-jtxr-f38QfS</td>\n",
       "      <td>dorothy w</td>\n",
       "      <td>5</td>\n",
       "    </tr>\n",
       "    <tr>\n",
       "      <th>12</th>\n",
       "      <td>AV16khLE-jtxr-f38VFn</td>\n",
       "      <td>jds1992</td>\n",
       "      <td>1</td>\n",
       "    </tr>\n",
       "    <tr>\n",
       "      <th>44</th>\n",
       "      <td>AV1h6Gu0glJLPUi8IjA_</td>\n",
       "      <td>solo</td>\n",
       "      <td>4</td>\n",
       "    </tr>\n",
       "    <tr>\n",
       "      <th>79</th>\n",
       "      <td>AV1l8zRZvKc47QAVhnAv</td>\n",
       "      <td>mylifeinheels</td>\n",
       "      <td>3</td>\n",
       "    </tr>\n",
       "    <tr>\n",
       "      <th>90</th>\n",
       "      <td>AV1l8zRZvKc47QAVhnAv</td>\n",
       "      <td>mylifeinheels</td>\n",
       "      <td>3</td>\n",
       "    </tr>\n",
       "    <tr>\n",
       "      <th>...</th>\n",
       "      <td>...</td>\n",
       "      <td>...</td>\n",
       "      <td>...</td>\n",
       "    </tr>\n",
       "    <tr>\n",
       "      <th>29807</th>\n",
       "      <td>AVpfW8y_LJeJML437ySW</td>\n",
       "      <td>joycakes</td>\n",
       "      <td>5</td>\n",
       "    </tr>\n",
       "    <tr>\n",
       "      <th>29827</th>\n",
       "      <td>AVpfW8y_LJeJML437ySW</td>\n",
       "      <td>emily95</td>\n",
       "      <td>5</td>\n",
       "    </tr>\n",
       "    <tr>\n",
       "      <th>29841</th>\n",
       "      <td>AVpfW8y_LJeJML437ySW</td>\n",
       "      <td>brookieboo1994</td>\n",
       "      <td>5</td>\n",
       "    </tr>\n",
       "    <tr>\n",
       "      <th>29921</th>\n",
       "      <td>AVpfW8y_LJeJML437ySW</td>\n",
       "      <td>talmariejohn</td>\n",
       "      <td>5</td>\n",
       "    </tr>\n",
       "    <tr>\n",
       "      <th>29944</th>\n",
       "      <td>AVpfW8y_LJeJML437ySW</td>\n",
       "      <td>filo123</td>\n",
       "      <td>5</td>\n",
       "    </tr>\n",
       "  </tbody>\n",
       "</table>\n",
       "<p>2198 rows × 3 columns</p>\n",
       "</div>"
      ],
      "text/plain": [
       "                         id reviews_username  reviews_rating\n",
       "2      AV14LG0R-jtxr-f38QfS        dorothy w               5\n",
       "12     AV16khLE-jtxr-f38VFn          jds1992               1\n",
       "44     AV1h6Gu0glJLPUi8IjA_             solo               4\n",
       "79     AV1l8zRZvKc47QAVhnAv    mylifeinheels               3\n",
       "90     AV1l8zRZvKc47QAVhnAv    mylifeinheels               3\n",
       "...                     ...              ...             ...\n",
       "29807  AVpfW8y_LJeJML437ySW         joycakes               5\n",
       "29827  AVpfW8y_LJeJML437ySW          emily95               5\n",
       "29841  AVpfW8y_LJeJML437ySW   brookieboo1994               5\n",
       "29921  AVpfW8y_LJeJML437ySW     talmariejohn               5\n",
       "29944  AVpfW8y_LJeJML437ySW          filo123               5\n",
       "\n",
       "[2198 rows x 3 columns]"
      ]
     },
     "execution_count": 15,
     "metadata": {},
     "output_type": "execute_result"
    }
   ],
   "source": [
    "duplicate = df_user[df_user.duplicated()]\n",
    "duplicate"
   ]
  },
  {
   "cell_type": "code",
   "execution_count": 16,
   "metadata": {
    "colab": {
     "base_uri": "https://localhost:8080/",
     "height": 111
    },
    "executionInfo": {
     "elapsed": 5,
     "status": "ok",
     "timestamp": 1631270760351,
     "user": {
      "displayName": "Shilpa Garg",
      "photoUrl": "https://lh3.googleusercontent.com/a/default-user=s64",
      "userId": "12607333565625535618"
     },
     "user_tz": -330
    },
    "id": "53IqEfZRZqw_",
    "outputId": "f2bed8cd-31f0-4e1a-ef95-d6065f3af85e"
   },
   "outputs": [
    {
     "data": {
      "text/html": [
       "<div>\n",
       "<style scoped>\n",
       "    .dataframe tbody tr th:only-of-type {\n",
       "        vertical-align: middle;\n",
       "    }\n",
       "\n",
       "    .dataframe tbody tr th {\n",
       "        vertical-align: top;\n",
       "    }\n",
       "\n",
       "    .dataframe thead th {\n",
       "        text-align: right;\n",
       "    }\n",
       "</style>\n",
       "<table border=\"1\" class=\"dataframe\">\n",
       "  <thead>\n",
       "    <tr style=\"text-align: right;\">\n",
       "      <th></th>\n",
       "      <th>id</th>\n",
       "      <th>reviews_username</th>\n",
       "      <th>reviews_rating</th>\n",
       "    </tr>\n",
       "  </thead>\n",
       "  <tbody>\n",
       "    <tr>\n",
       "      <th>695</th>\n",
       "      <td>AV1YGDqsGV-KLJ3adc-O</td>\n",
       "      <td>laura</td>\n",
       "      <td>1</td>\n",
       "    </tr>\n",
       "    <tr>\n",
       "      <th>746</th>\n",
       "      <td>AV1YGDqsGV-KLJ3adc-O</td>\n",
       "      <td>laura</td>\n",
       "      <td>2</td>\n",
       "    </tr>\n",
       "  </tbody>\n",
       "</table>\n",
       "</div>"
      ],
      "text/plain": [
       "                       id reviews_username  reviews_rating\n",
       "695  AV1YGDqsGV-KLJ3adc-O            laura               1\n",
       "746  AV1YGDqsGV-KLJ3adc-O            laura               2"
      ]
     },
     "execution_count": 16,
     "metadata": {},
     "output_type": "execute_result"
    }
   ],
   "source": [
    "# Extract duplicate rows\n",
    "df_user[(df_user['id']=='AV1YGDqsGV-KLJ3adc-O') & (df_user['reviews_username']=='laura')]        "
   ]
  },
  {
   "cell_type": "code",
   "execution_count": 17,
   "metadata": {
    "colab": {
     "base_uri": "https://localhost:8080/"
    },
    "executionInfo": {
     "elapsed": 8,
     "status": "ok",
     "timestamp": 1631270760943,
     "user": {
      "displayName": "Shilpa Garg",
      "photoUrl": "https://lh3.googleusercontent.com/a/default-user=s64",
      "userId": "12607333565625535618"
     },
     "user_tz": -330
    },
    "id": "KyowvOqo0khJ",
    "outputId": "c6ad6201-55ca-44ea-83a6-237b7d798dbc"
   },
   "outputs": [
    {
     "name": "stderr",
     "output_type": "stream",
     "text": [
      "<ipython-input-17-25316b5d7dec>:2: SettingWithCopyWarning: \n",
      "A value is trying to be set on a copy of a slice from a DataFrame\n",
      "\n",
      "See the caveats in the documentation: https://pandas.pydata.org/pandas-docs/stable/user_guide/indexing.html#returning-a-view-versus-a-copy\n",
      "  df_user.drop_duplicates(keep = 'first', inplace = True)\n"
     ]
    }
   ],
   "source": [
    "# dropping ALL duplicate values\n",
    "df_user.drop_duplicates(keep = 'first', inplace = True)"
   ]
  },
  {
   "cell_type": "code",
   "execution_count": 18,
   "metadata": {
    "colab": {
     "base_uri": "https://localhost:8080/"
    },
    "executionInfo": {
     "elapsed": 5,
     "status": "ok",
     "timestamp": 1631270761562,
     "user": {
      "displayName": "Shilpa Garg",
      "photoUrl": "https://lh3.googleusercontent.com/a/default-user=s64",
      "userId": "12607333565625535618"
     },
     "user_tz": -330
    },
    "id": "HisQW1X36wGh",
    "outputId": "a069a853-57a4-47ae-aa3e-cd6e48f1dbb4"
   },
   "outputs": [
    {
     "data": {
      "text/plain": [
       "(27739, 3)"
      ]
     },
     "execution_count": 18,
     "metadata": {},
     "output_type": "execute_result"
    }
   ],
   "source": [
    "df_user.shape"
   ]
  },
  {
   "cell_type": "code",
   "execution_count": 19,
   "metadata": {
    "colab": {
     "base_uri": "https://localhost:8080/",
     "height": 419
    },
    "executionInfo": {
     "elapsed": 6,
     "status": "ok",
     "timestamp": 1631270762176,
     "user": {
      "displayName": "Shilpa Garg",
      "photoUrl": "https://lh3.googleusercontent.com/a/default-user=s64",
      "userId": "12607333565625535618"
     },
     "user_tz": -330
    },
    "id": "cXxGQKjhzdxY",
    "outputId": "f08ac7ee-1e4b-4ab7-db80-1d95cfaf7d7b"
   },
   "outputs": [
    {
     "data": {
      "text/html": [
       "<div>\n",
       "<style scoped>\n",
       "    .dataframe tbody tr th:only-of-type {\n",
       "        vertical-align: middle;\n",
       "    }\n",
       "\n",
       "    .dataframe tbody tr th {\n",
       "        vertical-align: top;\n",
       "    }\n",
       "\n",
       "    .dataframe thead th {\n",
       "        text-align: right;\n",
       "    }\n",
       "</style>\n",
       "<table border=\"1\" class=\"dataframe\">\n",
       "  <thead>\n",
       "    <tr style=\"text-align: right;\">\n",
       "      <th></th>\n",
       "      <th>id</th>\n",
       "      <th>reviews_username</th>\n",
       "      <th>reviews_rating</th>\n",
       "    </tr>\n",
       "  </thead>\n",
       "  <tbody>\n",
       "    <tr>\n",
       "      <th>746</th>\n",
       "      <td>AV1YGDqsGV-KLJ3adc-O</td>\n",
       "      <td>laura</td>\n",
       "      <td>2</td>\n",
       "    </tr>\n",
       "    <tr>\n",
       "      <th>905</th>\n",
       "      <td>AV1YGDqsGV-KLJ3adc-O</td>\n",
       "      <td>suri</td>\n",
       "      <td>5</td>\n",
       "    </tr>\n",
       "    <tr>\n",
       "      <th>1705</th>\n",
       "      <td>AVpe31o71cnluZ0-YrSD</td>\n",
       "      <td>chris</td>\n",
       "      <td>5</td>\n",
       "    </tr>\n",
       "    <tr>\n",
       "      <th>1884</th>\n",
       "      <td>AVpe41TqilAPnD_xQH3d</td>\n",
       "      <td>steve</td>\n",
       "      <td>3</td>\n",
       "    </tr>\n",
       "    <tr>\n",
       "      <th>1922</th>\n",
       "      <td>AVpe41TqilAPnD_xQH3d</td>\n",
       "      <td>james</td>\n",
       "      <td>4</td>\n",
       "    </tr>\n",
       "    <tr>\n",
       "      <th>...</th>\n",
       "      <td>...</td>\n",
       "      <td>...</td>\n",
       "      <td>...</td>\n",
       "    </tr>\n",
       "    <tr>\n",
       "      <th>28150</th>\n",
       "      <td>AVpfRTh1ilAPnD_xYic2</td>\n",
       "      <td>dusty</td>\n",
       "      <td>5</td>\n",
       "    </tr>\n",
       "    <tr>\n",
       "      <th>28158</th>\n",
       "      <td>AVpfRTh1ilAPnD_xYic2</td>\n",
       "      <td>tony</td>\n",
       "      <td>5</td>\n",
       "    </tr>\n",
       "    <tr>\n",
       "      <th>28269</th>\n",
       "      <td>AVpfRTh1ilAPnD_xYic2</td>\n",
       "      <td>melbournesandy</td>\n",
       "      <td>5</td>\n",
       "    </tr>\n",
       "    <tr>\n",
       "      <th>28354</th>\n",
       "      <td>AVpfRTh1ilAPnD_xYic2</td>\n",
       "      <td>7.87E+11</td>\n",
       "      <td>5</td>\n",
       "    </tr>\n",
       "    <tr>\n",
       "      <th>28657</th>\n",
       "      <td>AVpftikC1cnluZ0-p31V</td>\n",
       "      <td>lzinzow</td>\n",
       "      <td>5</td>\n",
       "    </tr>\n",
       "  </tbody>\n",
       "</table>\n",
       "<p>151 rows × 3 columns</p>\n",
       "</div>"
      ],
      "text/plain": [
       "                         id reviews_username  reviews_rating\n",
       "746    AV1YGDqsGV-KLJ3adc-O            laura               2\n",
       "905    AV1YGDqsGV-KLJ3adc-O             suri               5\n",
       "1705   AVpe31o71cnluZ0-YrSD            chris               5\n",
       "1884   AVpe41TqilAPnD_xQH3d            steve               3\n",
       "1922   AVpe41TqilAPnD_xQH3d            james               4\n",
       "...                     ...              ...             ...\n",
       "28150  AVpfRTh1ilAPnD_xYic2            dusty               5\n",
       "28158  AVpfRTh1ilAPnD_xYic2             tony               5\n",
       "28269  AVpfRTh1ilAPnD_xYic2   melbournesandy               5\n",
       "28354  AVpfRTh1ilAPnD_xYic2         7.87E+11               5\n",
       "28657  AVpftikC1cnluZ0-p31V          lzinzow               5\n",
       "\n",
       "[151 rows x 3 columns]"
      ]
     },
     "execution_count": 19,
     "metadata": {},
     "output_type": "execute_result"
    }
   ],
   "source": [
    "#Getting rows where same user provided different ratings for smae item.\n",
    "duplicate = df_user[df_user.duplicated(['reviews_username', 'id'])]\n",
    "duplicate"
   ]
  },
  {
   "cell_type": "code",
   "execution_count": 20,
   "metadata": {
    "executionInfo": {
     "elapsed": 3,
     "status": "ok",
     "timestamp": 1631270762669,
     "user": {
      "displayName": "Shilpa Garg",
      "photoUrl": "https://lh3.googleusercontent.com/a/default-user=s64",
      "userId": "12607333565625535618"
     },
     "user_tz": -330
    },
    "id": "aDzcgzOodqtD"
   },
   "outputs": [],
   "source": [
    "#Taking mean of different ratings provided by user for same item\n",
    "df2 = df_user.groupby(['id','reviews_username']).mean().reset_index()"
   ]
  },
  {
   "cell_type": "code",
   "execution_count": 21,
   "metadata": {
    "colab": {
     "base_uri": "https://localhost:8080/",
     "height": 80
    },
    "executionInfo": {
     "elapsed": 659,
     "status": "ok",
     "timestamp": 1631270763326,
     "user": {
      "displayName": "Shilpa Garg",
      "photoUrl": "https://lh3.googleusercontent.com/a/default-user=s64",
      "userId": "12607333565625535618"
     },
     "user_tz": -330
    },
    "id": "VsBFjpf5d7X7",
    "outputId": "ca709003-b87a-4e4a-9ff0-c6bb698ae351"
   },
   "outputs": [
    {
     "data": {
      "text/html": [
       "<div>\n",
       "<style scoped>\n",
       "    .dataframe tbody tr th:only-of-type {\n",
       "        vertical-align: middle;\n",
       "    }\n",
       "\n",
       "    .dataframe tbody tr th {\n",
       "        vertical-align: top;\n",
       "    }\n",
       "\n",
       "    .dataframe thead th {\n",
       "        text-align: right;\n",
       "    }\n",
       "</style>\n",
       "<table border=\"1\" class=\"dataframe\">\n",
       "  <thead>\n",
       "    <tr style=\"text-align: right;\">\n",
       "      <th></th>\n",
       "      <th>id</th>\n",
       "      <th>reviews_username</th>\n",
       "      <th>reviews_rating</th>\n",
       "    </tr>\n",
       "  </thead>\n",
       "  <tbody>\n",
       "    <tr>\n",
       "      <th>187</th>\n",
       "      <td>AV1YGDqsGV-KLJ3adc-O</td>\n",
       "      <td>laura</td>\n",
       "      <td>1.5</td>\n",
       "    </tr>\n",
       "  </tbody>\n",
       "</table>\n",
       "</div>"
      ],
      "text/plain": [
       "                       id reviews_username  reviews_rating\n",
       "187  AV1YGDqsGV-KLJ3adc-O            laura             1.5"
      ]
     },
     "execution_count": 21,
     "metadata": {},
     "output_type": "execute_result"
    }
   ],
   "source": [
    "df2[(df2['id']=='AV1YGDqsGV-KLJ3adc-O') & (df2['reviews_username']=='laura')]  "
   ]
  },
  {
   "cell_type": "code",
   "execution_count": 22,
   "metadata": {
    "colab": {
     "base_uri": "https://localhost:8080/",
     "height": 221
    },
    "executionInfo": {
     "elapsed": 14,
     "status": "ok",
     "timestamp": 1631270763328,
     "user": {
      "displayName": "Shilpa Garg",
      "photoUrl": "https://lh3.googleusercontent.com/a/default-user=s64",
      "userId": "12607333565625535618"
     },
     "user_tz": -330
    },
    "id": "sekRVDqyd0nF",
    "outputId": "23494815-d0d3-4fb9-9e8a-f7af806a97d0"
   },
   "outputs": [
    {
     "name": "stdout",
     "output_type": "stream",
     "text": [
      "(27588, 3)\n"
     ]
    },
    {
     "data": {
      "text/html": [
       "<div>\n",
       "<style scoped>\n",
       "    .dataframe tbody tr th:only-of-type {\n",
       "        vertical-align: middle;\n",
       "    }\n",
       "\n",
       "    .dataframe tbody tr th {\n",
       "        vertical-align: top;\n",
       "    }\n",
       "\n",
       "    .dataframe thead th {\n",
       "        text-align: right;\n",
       "    }\n",
       "</style>\n",
       "<table border=\"1\" class=\"dataframe\">\n",
       "  <thead>\n",
       "    <tr style=\"text-align: right;\">\n",
       "      <th></th>\n",
       "      <th>id</th>\n",
       "      <th>reviews_username</th>\n",
       "      <th>reviews_rating</th>\n",
       "    </tr>\n",
       "  </thead>\n",
       "  <tbody>\n",
       "    <tr>\n",
       "      <th>0</th>\n",
       "      <td>AV13O1A8GV-KLJ3akUyj</td>\n",
       "      <td>joshua</td>\n",
       "      <td>5.0</td>\n",
       "    </tr>\n",
       "    <tr>\n",
       "      <th>1</th>\n",
       "      <td>AV14LG0R-jtxr-f38QfS</td>\n",
       "      <td>dorothy w</td>\n",
       "      <td>5.0</td>\n",
       "    </tr>\n",
       "    <tr>\n",
       "      <th>2</th>\n",
       "      <td>AV16khLE-jtxr-f38VFn</td>\n",
       "      <td>amanda</td>\n",
       "      <td>5.0</td>\n",
       "    </tr>\n",
       "    <tr>\n",
       "      <th>3</th>\n",
       "      <td>AV16khLE-jtxr-f38VFn</td>\n",
       "      <td>ashley a</td>\n",
       "      <td>5.0</td>\n",
       "    </tr>\n",
       "    <tr>\n",
       "      <th>4</th>\n",
       "      <td>AV16khLE-jtxr-f38VFn</td>\n",
       "      <td>beccagrl532</td>\n",
       "      <td>1.0</td>\n",
       "    </tr>\n",
       "  </tbody>\n",
       "</table>\n",
       "</div>"
      ],
      "text/plain": [
       "                     id reviews_username  reviews_rating\n",
       "0  AV13O1A8GV-KLJ3akUyj           joshua             5.0\n",
       "1  AV14LG0R-jtxr-f38QfS        dorothy w             5.0\n",
       "2  AV16khLE-jtxr-f38VFn           amanda             5.0\n",
       "3  AV16khLE-jtxr-f38VFn         ashley a             5.0\n",
       "4  AV16khLE-jtxr-f38VFn      beccagrl532             1.0"
      ]
     },
     "execution_count": 22,
     "metadata": {},
     "output_type": "execute_result"
    }
   ],
   "source": [
    "print(df2.shape)\n",
    "df2.head()"
   ]
  },
  {
   "cell_type": "code",
   "execution_count": 23,
   "metadata": {
    "colab": {
     "base_uri": "https://localhost:8080/"
    },
    "executionInfo": {
     "elapsed": 19,
     "status": "ok",
     "timestamp": 1631270764602,
     "user": {
      "displayName": "Shilpa Garg",
      "photoUrl": "https://lh3.googleusercontent.com/a/default-user=s64",
      "userId": "12607333565625535618"
     },
     "user_tz": -330
    },
    "id": "BcvJIvfHQOfO",
    "outputId": "c568ac54-5406-4eba-ff68-3aa2c822a349"
   },
   "outputs": [
    {
     "name": "stdout",
     "output_type": "stream",
     "text": [
      "(27588, 3)\n",
      "24914\n",
      "271\n"
     ]
    }
   ],
   "source": [
    "# After removing duplicates\n",
    "print(df2.shape)\n",
    "print(df2.reviews_username.nunique())\n",
    "print(df2.id.nunique())\n"
   ]
  },
  {
   "cell_type": "code",
   "execution_count": 24,
   "metadata": {
    "colab": {
     "base_uri": "https://localhost:8080/",
     "height": 473
    },
    "executionInfo": {
     "elapsed": 646,
     "status": "ok",
     "timestamp": 1631270765239,
     "user": {
      "displayName": "Shilpa Garg",
      "photoUrl": "https://lh3.googleusercontent.com/a/default-user=s64",
      "userId": "12607333565625535618"
     },
     "user_tz": -330
    },
    "id": "JVaySZYFlEMC",
    "outputId": "dbe08ce4-3ca4-4f7b-b99e-3957f795b144"
   },
   "outputs": [
    {
     "data": {
      "text/html": [
       "<div>\n",
       "<style scoped>\n",
       "    .dataframe tbody tr th:only-of-type {\n",
       "        vertical-align: middle;\n",
       "    }\n",
       "\n",
       "    .dataframe tbody tr th {\n",
       "        vertical-align: top;\n",
       "    }\n",
       "\n",
       "    .dataframe thead th {\n",
       "        text-align: right;\n",
       "    }\n",
       "</style>\n",
       "<table border=\"1\" class=\"dataframe\">\n",
       "  <thead>\n",
       "    <tr style=\"text-align: right;\">\n",
       "      <th>id</th>\n",
       "      <th>AV13O1A8GV-KLJ3akUyj</th>\n",
       "      <th>AV14LG0R-jtxr-f38QfS</th>\n",
       "      <th>AV16khLE-jtxr-f38VFn</th>\n",
       "      <th>AV1YGDqsGV-KLJ3adc-O</th>\n",
       "      <th>AV1YIch7GV-KLJ3addeG</th>\n",
       "      <th>AV1YlENIglJLPUi8IHsX</th>\n",
       "      <th>AV1YmBrdGV-KLJ3adewb</th>\n",
       "      <th>AV1YmDL9vKc47QAVgr7_</th>\n",
       "      <th>AV1Ymf_rglJLPUi8II2v</th>\n",
       "      <th>AV1Yn94nvKc47QAVgtst</th>\n",
       "      <th>...</th>\n",
       "      <th>AVpfrfHF1cnluZ0-pRai</th>\n",
       "      <th>AVpfrgjFLJeJML43BvCc</th>\n",
       "      <th>AVpfs0tUilAPnD_xgqN2</th>\n",
       "      <th>AVpfsQoeilAPnD_xgfx5</th>\n",
       "      <th>AVpfshNsLJeJML43CB8q</th>\n",
       "      <th>AVpfthSailAPnD_xg3ON</th>\n",
       "      <th>AVpftikC1cnluZ0-p31V</th>\n",
       "      <th>AVpftymALJeJML43CZ6y</th>\n",
       "      <th>AVpfv4TlilAPnD_xhjNS</th>\n",
       "      <th>AVpfvieo1cnluZ0-qdnu</th>\n",
       "    </tr>\n",
       "    <tr>\n",
       "      <th>reviews_username</th>\n",
       "      <th></th>\n",
       "      <th></th>\n",
       "      <th></th>\n",
       "      <th></th>\n",
       "      <th></th>\n",
       "      <th></th>\n",
       "      <th></th>\n",
       "      <th></th>\n",
       "      <th></th>\n",
       "      <th></th>\n",
       "      <th></th>\n",
       "      <th></th>\n",
       "      <th></th>\n",
       "      <th></th>\n",
       "      <th></th>\n",
       "      <th></th>\n",
       "      <th></th>\n",
       "      <th></th>\n",
       "      <th></th>\n",
       "      <th></th>\n",
       "      <th></th>\n",
       "    </tr>\n",
       "  </thead>\n",
       "  <tbody>\n",
       "    <tr>\n",
       "      <th>00dog3</th>\n",
       "      <td>0.0</td>\n",
       "      <td>0.0</td>\n",
       "      <td>0.0</td>\n",
       "      <td>0.0</td>\n",
       "      <td>0.0</td>\n",
       "      <td>0.0</td>\n",
       "      <td>0.0</td>\n",
       "      <td>0.0</td>\n",
       "      <td>0.0</td>\n",
       "      <td>0.0</td>\n",
       "      <td>...</td>\n",
       "      <td>0.0</td>\n",
       "      <td>0.0</td>\n",
       "      <td>0.0</td>\n",
       "      <td>0.0</td>\n",
       "      <td>0.0</td>\n",
       "      <td>0.0</td>\n",
       "      <td>0.0</td>\n",
       "      <td>0.0</td>\n",
       "      <td>0.0</td>\n",
       "      <td>0.0</td>\n",
       "    </tr>\n",
       "    <tr>\n",
       "      <th>00sab00</th>\n",
       "      <td>0.0</td>\n",
       "      <td>0.0</td>\n",
       "      <td>0.0</td>\n",
       "      <td>0.0</td>\n",
       "      <td>0.0</td>\n",
       "      <td>0.0</td>\n",
       "      <td>0.0</td>\n",
       "      <td>0.0</td>\n",
       "      <td>0.0</td>\n",
       "      <td>0.0</td>\n",
       "      <td>...</td>\n",
       "      <td>0.0</td>\n",
       "      <td>0.0</td>\n",
       "      <td>0.0</td>\n",
       "      <td>0.0</td>\n",
       "      <td>0.0</td>\n",
       "      <td>0.0</td>\n",
       "      <td>0.0</td>\n",
       "      <td>0.0</td>\n",
       "      <td>0.0</td>\n",
       "      <td>0.0</td>\n",
       "    </tr>\n",
       "    <tr>\n",
       "      <th>01impala</th>\n",
       "      <td>0.0</td>\n",
       "      <td>0.0</td>\n",
       "      <td>0.0</td>\n",
       "      <td>0.0</td>\n",
       "      <td>0.0</td>\n",
       "      <td>0.0</td>\n",
       "      <td>0.0</td>\n",
       "      <td>0.0</td>\n",
       "      <td>0.0</td>\n",
       "      <td>0.0</td>\n",
       "      <td>...</td>\n",
       "      <td>0.0</td>\n",
       "      <td>0.0</td>\n",
       "      <td>0.0</td>\n",
       "      <td>0.0</td>\n",
       "      <td>0.0</td>\n",
       "      <td>0.0</td>\n",
       "      <td>0.0</td>\n",
       "      <td>0.0</td>\n",
       "      <td>0.0</td>\n",
       "      <td>0.0</td>\n",
       "    </tr>\n",
       "    <tr>\n",
       "      <th>02dakota</th>\n",
       "      <td>0.0</td>\n",
       "      <td>0.0</td>\n",
       "      <td>0.0</td>\n",
       "      <td>0.0</td>\n",
       "      <td>0.0</td>\n",
       "      <td>0.0</td>\n",
       "      <td>0.0</td>\n",
       "      <td>0.0</td>\n",
       "      <td>0.0</td>\n",
       "      <td>0.0</td>\n",
       "      <td>...</td>\n",
       "      <td>0.0</td>\n",
       "      <td>0.0</td>\n",
       "      <td>0.0</td>\n",
       "      <td>0.0</td>\n",
       "      <td>0.0</td>\n",
       "      <td>0.0</td>\n",
       "      <td>0.0</td>\n",
       "      <td>0.0</td>\n",
       "      <td>0.0</td>\n",
       "      <td>0.0</td>\n",
       "    </tr>\n",
       "    <tr>\n",
       "      <th>02deuce</th>\n",
       "      <td>0.0</td>\n",
       "      <td>0.0</td>\n",
       "      <td>0.0</td>\n",
       "      <td>0.0</td>\n",
       "      <td>0.0</td>\n",
       "      <td>0.0</td>\n",
       "      <td>0.0</td>\n",
       "      <td>0.0</td>\n",
       "      <td>0.0</td>\n",
       "      <td>0.0</td>\n",
       "      <td>...</td>\n",
       "      <td>0.0</td>\n",
       "      <td>0.0</td>\n",
       "      <td>0.0</td>\n",
       "      <td>0.0</td>\n",
       "      <td>0.0</td>\n",
       "      <td>0.0</td>\n",
       "      <td>0.0</td>\n",
       "      <td>0.0</td>\n",
       "      <td>0.0</td>\n",
       "      <td>0.0</td>\n",
       "    </tr>\n",
       "    <tr>\n",
       "      <th>0325home</th>\n",
       "      <td>0.0</td>\n",
       "      <td>0.0</td>\n",
       "      <td>0.0</td>\n",
       "      <td>0.0</td>\n",
       "      <td>0.0</td>\n",
       "      <td>0.0</td>\n",
       "      <td>0.0</td>\n",
       "      <td>0.0</td>\n",
       "      <td>0.0</td>\n",
       "      <td>0.0</td>\n",
       "      <td>...</td>\n",
       "      <td>0.0</td>\n",
       "      <td>0.0</td>\n",
       "      <td>0.0</td>\n",
       "      <td>0.0</td>\n",
       "      <td>0.0</td>\n",
       "      <td>0.0</td>\n",
       "      <td>0.0</td>\n",
       "      <td>0.0</td>\n",
       "      <td>0.0</td>\n",
       "      <td>0.0</td>\n",
       "    </tr>\n",
       "    <tr>\n",
       "      <th>06stidriver</th>\n",
       "      <td>0.0</td>\n",
       "      <td>0.0</td>\n",
       "      <td>0.0</td>\n",
       "      <td>0.0</td>\n",
       "      <td>0.0</td>\n",
       "      <td>0.0</td>\n",
       "      <td>0.0</td>\n",
       "      <td>0.0</td>\n",
       "      <td>0.0</td>\n",
       "      <td>0.0</td>\n",
       "      <td>...</td>\n",
       "      <td>0.0</td>\n",
       "      <td>0.0</td>\n",
       "      <td>0.0</td>\n",
       "      <td>0.0</td>\n",
       "      <td>0.0</td>\n",
       "      <td>0.0</td>\n",
       "      <td>0.0</td>\n",
       "      <td>0.0</td>\n",
       "      <td>0.0</td>\n",
       "      <td>0.0</td>\n",
       "    </tr>\n",
       "    <tr>\n",
       "      <th>08dallas</th>\n",
       "      <td>0.0</td>\n",
       "      <td>0.0</td>\n",
       "      <td>0.0</td>\n",
       "      <td>0.0</td>\n",
       "      <td>0.0</td>\n",
       "      <td>0.0</td>\n",
       "      <td>0.0</td>\n",
       "      <td>0.0</td>\n",
       "      <td>0.0</td>\n",
       "      <td>0.0</td>\n",
       "      <td>...</td>\n",
       "      <td>0.0</td>\n",
       "      <td>0.0</td>\n",
       "      <td>0.0</td>\n",
       "      <td>0.0</td>\n",
       "      <td>0.0</td>\n",
       "      <td>0.0</td>\n",
       "      <td>0.0</td>\n",
       "      <td>0.0</td>\n",
       "      <td>0.0</td>\n",
       "      <td>0.0</td>\n",
       "    </tr>\n",
       "    <tr>\n",
       "      <th>09mommy11</th>\n",
       "      <td>0.0</td>\n",
       "      <td>0.0</td>\n",
       "      <td>0.0</td>\n",
       "      <td>0.0</td>\n",
       "      <td>0.0</td>\n",
       "      <td>0.0</td>\n",
       "      <td>0.0</td>\n",
       "      <td>0.0</td>\n",
       "      <td>0.0</td>\n",
       "      <td>0.0</td>\n",
       "      <td>...</td>\n",
       "      <td>0.0</td>\n",
       "      <td>0.0</td>\n",
       "      <td>0.0</td>\n",
       "      <td>0.0</td>\n",
       "      <td>0.0</td>\n",
       "      <td>0.0</td>\n",
       "      <td>0.0</td>\n",
       "      <td>0.0</td>\n",
       "      <td>0.0</td>\n",
       "      <td>0.0</td>\n",
       "    </tr>\n",
       "    <tr>\n",
       "      <th>1.11E+24</th>\n",
       "      <td>0.0</td>\n",
       "      <td>0.0</td>\n",
       "      <td>0.0</td>\n",
       "      <td>0.0</td>\n",
       "      <td>0.0</td>\n",
       "      <td>0.0</td>\n",
       "      <td>0.0</td>\n",
       "      <td>0.0</td>\n",
       "      <td>0.0</td>\n",
       "      <td>0.0</td>\n",
       "      <td>...</td>\n",
       "      <td>0.0</td>\n",
       "      <td>0.0</td>\n",
       "      <td>0.0</td>\n",
       "      <td>0.0</td>\n",
       "      <td>0.0</td>\n",
       "      <td>0.0</td>\n",
       "      <td>0.0</td>\n",
       "      <td>0.0</td>\n",
       "      <td>0.0</td>\n",
       "      <td>0.0</td>\n",
       "    </tr>\n",
       "  </tbody>\n",
       "</table>\n",
       "<p>10 rows × 271 columns</p>\n",
       "</div>"
      ],
      "text/plain": [
       "id                AV13O1A8GV-KLJ3akUyj  AV14LG0R-jtxr-f38QfS  \\\n",
       "reviews_username                                               \n",
       "00dog3                             0.0                   0.0   \n",
       "00sab00                            0.0                   0.0   \n",
       "01impala                           0.0                   0.0   \n",
       "02dakota                           0.0                   0.0   \n",
       "02deuce                            0.0                   0.0   \n",
       "0325home                           0.0                   0.0   \n",
       "06stidriver                        0.0                   0.0   \n",
       "08dallas                           0.0                   0.0   \n",
       "09mommy11                          0.0                   0.0   \n",
       "1.11E+24                           0.0                   0.0   \n",
       "\n",
       "id                AV16khLE-jtxr-f38VFn  AV1YGDqsGV-KLJ3adc-O  \\\n",
       "reviews_username                                               \n",
       "00dog3                             0.0                   0.0   \n",
       "00sab00                            0.0                   0.0   \n",
       "01impala                           0.0                   0.0   \n",
       "02dakota                           0.0                   0.0   \n",
       "02deuce                            0.0                   0.0   \n",
       "0325home                           0.0                   0.0   \n",
       "06stidriver                        0.0                   0.0   \n",
       "08dallas                           0.0                   0.0   \n",
       "09mommy11                          0.0                   0.0   \n",
       "1.11E+24                           0.0                   0.0   \n",
       "\n",
       "id                AV1YIch7GV-KLJ3addeG  AV1YlENIglJLPUi8IHsX  \\\n",
       "reviews_username                                               \n",
       "00dog3                             0.0                   0.0   \n",
       "00sab00                            0.0                   0.0   \n",
       "01impala                           0.0                   0.0   \n",
       "02dakota                           0.0                   0.0   \n",
       "02deuce                            0.0                   0.0   \n",
       "0325home                           0.0                   0.0   \n",
       "06stidriver                        0.0                   0.0   \n",
       "08dallas                           0.0                   0.0   \n",
       "09mommy11                          0.0                   0.0   \n",
       "1.11E+24                           0.0                   0.0   \n",
       "\n",
       "id                AV1YmBrdGV-KLJ3adewb  AV1YmDL9vKc47QAVgr7_  \\\n",
       "reviews_username                                               \n",
       "00dog3                             0.0                   0.0   \n",
       "00sab00                            0.0                   0.0   \n",
       "01impala                           0.0                   0.0   \n",
       "02dakota                           0.0                   0.0   \n",
       "02deuce                            0.0                   0.0   \n",
       "0325home                           0.0                   0.0   \n",
       "06stidriver                        0.0                   0.0   \n",
       "08dallas                           0.0                   0.0   \n",
       "09mommy11                          0.0                   0.0   \n",
       "1.11E+24                           0.0                   0.0   \n",
       "\n",
       "id                AV1Ymf_rglJLPUi8II2v  AV1Yn94nvKc47QAVgtst  ...  \\\n",
       "reviews_username                                              ...   \n",
       "00dog3                             0.0                   0.0  ...   \n",
       "00sab00                            0.0                   0.0  ...   \n",
       "01impala                           0.0                   0.0  ...   \n",
       "02dakota                           0.0                   0.0  ...   \n",
       "02deuce                            0.0                   0.0  ...   \n",
       "0325home                           0.0                   0.0  ...   \n",
       "06stidriver                        0.0                   0.0  ...   \n",
       "08dallas                           0.0                   0.0  ...   \n",
       "09mommy11                          0.0                   0.0  ...   \n",
       "1.11E+24                           0.0                   0.0  ...   \n",
       "\n",
       "id                AVpfrfHF1cnluZ0-pRai  AVpfrgjFLJeJML43BvCc  \\\n",
       "reviews_username                                               \n",
       "00dog3                             0.0                   0.0   \n",
       "00sab00                            0.0                   0.0   \n",
       "01impala                           0.0                   0.0   \n",
       "02dakota                           0.0                   0.0   \n",
       "02deuce                            0.0                   0.0   \n",
       "0325home                           0.0                   0.0   \n",
       "06stidriver                        0.0                   0.0   \n",
       "08dallas                           0.0                   0.0   \n",
       "09mommy11                          0.0                   0.0   \n",
       "1.11E+24                           0.0                   0.0   \n",
       "\n",
       "id                AVpfs0tUilAPnD_xgqN2  AVpfsQoeilAPnD_xgfx5  \\\n",
       "reviews_username                                               \n",
       "00dog3                             0.0                   0.0   \n",
       "00sab00                            0.0                   0.0   \n",
       "01impala                           0.0                   0.0   \n",
       "02dakota                           0.0                   0.0   \n",
       "02deuce                            0.0                   0.0   \n",
       "0325home                           0.0                   0.0   \n",
       "06stidriver                        0.0                   0.0   \n",
       "08dallas                           0.0                   0.0   \n",
       "09mommy11                          0.0                   0.0   \n",
       "1.11E+24                           0.0                   0.0   \n",
       "\n",
       "id                AVpfshNsLJeJML43CB8q  AVpfthSailAPnD_xg3ON  \\\n",
       "reviews_username                                               \n",
       "00dog3                             0.0                   0.0   \n",
       "00sab00                            0.0                   0.0   \n",
       "01impala                           0.0                   0.0   \n",
       "02dakota                           0.0                   0.0   \n",
       "02deuce                            0.0                   0.0   \n",
       "0325home                           0.0                   0.0   \n",
       "06stidriver                        0.0                   0.0   \n",
       "08dallas                           0.0                   0.0   \n",
       "09mommy11                          0.0                   0.0   \n",
       "1.11E+24                           0.0                   0.0   \n",
       "\n",
       "id                AVpftikC1cnluZ0-p31V  AVpftymALJeJML43CZ6y  \\\n",
       "reviews_username                                               \n",
       "00dog3                             0.0                   0.0   \n",
       "00sab00                            0.0                   0.0   \n",
       "01impala                           0.0                   0.0   \n",
       "02dakota                           0.0                   0.0   \n",
       "02deuce                            0.0                   0.0   \n",
       "0325home                           0.0                   0.0   \n",
       "06stidriver                        0.0                   0.0   \n",
       "08dallas                           0.0                   0.0   \n",
       "09mommy11                          0.0                   0.0   \n",
       "1.11E+24                           0.0                   0.0   \n",
       "\n",
       "id                AVpfv4TlilAPnD_xhjNS  AVpfvieo1cnluZ0-qdnu  \n",
       "reviews_username                                              \n",
       "00dog3                             0.0                   0.0  \n",
       "00sab00                            0.0                   0.0  \n",
       "01impala                           0.0                   0.0  \n",
       "02dakota                           0.0                   0.0  \n",
       "02deuce                            0.0                   0.0  \n",
       "0325home                           0.0                   0.0  \n",
       "06stidriver                        0.0                   0.0  \n",
       "08dallas                           0.0                   0.0  \n",
       "09mommy11                          0.0                   0.0  \n",
       "1.11E+24                           0.0                   0.0  \n",
       "\n",
       "[10 rows x 271 columns]"
      ]
     },
     "execution_count": 24,
     "metadata": {},
     "output_type": "execute_result"
    }
   ],
   "source": [
    "# Pivot the train ratings' dataset into matrix format in which columns are items and the rows are user IDs.\n",
    "df_pivot = df2.pivot(\n",
    "    index='reviews_username',\n",
    "    columns='id',\n",
    "    values='reviews_rating'\n",
    ").fillna(0)\n",
    "\n",
    "df_pivot.head(10)"
   ]
  },
  {
   "cell_type": "code",
   "execution_count": 25,
   "metadata": {
    "colab": {
     "base_uri": "https://localhost:8080/"
    },
    "executionInfo": {
     "elapsed": 362,
     "status": "ok",
     "timestamp": 1631270790917,
     "user": {
      "displayName": "Shilpa Garg",
      "photoUrl": "https://lh3.googleusercontent.com/a/default-user=s64",
      "userId": "12607333565625535618"
     },
     "user_tz": -330
    },
    "id": "rPuE1aMV9NJX",
    "outputId": "89530ac8-c82c-4d36-affa-929ec2678cab"
   },
   "outputs": [
    {
     "name": "stdout",
     "output_type": "stream",
     "text": [
      "(24914, 271)\n"
     ]
    }
   ],
   "source": [
    "print(df_pivot.shape)"
   ]
  },
  {
   "cell_type": "code",
   "execution_count": 26,
   "metadata": {
    "executionInfo": {
     "elapsed": 374,
     "status": "ok",
     "timestamp": 1631272283351,
     "user": {
      "displayName": "Shilpa Garg",
      "photoUrl": "https://lh3.googleusercontent.com/a/default-user=s64",
      "userId": "12607333565625535618"
     },
     "user_tz": -330
    },
    "id": "td5p80mylTbh"
   },
   "outputs": [],
   "source": [
    "# Copy the train dataset into dummy_train\n",
    "dummy_df = df2.copy()"
   ]
  },
  {
   "cell_type": "code",
   "execution_count": 27,
   "metadata": {
    "executionInfo": {
     "elapsed": 16,
     "status": "ok",
     "timestamp": 1631272284657,
     "user": {
      "displayName": "Shilpa Garg",
      "photoUrl": "https://lh3.googleusercontent.com/a/default-user=s64",
      "userId": "12607333565625535618"
     },
     "user_tz": -330
    },
    "id": "hV56yaQb8eRX"
   },
   "outputs": [],
   "source": [
    "# The items not rated by user is marked as 1 for prediction. \n",
    "dummy_df['reviews_rating'] = dummy_df['reviews_rating'].apply(lambda x: 0 if x>=1 else 1)"
   ]
  },
  {
   "cell_type": "code",
   "execution_count": 28,
   "metadata": {
    "executionInfo": {
     "elapsed": 357,
     "status": "ok",
     "timestamp": 1631272287186,
     "user": {
      "displayName": "Shilpa Garg",
      "photoUrl": "https://lh3.googleusercontent.com/a/default-user=s64",
      "userId": "12607333565625535618"
     },
     "user_tz": -330
    },
    "id": "yxG6nmCOQGEY"
   },
   "outputs": [],
   "source": [
    "# Convert the dummy train dataset into matrix format.\n",
    "dummy_df = dummy_df.pivot(\n",
    "    index='reviews_username',\n",
    "    columns='id',\n",
    "    values='reviews_rating'\n",
    ").fillna(1)"
   ]
  },
  {
   "cell_type": "code",
   "execution_count": 29,
   "metadata": {
    "colab": {
     "base_uri": "https://localhost:8080/",
     "height": 318
    },
    "executionInfo": {
     "elapsed": 487,
     "status": "ok",
     "timestamp": 1631272293836,
     "user": {
      "displayName": "Shilpa Garg",
      "photoUrl": "https://lh3.googleusercontent.com/a/default-user=s64",
      "userId": "12607333565625535618"
     },
     "user_tz": -330
    },
    "id": "6syb55coRsDY",
    "outputId": "7a7083e6-4078-465f-cc06-a17ec2b7c6e5"
   },
   "outputs": [
    {
     "data": {
      "text/html": [
       "<div>\n",
       "<style scoped>\n",
       "    .dataframe tbody tr th:only-of-type {\n",
       "        vertical-align: middle;\n",
       "    }\n",
       "\n",
       "    .dataframe tbody tr th {\n",
       "        vertical-align: top;\n",
       "    }\n",
       "\n",
       "    .dataframe thead th {\n",
       "        text-align: right;\n",
       "    }\n",
       "</style>\n",
       "<table border=\"1\" class=\"dataframe\">\n",
       "  <thead>\n",
       "    <tr style=\"text-align: right;\">\n",
       "      <th>id</th>\n",
       "      <th>AV13O1A8GV-KLJ3akUyj</th>\n",
       "      <th>AV14LG0R-jtxr-f38QfS</th>\n",
       "      <th>AV16khLE-jtxr-f38VFn</th>\n",
       "      <th>AV1YGDqsGV-KLJ3adc-O</th>\n",
       "      <th>AV1YIch7GV-KLJ3addeG</th>\n",
       "      <th>AV1YlENIglJLPUi8IHsX</th>\n",
       "      <th>AV1YmBrdGV-KLJ3adewb</th>\n",
       "      <th>AV1YmDL9vKc47QAVgr7_</th>\n",
       "      <th>AV1Ymf_rglJLPUi8II2v</th>\n",
       "      <th>AV1Yn94nvKc47QAVgtst</th>\n",
       "      <th>...</th>\n",
       "      <th>AVpfrfHF1cnluZ0-pRai</th>\n",
       "      <th>AVpfrgjFLJeJML43BvCc</th>\n",
       "      <th>AVpfs0tUilAPnD_xgqN2</th>\n",
       "      <th>AVpfsQoeilAPnD_xgfx5</th>\n",
       "      <th>AVpfshNsLJeJML43CB8q</th>\n",
       "      <th>AVpfthSailAPnD_xg3ON</th>\n",
       "      <th>AVpftikC1cnluZ0-p31V</th>\n",
       "      <th>AVpftymALJeJML43CZ6y</th>\n",
       "      <th>AVpfv4TlilAPnD_xhjNS</th>\n",
       "      <th>AVpfvieo1cnluZ0-qdnu</th>\n",
       "    </tr>\n",
       "    <tr>\n",
       "      <th>reviews_username</th>\n",
       "      <th></th>\n",
       "      <th></th>\n",
       "      <th></th>\n",
       "      <th></th>\n",
       "      <th></th>\n",
       "      <th></th>\n",
       "      <th></th>\n",
       "      <th></th>\n",
       "      <th></th>\n",
       "      <th></th>\n",
       "      <th></th>\n",
       "      <th></th>\n",
       "      <th></th>\n",
       "      <th></th>\n",
       "      <th></th>\n",
       "      <th></th>\n",
       "      <th></th>\n",
       "      <th></th>\n",
       "      <th></th>\n",
       "      <th></th>\n",
       "      <th></th>\n",
       "    </tr>\n",
       "  </thead>\n",
       "  <tbody>\n",
       "    <tr>\n",
       "      <th>00dog3</th>\n",
       "      <td>1.0</td>\n",
       "      <td>1.0</td>\n",
       "      <td>1.0</td>\n",
       "      <td>1.0</td>\n",
       "      <td>1.0</td>\n",
       "      <td>1.0</td>\n",
       "      <td>1.0</td>\n",
       "      <td>1.0</td>\n",
       "      <td>1.0</td>\n",
       "      <td>1.0</td>\n",
       "      <td>...</td>\n",
       "      <td>1.0</td>\n",
       "      <td>1.0</td>\n",
       "      <td>1.0</td>\n",
       "      <td>1.0</td>\n",
       "      <td>1.0</td>\n",
       "      <td>1.0</td>\n",
       "      <td>1.0</td>\n",
       "      <td>1.0</td>\n",
       "      <td>1.0</td>\n",
       "      <td>1.0</td>\n",
       "    </tr>\n",
       "    <tr>\n",
       "      <th>00sab00</th>\n",
       "      <td>1.0</td>\n",
       "      <td>1.0</td>\n",
       "      <td>1.0</td>\n",
       "      <td>1.0</td>\n",
       "      <td>1.0</td>\n",
       "      <td>1.0</td>\n",
       "      <td>1.0</td>\n",
       "      <td>1.0</td>\n",
       "      <td>1.0</td>\n",
       "      <td>1.0</td>\n",
       "      <td>...</td>\n",
       "      <td>1.0</td>\n",
       "      <td>1.0</td>\n",
       "      <td>1.0</td>\n",
       "      <td>1.0</td>\n",
       "      <td>1.0</td>\n",
       "      <td>1.0</td>\n",
       "      <td>1.0</td>\n",
       "      <td>1.0</td>\n",
       "      <td>1.0</td>\n",
       "      <td>1.0</td>\n",
       "    </tr>\n",
       "    <tr>\n",
       "      <th>01impala</th>\n",
       "      <td>1.0</td>\n",
       "      <td>1.0</td>\n",
       "      <td>1.0</td>\n",
       "      <td>1.0</td>\n",
       "      <td>1.0</td>\n",
       "      <td>1.0</td>\n",
       "      <td>1.0</td>\n",
       "      <td>1.0</td>\n",
       "      <td>1.0</td>\n",
       "      <td>1.0</td>\n",
       "      <td>...</td>\n",
       "      <td>1.0</td>\n",
       "      <td>1.0</td>\n",
       "      <td>1.0</td>\n",
       "      <td>1.0</td>\n",
       "      <td>1.0</td>\n",
       "      <td>1.0</td>\n",
       "      <td>1.0</td>\n",
       "      <td>1.0</td>\n",
       "      <td>1.0</td>\n",
       "      <td>1.0</td>\n",
       "    </tr>\n",
       "    <tr>\n",
       "      <th>02dakota</th>\n",
       "      <td>1.0</td>\n",
       "      <td>1.0</td>\n",
       "      <td>1.0</td>\n",
       "      <td>1.0</td>\n",
       "      <td>1.0</td>\n",
       "      <td>1.0</td>\n",
       "      <td>1.0</td>\n",
       "      <td>1.0</td>\n",
       "      <td>1.0</td>\n",
       "      <td>1.0</td>\n",
       "      <td>...</td>\n",
       "      <td>1.0</td>\n",
       "      <td>1.0</td>\n",
       "      <td>1.0</td>\n",
       "      <td>1.0</td>\n",
       "      <td>1.0</td>\n",
       "      <td>1.0</td>\n",
       "      <td>1.0</td>\n",
       "      <td>1.0</td>\n",
       "      <td>1.0</td>\n",
       "      <td>1.0</td>\n",
       "    </tr>\n",
       "    <tr>\n",
       "      <th>02deuce</th>\n",
       "      <td>1.0</td>\n",
       "      <td>1.0</td>\n",
       "      <td>1.0</td>\n",
       "      <td>1.0</td>\n",
       "      <td>1.0</td>\n",
       "      <td>1.0</td>\n",
       "      <td>1.0</td>\n",
       "      <td>1.0</td>\n",
       "      <td>1.0</td>\n",
       "      <td>1.0</td>\n",
       "      <td>...</td>\n",
       "      <td>1.0</td>\n",
       "      <td>1.0</td>\n",
       "      <td>1.0</td>\n",
       "      <td>1.0</td>\n",
       "      <td>1.0</td>\n",
       "      <td>1.0</td>\n",
       "      <td>1.0</td>\n",
       "      <td>1.0</td>\n",
       "      <td>1.0</td>\n",
       "      <td>1.0</td>\n",
       "    </tr>\n",
       "  </tbody>\n",
       "</table>\n",
       "<p>5 rows × 271 columns</p>\n",
       "</div>"
      ],
      "text/plain": [
       "id                AV13O1A8GV-KLJ3akUyj  AV14LG0R-jtxr-f38QfS  \\\n",
       "reviews_username                                               \n",
       "00dog3                             1.0                   1.0   \n",
       "00sab00                            1.0                   1.0   \n",
       "01impala                           1.0                   1.0   \n",
       "02dakota                           1.0                   1.0   \n",
       "02deuce                            1.0                   1.0   \n",
       "\n",
       "id                AV16khLE-jtxr-f38VFn  AV1YGDqsGV-KLJ3adc-O  \\\n",
       "reviews_username                                               \n",
       "00dog3                             1.0                   1.0   \n",
       "00sab00                            1.0                   1.0   \n",
       "01impala                           1.0                   1.0   \n",
       "02dakota                           1.0                   1.0   \n",
       "02deuce                            1.0                   1.0   \n",
       "\n",
       "id                AV1YIch7GV-KLJ3addeG  AV1YlENIglJLPUi8IHsX  \\\n",
       "reviews_username                                               \n",
       "00dog3                             1.0                   1.0   \n",
       "00sab00                            1.0                   1.0   \n",
       "01impala                           1.0                   1.0   \n",
       "02dakota                           1.0                   1.0   \n",
       "02deuce                            1.0                   1.0   \n",
       "\n",
       "id                AV1YmBrdGV-KLJ3adewb  AV1YmDL9vKc47QAVgr7_  \\\n",
       "reviews_username                                               \n",
       "00dog3                             1.0                   1.0   \n",
       "00sab00                            1.0                   1.0   \n",
       "01impala                           1.0                   1.0   \n",
       "02dakota                           1.0                   1.0   \n",
       "02deuce                            1.0                   1.0   \n",
       "\n",
       "id                AV1Ymf_rglJLPUi8II2v  AV1Yn94nvKc47QAVgtst  ...  \\\n",
       "reviews_username                                              ...   \n",
       "00dog3                             1.0                   1.0  ...   \n",
       "00sab00                            1.0                   1.0  ...   \n",
       "01impala                           1.0                   1.0  ...   \n",
       "02dakota                           1.0                   1.0  ...   \n",
       "02deuce                            1.0                   1.0  ...   \n",
       "\n",
       "id                AVpfrfHF1cnluZ0-pRai  AVpfrgjFLJeJML43BvCc  \\\n",
       "reviews_username                                               \n",
       "00dog3                             1.0                   1.0   \n",
       "00sab00                            1.0                   1.0   \n",
       "01impala                           1.0                   1.0   \n",
       "02dakota                           1.0                   1.0   \n",
       "02deuce                            1.0                   1.0   \n",
       "\n",
       "id                AVpfs0tUilAPnD_xgqN2  AVpfsQoeilAPnD_xgfx5  \\\n",
       "reviews_username                                               \n",
       "00dog3                             1.0                   1.0   \n",
       "00sab00                            1.0                   1.0   \n",
       "01impala                           1.0                   1.0   \n",
       "02dakota                           1.0                   1.0   \n",
       "02deuce                            1.0                   1.0   \n",
       "\n",
       "id                AVpfshNsLJeJML43CB8q  AVpfthSailAPnD_xg3ON  \\\n",
       "reviews_username                                               \n",
       "00dog3                             1.0                   1.0   \n",
       "00sab00                            1.0                   1.0   \n",
       "01impala                           1.0                   1.0   \n",
       "02dakota                           1.0                   1.0   \n",
       "02deuce                            1.0                   1.0   \n",
       "\n",
       "id                AVpftikC1cnluZ0-p31V  AVpftymALJeJML43CZ6y  \\\n",
       "reviews_username                                               \n",
       "00dog3                             1.0                   1.0   \n",
       "00sab00                            1.0                   1.0   \n",
       "01impala                           1.0                   1.0   \n",
       "02dakota                           1.0                   1.0   \n",
       "02deuce                            1.0                   1.0   \n",
       "\n",
       "id                AVpfv4TlilAPnD_xhjNS  AVpfvieo1cnluZ0-qdnu  \n",
       "reviews_username                                              \n",
       "00dog3                             1.0                   1.0  \n",
       "00sab00                            1.0                   1.0  \n",
       "01impala                           1.0                   1.0  \n",
       "02dakota                           1.0                   1.0  \n",
       "02deuce                            1.0                   1.0  \n",
       "\n",
       "[5 rows x 271 columns]"
      ]
     },
     "execution_count": 29,
     "metadata": {},
     "output_type": "execute_result"
    }
   ],
   "source": [
    "dummy_df.head()"
   ]
  },
  {
   "cell_type": "code",
   "execution_count": 30,
   "metadata": {
    "executionInfo": {
     "elapsed": 358,
     "status": "ok",
     "timestamp": 1631272296363,
     "user": {
      "displayName": "Shilpa Garg",
      "photoUrl": "https://lh3.googleusercontent.com/a/default-user=s64",
      "userId": "12607333565625535618"
     },
     "user_tz": -330
    },
    "id": "eusQ9inVR42u"
   },
   "outputs": [],
   "source": [
    "from sklearn.metrics.pairwise import pairwise_distances"
   ]
  },
  {
   "cell_type": "markdown",
   "metadata": {
    "id": "p5V-FkS7BygA"
   },
   "source": [
    "## Using Item similarity\n"
   ]
  },
  {
   "cell_type": "markdown",
   "metadata": {
    "id": "GMJ5KJqyB2Oq"
   },
   "source": [
    "# Item Based Similarity"
   ]
  },
  {
   "cell_type": "code",
   "execution_count": 31,
   "metadata": {
    "colab": {
     "base_uri": "https://localhost:8080/",
     "height": 369
    },
    "executionInfo": {
     "elapsed": 385,
     "status": "ok",
     "timestamp": 1631272308205,
     "user": {
      "displayName": "Shilpa Garg",
      "photoUrl": "https://lh3.googleusercontent.com/a/default-user=s64",
      "userId": "12607333565625535618"
     },
     "user_tz": -330
    },
    "id": "7QurGpaGBmBG",
    "outputId": "d77d5a68-88e5-44ac-f65f-3444e3217255"
   },
   "outputs": [
    {
     "data": {
      "text/html": [
       "<div>\n",
       "<style scoped>\n",
       "    .dataframe tbody tr th:only-of-type {\n",
       "        vertical-align: middle;\n",
       "    }\n",
       "\n",
       "    .dataframe tbody tr th {\n",
       "        vertical-align: top;\n",
       "    }\n",
       "\n",
       "    .dataframe thead th {\n",
       "        text-align: right;\n",
       "    }\n",
       "</style>\n",
       "<table border=\"1\" class=\"dataframe\">\n",
       "  <thead>\n",
       "    <tr style=\"text-align: right;\">\n",
       "      <th>reviews_username</th>\n",
       "      <th>00dog3</th>\n",
       "      <th>00sab00</th>\n",
       "      <th>01impala</th>\n",
       "      <th>02dakota</th>\n",
       "      <th>02deuce</th>\n",
       "      <th>0325home</th>\n",
       "      <th>06stidriver</th>\n",
       "      <th>08dallas</th>\n",
       "      <th>09mommy11</th>\n",
       "      <th>1.11E+24</th>\n",
       "      <th>...</th>\n",
       "      <th>zt313</th>\n",
       "      <th>zubb</th>\n",
       "      <th>zulaa118</th>\n",
       "      <th>zuttle</th>\n",
       "      <th>zwithanx</th>\n",
       "      <th>zxcsdfd</th>\n",
       "      <th>zxjki</th>\n",
       "      <th>zyiah4</th>\n",
       "      <th>zzdiane</th>\n",
       "      <th>zzz1127</th>\n",
       "    </tr>\n",
       "    <tr>\n",
       "      <th>id</th>\n",
       "      <th></th>\n",
       "      <th></th>\n",
       "      <th></th>\n",
       "      <th></th>\n",
       "      <th></th>\n",
       "      <th></th>\n",
       "      <th></th>\n",
       "      <th></th>\n",
       "      <th></th>\n",
       "      <th></th>\n",
       "      <th></th>\n",
       "      <th></th>\n",
       "      <th></th>\n",
       "      <th></th>\n",
       "      <th></th>\n",
       "      <th></th>\n",
       "      <th></th>\n",
       "      <th></th>\n",
       "      <th></th>\n",
       "      <th></th>\n",
       "      <th></th>\n",
       "    </tr>\n",
       "  </thead>\n",
       "  <tbody>\n",
       "    <tr>\n",
       "      <th>AV13O1A8GV-KLJ3akUyj</th>\n",
       "      <td>NaN</td>\n",
       "      <td>NaN</td>\n",
       "      <td>NaN</td>\n",
       "      <td>NaN</td>\n",
       "      <td>NaN</td>\n",
       "      <td>NaN</td>\n",
       "      <td>NaN</td>\n",
       "      <td>NaN</td>\n",
       "      <td>NaN</td>\n",
       "      <td>NaN</td>\n",
       "      <td>...</td>\n",
       "      <td>NaN</td>\n",
       "      <td>NaN</td>\n",
       "      <td>NaN</td>\n",
       "      <td>NaN</td>\n",
       "      <td>NaN</td>\n",
       "      <td>NaN</td>\n",
       "      <td>NaN</td>\n",
       "      <td>NaN</td>\n",
       "      <td>NaN</td>\n",
       "      <td>NaN</td>\n",
       "    </tr>\n",
       "    <tr>\n",
       "      <th>AV14LG0R-jtxr-f38QfS</th>\n",
       "      <td>NaN</td>\n",
       "      <td>NaN</td>\n",
       "      <td>NaN</td>\n",
       "      <td>NaN</td>\n",
       "      <td>NaN</td>\n",
       "      <td>NaN</td>\n",
       "      <td>NaN</td>\n",
       "      <td>NaN</td>\n",
       "      <td>NaN</td>\n",
       "      <td>NaN</td>\n",
       "      <td>...</td>\n",
       "      <td>NaN</td>\n",
       "      <td>NaN</td>\n",
       "      <td>NaN</td>\n",
       "      <td>NaN</td>\n",
       "      <td>NaN</td>\n",
       "      <td>NaN</td>\n",
       "      <td>NaN</td>\n",
       "      <td>NaN</td>\n",
       "      <td>NaN</td>\n",
       "      <td>NaN</td>\n",
       "    </tr>\n",
       "    <tr>\n",
       "      <th>AV16khLE-jtxr-f38VFn</th>\n",
       "      <td>NaN</td>\n",
       "      <td>NaN</td>\n",
       "      <td>NaN</td>\n",
       "      <td>NaN</td>\n",
       "      <td>NaN</td>\n",
       "      <td>NaN</td>\n",
       "      <td>NaN</td>\n",
       "      <td>NaN</td>\n",
       "      <td>NaN</td>\n",
       "      <td>NaN</td>\n",
       "      <td>...</td>\n",
       "      <td>NaN</td>\n",
       "      <td>NaN</td>\n",
       "      <td>NaN</td>\n",
       "      <td>NaN</td>\n",
       "      <td>NaN</td>\n",
       "      <td>NaN</td>\n",
       "      <td>NaN</td>\n",
       "      <td>NaN</td>\n",
       "      <td>NaN</td>\n",
       "      <td>NaN</td>\n",
       "    </tr>\n",
       "    <tr>\n",
       "      <th>AV1YGDqsGV-KLJ3adc-O</th>\n",
       "      <td>NaN</td>\n",
       "      <td>NaN</td>\n",
       "      <td>NaN</td>\n",
       "      <td>NaN</td>\n",
       "      <td>NaN</td>\n",
       "      <td>NaN</td>\n",
       "      <td>NaN</td>\n",
       "      <td>NaN</td>\n",
       "      <td>NaN</td>\n",
       "      <td>NaN</td>\n",
       "      <td>...</td>\n",
       "      <td>NaN</td>\n",
       "      <td>NaN</td>\n",
       "      <td>NaN</td>\n",
       "      <td>NaN</td>\n",
       "      <td>NaN</td>\n",
       "      <td>NaN</td>\n",
       "      <td>NaN</td>\n",
       "      <td>NaN</td>\n",
       "      <td>NaN</td>\n",
       "      <td>NaN</td>\n",
       "    </tr>\n",
       "    <tr>\n",
       "      <th>AV1YIch7GV-KLJ3addeG</th>\n",
       "      <td>NaN</td>\n",
       "      <td>NaN</td>\n",
       "      <td>NaN</td>\n",
       "      <td>NaN</td>\n",
       "      <td>NaN</td>\n",
       "      <td>NaN</td>\n",
       "      <td>NaN</td>\n",
       "      <td>NaN</td>\n",
       "      <td>NaN</td>\n",
       "      <td>NaN</td>\n",
       "      <td>...</td>\n",
       "      <td>NaN</td>\n",
       "      <td>NaN</td>\n",
       "      <td>NaN</td>\n",
       "      <td>NaN</td>\n",
       "      <td>NaN</td>\n",
       "      <td>NaN</td>\n",
       "      <td>NaN</td>\n",
       "      <td>NaN</td>\n",
       "      <td>NaN</td>\n",
       "      <td>NaN</td>\n",
       "    </tr>\n",
       "  </tbody>\n",
       "</table>\n",
       "<p>5 rows × 24914 columns</p>\n",
       "</div>"
      ],
      "text/plain": [
       "reviews_username      00dog3  00sab00  01impala  02dakota  02deuce  0325home  \\\n",
       "id                                                                             \n",
       "AV13O1A8GV-KLJ3akUyj     NaN      NaN       NaN       NaN      NaN       NaN   \n",
       "AV14LG0R-jtxr-f38QfS     NaN      NaN       NaN       NaN      NaN       NaN   \n",
       "AV16khLE-jtxr-f38VFn     NaN      NaN       NaN       NaN      NaN       NaN   \n",
       "AV1YGDqsGV-KLJ3adc-O     NaN      NaN       NaN       NaN      NaN       NaN   \n",
       "AV1YIch7GV-KLJ3addeG     NaN      NaN       NaN       NaN      NaN       NaN   \n",
       "\n",
       "reviews_username      06stidriver  08dallas  09mommy11  1.11E+24  ...  zt313  \\\n",
       "id                                                                ...          \n",
       "AV13O1A8GV-KLJ3akUyj          NaN       NaN        NaN       NaN  ...    NaN   \n",
       "AV14LG0R-jtxr-f38QfS          NaN       NaN        NaN       NaN  ...    NaN   \n",
       "AV16khLE-jtxr-f38VFn          NaN       NaN        NaN       NaN  ...    NaN   \n",
       "AV1YGDqsGV-KLJ3adc-O          NaN       NaN        NaN       NaN  ...    NaN   \n",
       "AV1YIch7GV-KLJ3addeG          NaN       NaN        NaN       NaN  ...    NaN   \n",
       "\n",
       "reviews_username      zubb  zulaa118  zuttle  zwithanx  zxcsdfd  zxjki  \\\n",
       "id                                                                       \n",
       "AV13O1A8GV-KLJ3akUyj   NaN       NaN     NaN       NaN      NaN    NaN   \n",
       "AV14LG0R-jtxr-f38QfS   NaN       NaN     NaN       NaN      NaN    NaN   \n",
       "AV16khLE-jtxr-f38VFn   NaN       NaN     NaN       NaN      NaN    NaN   \n",
       "AV1YGDqsGV-KLJ3adc-O   NaN       NaN     NaN       NaN      NaN    NaN   \n",
       "AV1YIch7GV-KLJ3addeG   NaN       NaN     NaN       NaN      NaN    NaN   \n",
       "\n",
       "reviews_username      zyiah4  zzdiane  zzz1127  \n",
       "id                                              \n",
       "AV13O1A8GV-KLJ3akUyj     NaN      NaN      NaN  \n",
       "AV14LG0R-jtxr-f38QfS     NaN      NaN      NaN  \n",
       "AV16khLE-jtxr-f38VFn     NaN      NaN      NaN  \n",
       "AV1YGDqsGV-KLJ3adc-O     NaN      NaN      NaN  \n",
       "AV1YIch7GV-KLJ3addeG     NaN      NaN      NaN  \n",
       "\n",
       "[5 rows x 24914 columns]"
      ]
     },
     "execution_count": 31,
     "metadata": {},
     "output_type": "execute_result"
    }
   ],
   "source": [
    "df_pivot = df2.pivot(\n",
    "    index='reviews_username', columns='id', values='reviews_rating'\n",
    ").T\n",
    "\n",
    "df_pivot.head()"
   ]
  },
  {
   "cell_type": "markdown",
   "metadata": {
    "id": "1UOqPETiCFLs"
   },
   "source": [
    "Normalising the movie rating for each movie for using the Adujsted Cosine"
   ]
  },
  {
   "cell_type": "code",
   "execution_count": 32,
   "metadata": {
    "executionInfo": {
     "elapsed": 361,
     "status": "ok",
     "timestamp": 1631272314346,
     "user": {
      "displayName": "Shilpa Garg",
      "photoUrl": "https://lh3.googleusercontent.com/a/default-user=s64",
      "userId": "12607333565625535618"
     },
     "user_tz": -330
    },
    "id": "nbUwJjiPCFk4"
   },
   "outputs": [],
   "source": [
    "mean = np.nanmean(df_pivot, axis=1)\n",
    "df_subtracted = (df_pivot.T-mean).T"
   ]
  },
  {
   "cell_type": "code",
   "execution_count": 33,
   "metadata": {
    "colab": {
     "base_uri": "https://localhost:8080/",
     "height": 369
    },
    "executionInfo": {
     "elapsed": 586,
     "status": "ok",
     "timestamp": 1631272320702,
     "user": {
      "displayName": "Shilpa Garg",
      "photoUrl": "https://lh3.googleusercontent.com/a/default-user=s64",
      "userId": "12607333565625535618"
     },
     "user_tz": -330
    },
    "id": "PFRbrTT0DXwJ",
    "outputId": "f3ed1355-135c-4c44-dcfe-63a0cc65f771"
   },
   "outputs": [
    {
     "data": {
      "text/html": [
       "<div>\n",
       "<style scoped>\n",
       "    .dataframe tbody tr th:only-of-type {\n",
       "        vertical-align: middle;\n",
       "    }\n",
       "\n",
       "    .dataframe tbody tr th {\n",
       "        vertical-align: top;\n",
       "    }\n",
       "\n",
       "    .dataframe thead th {\n",
       "        text-align: right;\n",
       "    }\n",
       "</style>\n",
       "<table border=\"1\" class=\"dataframe\">\n",
       "  <thead>\n",
       "    <tr style=\"text-align: right;\">\n",
       "      <th>reviews_username</th>\n",
       "      <th>00dog3</th>\n",
       "      <th>00sab00</th>\n",
       "      <th>01impala</th>\n",
       "      <th>02dakota</th>\n",
       "      <th>02deuce</th>\n",
       "      <th>0325home</th>\n",
       "      <th>06stidriver</th>\n",
       "      <th>08dallas</th>\n",
       "      <th>09mommy11</th>\n",
       "      <th>1.11E+24</th>\n",
       "      <th>...</th>\n",
       "      <th>zt313</th>\n",
       "      <th>zubb</th>\n",
       "      <th>zulaa118</th>\n",
       "      <th>zuttle</th>\n",
       "      <th>zwithanx</th>\n",
       "      <th>zxcsdfd</th>\n",
       "      <th>zxjki</th>\n",
       "      <th>zyiah4</th>\n",
       "      <th>zzdiane</th>\n",
       "      <th>zzz1127</th>\n",
       "    </tr>\n",
       "    <tr>\n",
       "      <th>id</th>\n",
       "      <th></th>\n",
       "      <th></th>\n",
       "      <th></th>\n",
       "      <th></th>\n",
       "      <th></th>\n",
       "      <th></th>\n",
       "      <th></th>\n",
       "      <th></th>\n",
       "      <th></th>\n",
       "      <th></th>\n",
       "      <th></th>\n",
       "      <th></th>\n",
       "      <th></th>\n",
       "      <th></th>\n",
       "      <th></th>\n",
       "      <th></th>\n",
       "      <th></th>\n",
       "      <th></th>\n",
       "      <th></th>\n",
       "      <th></th>\n",
       "      <th></th>\n",
       "    </tr>\n",
       "  </thead>\n",
       "  <tbody>\n",
       "    <tr>\n",
       "      <th>AV13O1A8GV-KLJ3akUyj</th>\n",
       "      <td>NaN</td>\n",
       "      <td>NaN</td>\n",
       "      <td>NaN</td>\n",
       "      <td>NaN</td>\n",
       "      <td>NaN</td>\n",
       "      <td>NaN</td>\n",
       "      <td>NaN</td>\n",
       "      <td>NaN</td>\n",
       "      <td>NaN</td>\n",
       "      <td>NaN</td>\n",
       "      <td>...</td>\n",
       "      <td>NaN</td>\n",
       "      <td>NaN</td>\n",
       "      <td>NaN</td>\n",
       "      <td>NaN</td>\n",
       "      <td>NaN</td>\n",
       "      <td>NaN</td>\n",
       "      <td>NaN</td>\n",
       "      <td>NaN</td>\n",
       "      <td>NaN</td>\n",
       "      <td>NaN</td>\n",
       "    </tr>\n",
       "    <tr>\n",
       "      <th>AV14LG0R-jtxr-f38QfS</th>\n",
       "      <td>NaN</td>\n",
       "      <td>NaN</td>\n",
       "      <td>NaN</td>\n",
       "      <td>NaN</td>\n",
       "      <td>NaN</td>\n",
       "      <td>NaN</td>\n",
       "      <td>NaN</td>\n",
       "      <td>NaN</td>\n",
       "      <td>NaN</td>\n",
       "      <td>NaN</td>\n",
       "      <td>...</td>\n",
       "      <td>NaN</td>\n",
       "      <td>NaN</td>\n",
       "      <td>NaN</td>\n",
       "      <td>NaN</td>\n",
       "      <td>NaN</td>\n",
       "      <td>NaN</td>\n",
       "      <td>NaN</td>\n",
       "      <td>NaN</td>\n",
       "      <td>NaN</td>\n",
       "      <td>NaN</td>\n",
       "    </tr>\n",
       "    <tr>\n",
       "      <th>AV16khLE-jtxr-f38VFn</th>\n",
       "      <td>NaN</td>\n",
       "      <td>NaN</td>\n",
       "      <td>NaN</td>\n",
       "      <td>NaN</td>\n",
       "      <td>NaN</td>\n",
       "      <td>NaN</td>\n",
       "      <td>NaN</td>\n",
       "      <td>NaN</td>\n",
       "      <td>NaN</td>\n",
       "      <td>NaN</td>\n",
       "      <td>...</td>\n",
       "      <td>NaN</td>\n",
       "      <td>NaN</td>\n",
       "      <td>NaN</td>\n",
       "      <td>NaN</td>\n",
       "      <td>NaN</td>\n",
       "      <td>NaN</td>\n",
       "      <td>NaN</td>\n",
       "      <td>NaN</td>\n",
       "      <td>NaN</td>\n",
       "      <td>NaN</td>\n",
       "    </tr>\n",
       "    <tr>\n",
       "      <th>AV1YGDqsGV-KLJ3adc-O</th>\n",
       "      <td>NaN</td>\n",
       "      <td>NaN</td>\n",
       "      <td>NaN</td>\n",
       "      <td>NaN</td>\n",
       "      <td>NaN</td>\n",
       "      <td>NaN</td>\n",
       "      <td>NaN</td>\n",
       "      <td>NaN</td>\n",
       "      <td>NaN</td>\n",
       "      <td>NaN</td>\n",
       "      <td>...</td>\n",
       "      <td>NaN</td>\n",
       "      <td>NaN</td>\n",
       "      <td>NaN</td>\n",
       "      <td>NaN</td>\n",
       "      <td>NaN</td>\n",
       "      <td>NaN</td>\n",
       "      <td>NaN</td>\n",
       "      <td>NaN</td>\n",
       "      <td>NaN</td>\n",
       "      <td>NaN</td>\n",
       "    </tr>\n",
       "    <tr>\n",
       "      <th>AV1YIch7GV-KLJ3addeG</th>\n",
       "      <td>NaN</td>\n",
       "      <td>NaN</td>\n",
       "      <td>NaN</td>\n",
       "      <td>NaN</td>\n",
       "      <td>NaN</td>\n",
       "      <td>NaN</td>\n",
       "      <td>NaN</td>\n",
       "      <td>NaN</td>\n",
       "      <td>NaN</td>\n",
       "      <td>NaN</td>\n",
       "      <td>...</td>\n",
       "      <td>NaN</td>\n",
       "      <td>NaN</td>\n",
       "      <td>NaN</td>\n",
       "      <td>NaN</td>\n",
       "      <td>NaN</td>\n",
       "      <td>NaN</td>\n",
       "      <td>NaN</td>\n",
       "      <td>NaN</td>\n",
       "      <td>NaN</td>\n",
       "      <td>NaN</td>\n",
       "    </tr>\n",
       "  </tbody>\n",
       "</table>\n",
       "<p>5 rows × 24914 columns</p>\n",
       "</div>"
      ],
      "text/plain": [
       "reviews_username      00dog3  00sab00  01impala  02dakota  02deuce  0325home  \\\n",
       "id                                                                             \n",
       "AV13O1A8GV-KLJ3akUyj     NaN      NaN       NaN       NaN      NaN       NaN   \n",
       "AV14LG0R-jtxr-f38QfS     NaN      NaN       NaN       NaN      NaN       NaN   \n",
       "AV16khLE-jtxr-f38VFn     NaN      NaN       NaN       NaN      NaN       NaN   \n",
       "AV1YGDqsGV-KLJ3adc-O     NaN      NaN       NaN       NaN      NaN       NaN   \n",
       "AV1YIch7GV-KLJ3addeG     NaN      NaN       NaN       NaN      NaN       NaN   \n",
       "\n",
       "reviews_username      06stidriver  08dallas  09mommy11  1.11E+24  ...  zt313  \\\n",
       "id                                                                ...          \n",
       "AV13O1A8GV-KLJ3akUyj          NaN       NaN        NaN       NaN  ...    NaN   \n",
       "AV14LG0R-jtxr-f38QfS          NaN       NaN        NaN       NaN  ...    NaN   \n",
       "AV16khLE-jtxr-f38VFn          NaN       NaN        NaN       NaN  ...    NaN   \n",
       "AV1YGDqsGV-KLJ3adc-O          NaN       NaN        NaN       NaN  ...    NaN   \n",
       "AV1YIch7GV-KLJ3addeG          NaN       NaN        NaN       NaN  ...    NaN   \n",
       "\n",
       "reviews_username      zubb  zulaa118  zuttle  zwithanx  zxcsdfd  zxjki  \\\n",
       "id                                                                       \n",
       "AV13O1A8GV-KLJ3akUyj   NaN       NaN     NaN       NaN      NaN    NaN   \n",
       "AV14LG0R-jtxr-f38QfS   NaN       NaN     NaN       NaN      NaN    NaN   \n",
       "AV16khLE-jtxr-f38VFn   NaN       NaN     NaN       NaN      NaN    NaN   \n",
       "AV1YGDqsGV-KLJ3adc-O   NaN       NaN     NaN       NaN      NaN    NaN   \n",
       "AV1YIch7GV-KLJ3addeG   NaN       NaN     NaN       NaN      NaN    NaN   \n",
       "\n",
       "reviews_username      zyiah4  zzdiane  zzz1127  \n",
       "id                                              \n",
       "AV13O1A8GV-KLJ3akUyj     NaN      NaN      NaN  \n",
       "AV14LG0R-jtxr-f38QfS     NaN      NaN      NaN  \n",
       "AV16khLE-jtxr-f38VFn     NaN      NaN      NaN  \n",
       "AV1YGDqsGV-KLJ3adc-O     NaN      NaN      NaN  \n",
       "AV1YIch7GV-KLJ3addeG     NaN      NaN      NaN  \n",
       "\n",
       "[5 rows x 24914 columns]"
      ]
     },
     "execution_count": 33,
     "metadata": {},
     "output_type": "execute_result"
    }
   ],
   "source": [
    "df_subtracted.head()"
   ]
  },
  {
   "cell_type": "code",
   "execution_count": null,
   "metadata": {
    "executionInfo": {
     "elapsed": 555,
     "status": "ok",
     "timestamp": 1631272324686,
     "user": {
      "displayName": "Shilpa Garg",
      "photoUrl": "https://lh3.googleusercontent.com/a/default-user=s64",
      "userId": "12607333565625535618"
     },
     "user_tz": -330
    },
    "id": "FATpL5bhDY5w"
   },
   "outputs": [],
   "source": []
  },
  {
   "cell_type": "markdown",
   "metadata": {
    "id": "OOsLL_p1DcU3"
   },
   "source": [
    "Finding the cosine similarity using pairwise distances approach"
   ]
  },
  {
   "cell_type": "code",
   "execution_count": 34,
   "metadata": {
    "executionInfo": {
     "elapsed": 4,
     "status": "ok",
     "timestamp": 1631272326195,
     "user": {
      "displayName": "Shilpa Garg",
      "photoUrl": "https://lh3.googleusercontent.com/a/default-user=s64",
      "userId": "12607333565625535618"
     },
     "user_tz": -330
    },
    "id": "univiJhiDcx4"
   },
   "outputs": [],
   "source": [
    "from sklearn.metrics.pairwise import pairwise_distances"
   ]
  },
  {
   "cell_type": "code",
   "execution_count": 35,
   "metadata": {
    "colab": {
     "base_uri": "https://localhost:8080/"
    },
    "executionInfo": {
     "elapsed": 623,
     "status": "ok",
     "timestamp": 1631272328756,
     "user": {
      "displayName": "Shilpa Garg",
      "photoUrl": "https://lh3.googleusercontent.com/a/default-user=s64",
      "userId": "12607333565625535618"
     },
     "user_tz": -330
    },
    "id": "T15GW1DkDeXL",
    "outputId": "87315099-308a-4c55-ad2c-0920ba74315a"
   },
   "outputs": [
    {
     "name": "stdout",
     "output_type": "stream",
     "text": [
      "[[0. 0. 0. ... 0. 0. 0.]\n",
      " [0. 0. 0. ... 0. 0. 0.]\n",
      " [0. 0. 1. ... 0. 0. 0.]\n",
      " ...\n",
      " [0. 0. 0. ... 0. 0. 0.]\n",
      " [0. 0. 0. ... 0. 1. 0.]\n",
      " [0. 0. 0. ... 0. 0. 1.]]\n"
     ]
    }
   ],
   "source": [
    "# Item Similarity Matrix\n",
    "item_correlation = 1 - pairwise_distances(df_subtracted.fillna(0), metric='cosine')\n",
    "item_correlation[np.isnan(item_correlation)] = 0\n",
    "print(item_correlation)"
   ]
  },
  {
   "cell_type": "code",
   "execution_count": null,
   "metadata": {
    "executionInfo": {
     "elapsed": 7,
     "status": "ok",
     "timestamp": 1631272330328,
     "user": {
      "displayName": "Shilpa Garg",
      "photoUrl": "https://lh3.googleusercontent.com/a/default-user=s64",
      "userId": "12607333565625535618"
     },
     "user_tz": -330
    },
    "id": "6qjLgYNEDf2z"
   },
   "outputs": [],
   "source": []
  },
  {
   "cell_type": "code",
   "execution_count": null,
   "metadata": {
    "executionInfo": {
     "elapsed": 8,
     "status": "ok",
     "timestamp": 1631272331701,
     "user": {
      "displayName": "Shilpa Garg",
      "photoUrl": "https://lh3.googleusercontent.com/a/default-user=s64",
      "userId": "12607333565625535618"
     },
     "user_tz": -330
    },
    "id": "niJg5Y-LDj7U"
   },
   "outputs": [],
   "source": []
  },
  {
   "cell_type": "markdown",
   "metadata": {
    "id": "VRIKINHQDoEk"
   },
   "source": [
    "Filtering the correlation only for which the value is greater than 0. (Positively correlated)"
   ]
  },
  {
   "cell_type": "code",
   "execution_count": 36,
   "metadata": {
    "colab": {
     "base_uri": "https://localhost:8080/"
    },
    "executionInfo": {
     "elapsed": 17,
     "status": "ok",
     "timestamp": 1631272334422,
     "user": {
      "displayName": "Shilpa Garg",
      "photoUrl": "https://lh3.googleusercontent.com/a/default-user=s64",
      "userId": "12607333565625535618"
     },
     "user_tz": -330
    },
    "id": "m6ofs862Dotb",
    "outputId": "90ea54bc-3f96-4cb3-a4f3-c97aa048d2ae"
   },
   "outputs": [
    {
     "data": {
      "text/plain": [
       "array([[0., 0., 0., ..., 0., 0., 0.],\n",
       "       [0., 0., 0., ..., 0., 0., 0.],\n",
       "       [0., 0., 1., ..., 0., 0., 0.],\n",
       "       ...,\n",
       "       [0., 0., 0., ..., 0., 0., 0.],\n",
       "       [0., 0., 0., ..., 0., 1., 0.],\n",
       "       [0., 0., 0., ..., 0., 0., 1.]])"
      ]
     },
     "execution_count": 36,
     "metadata": {},
     "output_type": "execute_result"
    }
   ],
   "source": [
    "item_correlation[item_correlation<0]=0\n",
    "item_correlation"
   ]
  },
  {
   "cell_type": "code",
   "execution_count": null,
   "metadata": {
    "executionInfo": {
     "elapsed": 7,
     "status": "ok",
     "timestamp": 1631272336262,
     "user": {
      "displayName": "Shilpa Garg",
      "photoUrl": "https://lh3.googleusercontent.com/a/default-user=s64",
      "userId": "12607333565625535618"
     },
     "user_tz": -330
    },
    "id": "M7ml61T6DqVs"
   },
   "outputs": [],
   "source": []
  },
  {
   "cell_type": "markdown",
   "metadata": {
    "id": "36iELIRTDueA"
   },
   "source": [
    "# Prediction - Item Item"
   ]
  },
  {
   "cell_type": "code",
   "execution_count": 37,
   "metadata": {
    "colab": {
     "base_uri": "https://localhost:8080/"
    },
    "executionInfo": {
     "elapsed": 17,
     "status": "ok",
     "timestamp": 1631272337909,
     "user": {
      "displayName": "Shilpa Garg",
      "photoUrl": "https://lh3.googleusercontent.com/a/default-user=s64",
      "userId": "12607333565625535618"
     },
     "user_tz": -330
    },
    "id": "i3D1bezUDu2K",
    "outputId": "01e401a9-7659-4f06-c349-e85194c95501"
   },
   "outputs": [
    {
     "data": {
      "text/plain": [
       "array([[0.        , 0.        , 0.        , ..., 0.        , 0.        ,\n",
       "        0.        ],\n",
       "       [0.        , 0.        , 0.        , ..., 0.        , 0.0304546 ,\n",
       "        0.        ],\n",
       "       [0.        , 0.        , 0.00930396, ..., 0.        , 0.        ,\n",
       "        0.        ],\n",
       "       ...,\n",
       "       [0.        , 0.        , 0.        , ..., 0.        , 0.        ,\n",
       "        0.00498975],\n",
       "       [0.        , 0.        , 0.        , ..., 0.        , 0.05075767,\n",
       "        0.        ],\n",
       "       [0.        , 0.        , 0.        , ..., 0.        , 0.        ,\n",
       "        0.0039918 ]])"
      ]
     },
     "execution_count": 37,
     "metadata": {},
     "output_type": "execute_result"
    }
   ],
   "source": [
    "item_predicted_ratings = np.dot((df_pivot.fillna(0).T),item_correlation)\n",
    "item_predicted_ratings"
   ]
  },
  {
   "cell_type": "code",
   "execution_count": 38,
   "metadata": {
    "colab": {
     "base_uri": "https://localhost:8080/"
    },
    "executionInfo": {
     "elapsed": 18,
     "status": "ok",
     "timestamp": 1631272339540,
     "user": {
      "displayName": "Shilpa Garg",
      "photoUrl": "https://lh3.googleusercontent.com/a/default-user=s64",
      "userId": "12607333565625535618"
     },
     "user_tz": -330
    },
    "id": "BqJUf-pEDw2x",
    "outputId": "81e5043a-2897-4d8e-b8a7-146e7839b8f4"
   },
   "outputs": [
    {
     "data": {
      "text/plain": [
       "(24914, 271)"
      ]
     },
     "execution_count": 38,
     "metadata": {},
     "output_type": "execute_result"
    }
   ],
   "source": [
    "item_predicted_ratings.shape"
   ]
  },
  {
   "cell_type": "code",
   "execution_count": 39,
   "metadata": {
    "colab": {
     "base_uri": "https://localhost:8080/"
    },
    "executionInfo": {
     "elapsed": 433,
     "status": "ok",
     "timestamp": 1631272355252,
     "user": {
      "displayName": "Shilpa Garg",
      "photoUrl": "https://lh3.googleusercontent.com/a/default-user=s64",
      "userId": "12607333565625535618"
     },
     "user_tz": -330
    },
    "id": "lok9WaS1DzCY",
    "outputId": "0d40feb7-1d60-461c-8695-ef2b3a6022ca"
   },
   "outputs": [
    {
     "data": {
      "text/plain": [
       "(24914, 271)"
      ]
     },
     "execution_count": 39,
     "metadata": {},
     "output_type": "execute_result"
    }
   ],
   "source": [
    "dummy_df.shape"
   ]
  },
  {
   "cell_type": "code",
   "execution_count": null,
   "metadata": {
    "executionInfo": {
     "elapsed": 442,
     "status": "ok",
     "timestamp": 1631272357427,
     "user": {
      "displayName": "Shilpa Garg",
      "photoUrl": "https://lh3.googleusercontent.com/a/default-user=s64",
      "userId": "12607333565625535618"
     },
     "user_tz": -330
    },
    "id": "cEKLhydqD1lt"
   },
   "outputs": [],
   "source": []
  },
  {
   "cell_type": "markdown",
   "metadata": {
    "id": "vtoT95InEA-b"
   },
   "source": [
    "### Filtering the rating only for the items not rated by the user for recommendation\n"
   ]
  },
  {
   "cell_type": "code",
   "execution_count": 40,
   "metadata": {
    "colab": {
     "base_uri": "https://localhost:8080/",
     "height": 318
    },
    "executionInfo": {
     "elapsed": 389,
     "status": "ok",
     "timestamp": 1631272365623,
     "user": {
      "displayName": "Shilpa Garg",
      "photoUrl": "https://lh3.googleusercontent.com/a/default-user=s64",
      "userId": "12607333565625535618"
     },
     "user_tz": -330
    },
    "id": "Sv02PBMnEBg8",
    "outputId": "fc84054b-35cf-4f0c-d4bd-5fd077cfb71e"
   },
   "outputs": [
    {
     "data": {
      "text/html": [
       "<div>\n",
       "<style scoped>\n",
       "    .dataframe tbody tr th:only-of-type {\n",
       "        vertical-align: middle;\n",
       "    }\n",
       "\n",
       "    .dataframe tbody tr th {\n",
       "        vertical-align: top;\n",
       "    }\n",
       "\n",
       "    .dataframe thead th {\n",
       "        text-align: right;\n",
       "    }\n",
       "</style>\n",
       "<table border=\"1\" class=\"dataframe\">\n",
       "  <thead>\n",
       "    <tr style=\"text-align: right;\">\n",
       "      <th>id</th>\n",
       "      <th>AV13O1A8GV-KLJ3akUyj</th>\n",
       "      <th>AV14LG0R-jtxr-f38QfS</th>\n",
       "      <th>AV16khLE-jtxr-f38VFn</th>\n",
       "      <th>AV1YGDqsGV-KLJ3adc-O</th>\n",
       "      <th>AV1YIch7GV-KLJ3addeG</th>\n",
       "      <th>AV1YlENIglJLPUi8IHsX</th>\n",
       "      <th>AV1YmBrdGV-KLJ3adewb</th>\n",
       "      <th>AV1YmDL9vKc47QAVgr7_</th>\n",
       "      <th>AV1Ymf_rglJLPUi8II2v</th>\n",
       "      <th>AV1Yn94nvKc47QAVgtst</th>\n",
       "      <th>...</th>\n",
       "      <th>AVpfrfHF1cnluZ0-pRai</th>\n",
       "      <th>AVpfrgjFLJeJML43BvCc</th>\n",
       "      <th>AVpfs0tUilAPnD_xgqN2</th>\n",
       "      <th>AVpfsQoeilAPnD_xgfx5</th>\n",
       "      <th>AVpfshNsLJeJML43CB8q</th>\n",
       "      <th>AVpfthSailAPnD_xg3ON</th>\n",
       "      <th>AVpftikC1cnluZ0-p31V</th>\n",
       "      <th>AVpftymALJeJML43CZ6y</th>\n",
       "      <th>AVpfv4TlilAPnD_xhjNS</th>\n",
       "      <th>AVpfvieo1cnluZ0-qdnu</th>\n",
       "    </tr>\n",
       "    <tr>\n",
       "      <th>reviews_username</th>\n",
       "      <th></th>\n",
       "      <th></th>\n",
       "      <th></th>\n",
       "      <th></th>\n",
       "      <th></th>\n",
       "      <th></th>\n",
       "      <th></th>\n",
       "      <th></th>\n",
       "      <th></th>\n",
       "      <th></th>\n",
       "      <th></th>\n",
       "      <th></th>\n",
       "      <th></th>\n",
       "      <th></th>\n",
       "      <th></th>\n",
       "      <th></th>\n",
       "      <th></th>\n",
       "      <th></th>\n",
       "      <th></th>\n",
       "      <th></th>\n",
       "      <th></th>\n",
       "    </tr>\n",
       "  </thead>\n",
       "  <tbody>\n",
       "    <tr>\n",
       "      <th>00dog3</th>\n",
       "      <td>0.0</td>\n",
       "      <td>0.0</td>\n",
       "      <td>0.000000</td>\n",
       "      <td>0.013946</td>\n",
       "      <td>0.0</td>\n",
       "      <td>0.0</td>\n",
       "      <td>0.0</td>\n",
       "      <td>0.0</td>\n",
       "      <td>0.0</td>\n",
       "      <td>0.000000</td>\n",
       "      <td>...</td>\n",
       "      <td>0.000000</td>\n",
       "      <td>0.0</td>\n",
       "      <td>0.0</td>\n",
       "      <td>0.0</td>\n",
       "      <td>0.0</td>\n",
       "      <td>0.000000</td>\n",
       "      <td>0.000000</td>\n",
       "      <td>0.0</td>\n",
       "      <td>0.000000</td>\n",
       "      <td>0.0</td>\n",
       "    </tr>\n",
       "    <tr>\n",
       "      <th>00sab00</th>\n",
       "      <td>0.0</td>\n",
       "      <td>0.0</td>\n",
       "      <td>0.000000</td>\n",
       "      <td>0.000622</td>\n",
       "      <td>0.0</td>\n",
       "      <td>0.0</td>\n",
       "      <td>0.0</td>\n",
       "      <td>0.0</td>\n",
       "      <td>0.0</td>\n",
       "      <td>0.004400</td>\n",
       "      <td>...</td>\n",
       "      <td>0.008822</td>\n",
       "      <td>0.0</td>\n",
       "      <td>0.0</td>\n",
       "      <td>0.0</td>\n",
       "      <td>0.0</td>\n",
       "      <td>0.023175</td>\n",
       "      <td>0.004475</td>\n",
       "      <td>0.0</td>\n",
       "      <td>0.030455</td>\n",
       "      <td>0.0</td>\n",
       "    </tr>\n",
       "    <tr>\n",
       "      <th>01impala</th>\n",
       "      <td>0.0</td>\n",
       "      <td>0.0</td>\n",
       "      <td>0.009304</td>\n",
       "      <td>0.000000</td>\n",
       "      <td>0.0</td>\n",
       "      <td>0.0</td>\n",
       "      <td>0.0</td>\n",
       "      <td>0.0</td>\n",
       "      <td>0.0</td>\n",
       "      <td>0.004260</td>\n",
       "      <td>...</td>\n",
       "      <td>0.000000</td>\n",
       "      <td>0.0</td>\n",
       "      <td>0.0</td>\n",
       "      <td>0.0</td>\n",
       "      <td>0.0</td>\n",
       "      <td>0.000000</td>\n",
       "      <td>0.000000</td>\n",
       "      <td>0.0</td>\n",
       "      <td>0.000000</td>\n",
       "      <td>0.0</td>\n",
       "    </tr>\n",
       "    <tr>\n",
       "      <th>02dakota</th>\n",
       "      <td>0.0</td>\n",
       "      <td>0.0</td>\n",
       "      <td>0.015507</td>\n",
       "      <td>0.000000</td>\n",
       "      <td>0.0</td>\n",
       "      <td>0.0</td>\n",
       "      <td>0.0</td>\n",
       "      <td>0.0</td>\n",
       "      <td>0.0</td>\n",
       "      <td>0.007101</td>\n",
       "      <td>...</td>\n",
       "      <td>0.000000</td>\n",
       "      <td>0.0</td>\n",
       "      <td>0.0</td>\n",
       "      <td>0.0</td>\n",
       "      <td>0.0</td>\n",
       "      <td>0.000000</td>\n",
       "      <td>0.000000</td>\n",
       "      <td>0.0</td>\n",
       "      <td>0.000000</td>\n",
       "      <td>0.0</td>\n",
       "    </tr>\n",
       "    <tr>\n",
       "      <th>02deuce</th>\n",
       "      <td>0.0</td>\n",
       "      <td>0.0</td>\n",
       "      <td>0.012405</td>\n",
       "      <td>0.000000</td>\n",
       "      <td>0.0</td>\n",
       "      <td>0.0</td>\n",
       "      <td>0.0</td>\n",
       "      <td>0.0</td>\n",
       "      <td>0.0</td>\n",
       "      <td>0.005680</td>\n",
       "      <td>...</td>\n",
       "      <td>0.000000</td>\n",
       "      <td>0.0</td>\n",
       "      <td>0.0</td>\n",
       "      <td>0.0</td>\n",
       "      <td>0.0</td>\n",
       "      <td>0.000000</td>\n",
       "      <td>0.000000</td>\n",
       "      <td>0.0</td>\n",
       "      <td>0.000000</td>\n",
       "      <td>0.0</td>\n",
       "    </tr>\n",
       "  </tbody>\n",
       "</table>\n",
       "<p>5 rows × 271 columns</p>\n",
       "</div>"
      ],
      "text/plain": [
       "id                AV13O1A8GV-KLJ3akUyj  AV14LG0R-jtxr-f38QfS  \\\n",
       "reviews_username                                               \n",
       "00dog3                             0.0                   0.0   \n",
       "00sab00                            0.0                   0.0   \n",
       "01impala                           0.0                   0.0   \n",
       "02dakota                           0.0                   0.0   \n",
       "02deuce                            0.0                   0.0   \n",
       "\n",
       "id                AV16khLE-jtxr-f38VFn  AV1YGDqsGV-KLJ3adc-O  \\\n",
       "reviews_username                                               \n",
       "00dog3                        0.000000              0.013946   \n",
       "00sab00                       0.000000              0.000622   \n",
       "01impala                      0.009304              0.000000   \n",
       "02dakota                      0.015507              0.000000   \n",
       "02deuce                       0.012405              0.000000   \n",
       "\n",
       "id                AV1YIch7GV-KLJ3addeG  AV1YlENIglJLPUi8IHsX  \\\n",
       "reviews_username                                               \n",
       "00dog3                             0.0                   0.0   \n",
       "00sab00                            0.0                   0.0   \n",
       "01impala                           0.0                   0.0   \n",
       "02dakota                           0.0                   0.0   \n",
       "02deuce                            0.0                   0.0   \n",
       "\n",
       "id                AV1YmBrdGV-KLJ3adewb  AV1YmDL9vKc47QAVgr7_  \\\n",
       "reviews_username                                               \n",
       "00dog3                             0.0                   0.0   \n",
       "00sab00                            0.0                   0.0   \n",
       "01impala                           0.0                   0.0   \n",
       "02dakota                           0.0                   0.0   \n",
       "02deuce                            0.0                   0.0   \n",
       "\n",
       "id                AV1Ymf_rglJLPUi8II2v  AV1Yn94nvKc47QAVgtst  ...  \\\n",
       "reviews_username                                              ...   \n",
       "00dog3                             0.0              0.000000  ...   \n",
       "00sab00                            0.0              0.004400  ...   \n",
       "01impala                           0.0              0.004260  ...   \n",
       "02dakota                           0.0              0.007101  ...   \n",
       "02deuce                            0.0              0.005680  ...   \n",
       "\n",
       "id                AVpfrfHF1cnluZ0-pRai  AVpfrgjFLJeJML43BvCc  \\\n",
       "reviews_username                                               \n",
       "00dog3                        0.000000                   0.0   \n",
       "00sab00                       0.008822                   0.0   \n",
       "01impala                      0.000000                   0.0   \n",
       "02dakota                      0.000000                   0.0   \n",
       "02deuce                       0.000000                   0.0   \n",
       "\n",
       "id                AVpfs0tUilAPnD_xgqN2  AVpfsQoeilAPnD_xgfx5  \\\n",
       "reviews_username                                               \n",
       "00dog3                             0.0                   0.0   \n",
       "00sab00                            0.0                   0.0   \n",
       "01impala                           0.0                   0.0   \n",
       "02dakota                           0.0                   0.0   \n",
       "02deuce                            0.0                   0.0   \n",
       "\n",
       "id                AVpfshNsLJeJML43CB8q  AVpfthSailAPnD_xg3ON  \\\n",
       "reviews_username                                               \n",
       "00dog3                             0.0              0.000000   \n",
       "00sab00                            0.0              0.023175   \n",
       "01impala                           0.0              0.000000   \n",
       "02dakota                           0.0              0.000000   \n",
       "02deuce                            0.0              0.000000   \n",
       "\n",
       "id                AVpftikC1cnluZ0-p31V  AVpftymALJeJML43CZ6y  \\\n",
       "reviews_username                                               \n",
       "00dog3                        0.000000                   0.0   \n",
       "00sab00                       0.004475                   0.0   \n",
       "01impala                      0.000000                   0.0   \n",
       "02dakota                      0.000000                   0.0   \n",
       "02deuce                       0.000000                   0.0   \n",
       "\n",
       "id                AVpfv4TlilAPnD_xhjNS  AVpfvieo1cnluZ0-qdnu  \n",
       "reviews_username                                              \n",
       "00dog3                        0.000000                   0.0  \n",
       "00sab00                       0.030455                   0.0  \n",
       "01impala                      0.000000                   0.0  \n",
       "02dakota                      0.000000                   0.0  \n",
       "02deuce                       0.000000                   0.0  \n",
       "\n",
       "[5 rows x 271 columns]"
      ]
     },
     "execution_count": 40,
     "metadata": {},
     "output_type": "execute_result"
    }
   ],
   "source": [
    "item_final_rating = np.multiply(item_predicted_ratings,dummy_df)\n",
    "item_final_rating.head()"
   ]
  },
  {
   "cell_type": "code",
   "execution_count": null,
   "metadata": {
    "executionInfo": {
     "elapsed": 9,
     "status": "ok",
     "timestamp": 1631272367472,
     "user": {
      "displayName": "Shilpa Garg",
      "photoUrl": "https://lh3.googleusercontent.com/a/default-user=s64",
      "userId": "12607333565625535618"
     },
     "user_tz": -330
    },
    "id": "jXclM5a7EC-d"
   },
   "outputs": [],
   "source": []
  },
  {
   "cell_type": "markdown",
   "metadata": {
    "id": "zO_gED0IEE-m"
   },
   "source": [
    "### Finding the top 20 recommendation for the *user*\n",
    "\n"
   ]
  },
  {
   "cell_type": "code",
   "execution_count": 41,
   "metadata": {
    "colab": {
     "base_uri": "https://localhost:8080/"
    },
    "executionInfo": {
     "elapsed": 7,
     "status": "ok",
     "timestamp": 1631272369519,
     "user": {
      "displayName": "Shilpa Garg",
      "photoUrl": "https://lh3.googleusercontent.com/a/default-user=s64",
      "userId": "12607333565625535618"
     },
     "user_tz": -330
    },
    "id": "-cCOu2jPEFT3",
    "outputId": "95b102f6-4df6-4816-8f0f-ec4752de6fe2"
   },
   "outputs": [
    {
     "name": "stdout",
     "output_type": "stream",
     "text": [
      "laura\n"
     ]
    }
   ],
   "source": [
    "# Take the user ID as input\n",
    "user_input = \"laura\"\n",
    "print(user_input)"
   ]
  },
  {
   "cell_type": "code",
   "execution_count": 42,
   "metadata": {
    "colab": {
     "base_uri": "https://localhost:8080/"
    },
    "executionInfo": {
     "elapsed": 431,
     "status": "ok",
     "timestamp": 1631272373033,
     "user": {
      "displayName": "Shilpa Garg",
      "photoUrl": "https://lh3.googleusercontent.com/a/default-user=s64",
      "userId": "12607333565625535618"
     },
     "user_tz": -330
    },
    "id": "pJe1H1e3EHCj",
    "outputId": "d340855f-75af-40c8-a683-b1336439c38e"
   },
   "outputs": [
    {
     "data": {
      "text/plain": [
       "id\n",
       "AV1ZT7GLglJLPUi8IQLI    0.566389\n",
       "AVpfE7puilAPnD_xUcCW    0.455286\n",
       "AVpfkQkcLJeJML43_kEC    0.356089\n",
       "AVpfOmKwLJeJML435GM7    0.212587\n",
       "AVpfr5cb1cnluZ0-pZFp    0.208965\n",
       "AVpfNc9cLJeJML434tza    0.194936\n",
       "AVpfM_ytilAPnD_xXIJb    0.180636\n",
       "AVpe5Mv4ilAPnD_xQQyy    0.156883\n",
       "AVpe41TqilAPnD_xQH3d    0.119536\n",
       "AVpe9W4D1cnluZ0-avf0    0.113605\n",
       "AVpfrTyiLJeJML43BrSI    0.108725\n",
       "AVpfRTh1ilAPnD_xYic2    0.092004\n",
       "AVpf0pfrilAPnD_xi6s_    0.086800\n",
       "AVpf4WWN1cnluZ0-s7Wj    0.080472\n",
       "AVpfoSS51cnluZ0-oVH9    0.076966\n",
       "AVpe8q4T1cnluZ0-afct    0.060943\n",
       "AVpfR5m0LJeJML436K3W    0.055811\n",
       "AVpfBU2S1cnluZ0-cJsO    0.055556\n",
       "AVpfcu821cnluZ0-k8ep    0.051138\n",
       "AVpe_5U_ilAPnD_xSrxG    0.049429\n",
       "Name: laura, dtype: float64"
      ]
     },
     "execution_count": 42,
     "metadata": {},
     "output_type": "execute_result"
    }
   ],
   "source": [
    "# Recommending the Top 20 products to the user.\n",
    "d = item_final_rating.loc[user_input].sort_values(ascending=False)[0:20]\n",
    "d"
   ]
  },
  {
   "cell_type": "markdown",
   "metadata": {
    "id": "98xmZkz8pqLZ"
   },
   "source": [
    "# Loading the saved model from pkl file "
   ]
  },
  {
   "cell_type": "code",
   "execution_count": 43,
   "metadata": {
    "executionInfo": {
     "elapsed": 718,
     "status": "ok",
     "timestamp": 1631272382346,
     "user": {
      "displayName": "Shilpa Garg",
      "photoUrl": "https://lh3.googleusercontent.com/a/default-user=s64",
      "userId": "12607333565625535618"
     },
     "user_tz": -330
    },
    "id": "Pa8pu9ICGRrk"
   },
   "outputs": [
    {
     "name": "stderr",
     "output_type": "stream",
     "text": [
      "C:\\Users\\LPT-2347\\anaconda3\\lib\\site-packages\\sklearn\\base.py:310: UserWarning: Trying to unpickle estimator LogisticRegression from version 0.22.2.post1 when using version 0.24.1. This might lead to breaking code or invalid results. Use at your own risk.\n",
      "  warnings.warn(\n"
     ]
    }
   ],
   "source": [
    "# Load the model from the file \n",
    "import joblib\n",
    "\n",
    "sentiment_analysis = joblib.load('models/sentiment_analysis.pkl')\n",
    "#sentiment_analysis = joblib.load('/content/gdrive/MyDrive/MyCapstone (1)/models/sentiment_analysis.pkl')"
   ]
  },
  {
   "cell_type": "code",
   "execution_count": 44,
   "metadata": {
    "executionInfo": {
     "elapsed": 9,
     "status": "ok",
     "timestamp": 1631272382962,
     "user": {
      "displayName": "Shilpa Garg",
      "photoUrl": "https://lh3.googleusercontent.com/a/default-user=s64",
      "userId": "12607333565625535618"
     },
     "user_tz": -330
    },
    "id": "qzFZMhTskuD0"
   },
   "outputs": [],
   "source": [
    "from scipy.sparse import hstack\n",
    "from sklearn.feature_extraction.text import TfidfVectorizer"
   ]
  },
  {
   "cell_type": "code",
   "execution_count": 45,
   "metadata": {
    "executionInfo": {
     "elapsed": 8,
     "status": "ok",
     "timestamp": 1631272383580,
     "user": {
      "displayName": "Shilpa Garg",
      "photoUrl": "https://lh3.googleusercontent.com/a/default-user=s64",
      "userId": "12607333565625535618"
     },
     "user_tz": -330
    },
    "id": "paOkquLCqlZ6"
   },
   "outputs": [],
   "source": [
    "## Replacing NAN values with blank from reviews_title field\n",
    "df_org.reviews_title = df_org.reviews_title.fillna('')"
   ]
  },
  {
   "cell_type": "code",
   "execution_count": 46,
   "metadata": {
    "executionInfo": {
     "elapsed": 7,
     "status": "ok",
     "timestamp": 1631272385541,
     "user": {
      "displayName": "Shilpa Garg",
      "photoUrl": "https://lh3.googleusercontent.com/a/default-user=s64",
      "userId": "12607333565625535618"
     },
     "user_tz": -330
    },
    "id": "Ow9MMxKRCQfz"
   },
   "outputs": [],
   "source": [
    "all_text=df_org['reviews_title']+\" \"+df_org['reviews_text']"
   ]
  },
  {
   "cell_type": "code",
   "execution_count": 47,
   "metadata": {
    "colab": {
     "base_uri": "https://localhost:8080/"
    },
    "executionInfo": {
     "elapsed": 1093,
     "status": "ok",
     "timestamp": 1631272387265,
     "user": {
      "displayName": "Shilpa Garg",
      "photoUrl": "https://lh3.googleusercontent.com/a/default-user=s64",
      "userId": "12607333565625535618"
     },
     "user_tz": -330
    },
    "id": "bQBZj2PxjzqA",
    "outputId": "749f76a8-3587-467a-9e28-937fdadd8bb8"
   },
   "outputs": [
    {
     "data": {
      "text/plain": [
       "TfidfVectorizer(max_features=10000, stop_words='english',\n",
       "                strip_accents='unicode', sublinear_tf=True,\n",
       "                token_pattern='\\\\w{1,}')"
      ]
     },
     "execution_count": 47,
     "metadata": {},
     "output_type": "execute_result"
    }
   ],
   "source": [
    "word_vectorizer = TfidfVectorizer(\n",
    "    sublinear_tf=True,\n",
    "    strip_accents='unicode',\n",
    "    analyzer='word',\n",
    "    token_pattern=r'\\w{1,}',\n",
    "    stop_words='english',\n",
    "    ngram_range=(1, 1),\n",
    "    max_features=10000)\n",
    "word_vectorizer.fit(all_text)"
   ]
  },
  {
   "cell_type": "code",
   "execution_count": 48,
   "metadata": {
    "colab": {
     "base_uri": "https://localhost:8080/"
    },
    "executionInfo": {
     "elapsed": 27741,
     "status": "ok",
     "timestamp": 1631272414996,
     "user": {
      "displayName": "Shilpa Garg",
      "photoUrl": "https://lh3.googleusercontent.com/a/default-user=s64",
      "userId": "12607333565625535618"
     },
     "user_tz": -330
    },
    "id": "UzUvX5cdjuxN",
    "outputId": "1b73b19e-36ae-406e-deaa-0baa88bef17e"
   },
   "outputs": [
    {
     "name": "stderr",
     "output_type": "stream",
     "text": [
      "C:\\Users\\LPT-2347\\anaconda3\\lib\\site-packages\\sklearn\\feature_extraction\\text.py:502: UserWarning: The parameter 'stop_words' will not be used since 'analyzer' != 'word'\n",
      "  warnings.warn(\"The parameter 'stop_words' will not be used\"\n"
     ]
    },
    {
     "data": {
      "text/plain": [
       "TfidfVectorizer(analyzer='char', max_features=50000, ngram_range=(2, 6),\n",
       "                stop_words='english', strip_accents='unicode',\n",
       "                sublinear_tf=True)"
      ]
     },
     "execution_count": 48,
     "metadata": {},
     "output_type": "execute_result"
    }
   ],
   "source": [
    "char_vectorizer = TfidfVectorizer(\n",
    "    sublinear_tf=True,\n",
    "    strip_accents='unicode',\n",
    "    analyzer='char',\n",
    "    stop_words='english',\n",
    "    ngram_range=(2, 6),\n",
    "    max_features=50000)\n",
    "char_vectorizer.fit(all_text)"
   ]
  },
  {
   "cell_type": "markdown",
   "metadata": {
    "id": "AreI-PqhIBI0"
   },
   "source": [
    "# Getting the top 5 products for user recommendation out of 20"
   ]
  },
  {
   "cell_type": "code",
   "execution_count": 49,
   "metadata": {
    "executionInfo": {
     "elapsed": 593,
     "status": "ok",
     "timestamp": 1631272419226,
     "user": {
      "displayName": "Shilpa Garg",
      "photoUrl": "https://lh3.googleusercontent.com/a/default-user=s64",
      "userId": "12607333565625535618"
     },
     "user_tz": -330
    },
    "id": "4PvxyMIfLRWv",
    "scrolled": false
   },
   "outputs": [],
   "source": [
    "def getTopItemsFromModel(recommendItems) :\n",
    "    resultDict = {}\n",
    "    for id,predRating in recommendItems.items() :\n",
    "        #print('index: ', id, 'value: ', predRating)\n",
    "        item_text=df_org.reviews_text[df_org.id == id]\n",
    "        train_word_features = word_vectorizer.transform(item_text)\n",
    "        train_char_features = char_vectorizer.transform(item_text)\n",
    "        item_features = hstack([train_char_features, train_word_features])\n",
    "        result = sentiment_analysis.predict(item_features)\n",
    "        #print(\"Item name\",df_org.name[df_org.id == id][0:1])\n",
    "        #print(len(result))\n",
    "        positivePercent = round(((len(result[result == 'Positive'])/len(result))*100),2)\n",
    "        #print(\"%age\",positivePercent,\"%\")\n",
    "        resultDict[id] = positivePercent\n",
    "    return resultDict\n",
    "  "
   ]
  },
  {
   "cell_type": "code",
   "execution_count": 50,
   "metadata": {
    "executionInfo": {
     "elapsed": 388,
     "status": "ok",
     "timestamp": 1631272610142,
     "user": {
      "displayName": "Shilpa Garg",
      "photoUrl": "https://lh3.googleusercontent.com/a/default-user=s64",
      "userId": "12607333565625535618"
     },
     "user_tz": -330
    },
    "id": "DQXyMRMLEzjY"
   },
   "outputs": [],
   "source": [
    "def getItemsForUser(userName)  :\n",
    "    print(userName)\n",
    "    finalList = []\n",
    "    #Handling for user not present in dataset\n",
    "    if(userName not in df2['reviews_username'].tolist()) :\n",
    "        return(\"User not found in dataset\")\n",
    "    items = item_final_rating.loc[userName].sort_values(ascending=False)[0:20]\n",
    "    resultDict = getTopItemsFromModel(items)\n",
    "    #print(resultDict)\n",
    "    sorted_result = sorted(resultDict.items(), key=lambda x: x[1],reverse=True)\n",
    "    print(sorted_result[0:5])\n",
    "    for key,item in sorted_result[0:5] :\n",
    "        finalList.append(df_org.name[df_org.id == key][0:1].values[0])\n",
    "    return(finalList)"
   ]
  },
  {
   "cell_type": "code",
   "execution_count": 57,
   "metadata": {
    "colab": {
     "base_uri": "https://localhost:8080/"
    },
    "executionInfo": {
     "elapsed": 3798,
     "status": "ok",
     "timestamp": 1631272633827,
     "user": {
      "displayName": "Shilpa Garg",
      "photoUrl": "https://lh3.googleusercontent.com/a/default-user=s64",
      "userId": "12607333565625535618"
     },
     "user_tz": -330
    },
    "id": "OoAzjnjMFDqe",
    "outputId": "88e1829e-abfb-4921-ad34-be78bd84bd97",
    "scrolled": true
   },
   "outputs": [],
   "source": [
    "#outputList = getItemsForUser('laura')\n",
    "#print(\"--------------\")\n",
    "#print(outputList)"
   ]
  },
  {
   "cell_type": "code",
   "execution_count": null,
   "metadata": {
    "id": "mOKAyNnYIks9"
   },
   "outputs": [],
   "source": []
  },
  {
   "cell_type": "code",
   "execution_count": null,
   "metadata": {},
   "outputs": [],
   "source": []
  },
  {
   "cell_type": "code",
   "execution_count": null,
   "metadata": {},
   "outputs": [],
   "source": []
  }
 ],
 "metadata": {
  "colab": {
   "collapsed_sections": [],
   "name": "SelectedRecommendationSystem.ipynb",
   "provenance": []
  },
  "kernelspec": {
   "display_name": "Python 3",
   "language": "python",
   "name": "python3"
  },
  "language_info": {
   "codemirror_mode": {
    "name": "ipython",
    "version": 3
   },
   "file_extension": ".py",
   "mimetype": "text/x-python",
   "name": "python",
   "nbconvert_exporter": "python",
   "pygments_lexer": "ipython3",
   "version": "3.8.8"
  }
 },
 "nbformat": 4,
 "nbformat_minor": 1
}
